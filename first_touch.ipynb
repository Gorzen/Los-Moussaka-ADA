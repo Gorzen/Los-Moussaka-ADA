{
 "cells": [
  {
   "cell_type": "code",
   "execution_count": 1,
   "metadata": {},
   "outputs": [],
   "source": [
    "import numpy as np\n",
    "import pandas as pd\n",
    "import pickle\n",
    "import matplotlib.pyplot as plt"
   ]
  },
  {
   "cell_type": "code",
   "execution_count": 2,
   "metadata": {},
   "outputs": [],
   "source": [
    "REVIEWS_FILE = \"./data/Grocery_and_Gourmet_Food.json\""
   ]
  },
  {
   "cell_type": "code",
   "execution_count": 3,
   "metadata": {},
   "outputs": [],
   "source": [
    "def load_pickle(pickle_path):\n",
    "    with open(pickle_path, 'rb') as file:\n",
    "        return pickle.load(file)"
   ]
  },
  {
   "cell_type": "code",
   "execution_count": 4,
   "metadata": {},
   "outputs": [],
   "source": [
    "def save_pickle(result, pickle_path):\n",
    "    with open(pickle_path, 'wb') as file:\n",
    "        pickle.dump(result, file)"
   ]
  },
  {
   "cell_type": "code",
   "execution_count": 5,
   "metadata": {},
   "outputs": [],
   "source": [
    "def read_reviews(path=REVIEWS_FILE, pickle_path=\"./temp/reviews\"):\n",
    "    try:\n",
    "        return load_pickle(pickle_path)\n",
    "    except (FileNotFoundError, EOFError) as e:\n",
    "        reviews = pd.read_json(REVIEWS_FILE, lines=True)\n",
    "        save_pickle(reviews, pickle_path)\n",
    "        return reviews"
   ]
  },
  {
   "cell_type": "code",
   "execution_count": 38,
   "metadata": {},
   "outputs": [],
   "source": [
    "def format_reviews(reviews):\n",
    "    reviews[\"overall\"] = reviews[\"overall\"].astype(int)\n",
    "    reviews[\"verified\"] = reviews[\"verified\"].astype(bool)\n",
    "    #reviews[\"reviewTime\"] = pd.to_datetime(reviews[\"reviewTime\"])\n",
    "    reviews[\"reviewerID\"] = reviews[\"reviewerID\"].astype(str)\n",
    "    reviews[\"asin\"] = reviews[\"asin\"].astype(str)\n",
    "    reviews[\"reviewerName\"] = reviews[\"reviewerName\"].astype(str)\n",
    "    reviews[\"reviewText\"] = reviews[\"reviewText\"].astype(str)\n",
    "    reviews[\"summary\"] = reviews[\"summary\"].astype(str)\n",
    "    reviews[\"unixReviewTime\"] = reviews[\"unixReviewTime\"].astype(int)\n",
    "    reviews[\"vote\"] = reviews[\"vote\"].astype(str)\n",
    "    reviews[\"image\"] = reviews[\"image\"].astype(str)\n",
    "    reviews[\"style\"] = reviews[\"style\"].astype(str)"
   ]
  },
  {
   "cell_type": "code",
   "execution_count": 40,
   "metadata": {},
   "outputs": [],
   "source": [
    "reviews = read_reviews()"
   ]
  },
  {
   "cell_type": "code",
   "execution_count": 41,
   "metadata": {},
   "outputs": [],
   "source": [
    "reviews = format_reviews(reviews)"
   ]
  },
  {
   "cell_type": "code",
   "execution_count": 43,
   "metadata": {},
   "outputs": [],
   "source": [
    "reviews"
   ]
  },
  {
   "cell_type": "code",
   "execution_count": null,
   "metadata": {},
   "outputs": [],
   "source": []
  },
  {
   "cell_type": "code",
   "execution_count": 17,
   "metadata": {},
   "outputs": [],
   "source": [
    "reviews[\"image\"] = reviews[\"image\"].astype(str)"
   ]
  },
  {
   "cell_type": "code",
   "execution_count": 25,
   "metadata": {},
   "outputs": [
    {
     "data": {
      "text/plain": [
       "\"['https://images-na.ssl-images-amazon.com/images/I/71JD6Z0vIkL._SY88.jpg']\""
      ]
     },
     "execution_count": 25,
     "metadata": {},
     "output_type": "execute_result"
    }
   ],
   "source": [
    "reviews[~(reviews[\"image\"] == \"nan\")][\"image\"]"
   ]
  },
  {
   "cell_type": "code",
   "execution_count": null,
   "metadata": {},
   "outputs": [],
   "source": []
  }
 ],
 "metadata": {
  "kernelspec": {
   "display_name": "Python 3",
   "language": "python",
   "name": "python3"
  },
  "language_info": {
   "codemirror_mode": {
    "name": "ipython",
    "version": 3
   },
   "file_extension": ".py",
   "mimetype": "text/x-python",
   "name": "python",
   "nbconvert_exporter": "python",
   "pygments_lexer": "ipython3",
   "version": "3.7.4"
  }
 },
 "nbformat": 4,
 "nbformat_minor": 4
}
