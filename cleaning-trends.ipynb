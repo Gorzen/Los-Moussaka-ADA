{
 "cells": [
  {
   "cell_type": "code",
   "execution_count": 1,
   "metadata": {},
   "outputs": [],
   "source": [
    "import json\n",
    "from pprint import pprint\n",
    "import numpy as np\n",
    "import pandas as pd\n",
    "import matplotlib.pyplot as plt"
   ]
  },
  {
   "cell_type": "code",
   "execution_count": 4,
   "metadata": {},
   "outputs": [],
   "source": [
    "import json\n",
    "from pprint import pprint\n",
    "\n",
    "with open('Grocery_and_Gourmet_Food.json') as f:\n",
    "    data = json.loads(\"[\" + \n",
    "        f.read().replace(\"}\\n{\", \"},\\n{\") + \n",
    "    \"]\")\n",
    "\n",
    "dataset = pd.DataFrame(data)"
   ]
  },
  {
   "cell_type": "code",
   "execution_count": 5,
   "metadata": {},
   "outputs": [
    {
     "data": {
      "text/html": [
       "<div>\n",
       "<style scoped>\n",
       "    .dataframe tbody tr th:only-of-type {\n",
       "        vertical-align: middle;\n",
       "    }\n",
       "\n",
       "    .dataframe tbody tr th {\n",
       "        vertical-align: top;\n",
       "    }\n",
       "\n",
       "    .dataframe thead th {\n",
       "        text-align: right;\n",
       "    }\n",
       "</style>\n",
       "<table border=\"1\" class=\"dataframe\">\n",
       "  <thead>\n",
       "    <tr style=\"text-align: right;\">\n",
       "      <th></th>\n",
       "      <th>overall</th>\n",
       "      <th>verified</th>\n",
       "      <th>reviewTime</th>\n",
       "      <th>reviewerID</th>\n",
       "      <th>asin</th>\n",
       "      <th>reviewerName</th>\n",
       "      <th>reviewText</th>\n",
       "      <th>summary</th>\n",
       "      <th>unixReviewTime</th>\n",
       "      <th>vote</th>\n",
       "      <th>image</th>\n",
       "      <th>style</th>\n",
       "    </tr>\n",
       "  </thead>\n",
       "  <tbody>\n",
       "    <tr>\n",
       "      <td>0</td>\n",
       "      <td>5.0</td>\n",
       "      <td>True</td>\n",
       "      <td>06 4, 2013</td>\n",
       "      <td>ALP49FBWT4I7V</td>\n",
       "      <td>1888861614</td>\n",
       "      <td>Lori</td>\n",
       "      <td>Very pleased with my purchase. Looks exactly l...</td>\n",
       "      <td>Love it</td>\n",
       "      <td>1370304000</td>\n",
       "      <td>NaN</td>\n",
       "      <td>NaN</td>\n",
       "      <td>NaN</td>\n",
       "    </tr>\n",
       "    <tr>\n",
       "      <td>1</td>\n",
       "      <td>4.0</td>\n",
       "      <td>True</td>\n",
       "      <td>05 23, 2014</td>\n",
       "      <td>A1KPIZOCLB9FZ8</td>\n",
       "      <td>1888861614</td>\n",
       "      <td>BK Shopper</td>\n",
       "      <td>Very nicely crafted but too small. Am going to...</td>\n",
       "      <td>Nice but small</td>\n",
       "      <td>1400803200</td>\n",
       "      <td>NaN</td>\n",
       "      <td>NaN</td>\n",
       "      <td>NaN</td>\n",
       "    </tr>\n",
       "    <tr>\n",
       "      <td>2</td>\n",
       "      <td>4.0</td>\n",
       "      <td>True</td>\n",
       "      <td>05 9, 2014</td>\n",
       "      <td>A2W0FA06IYAYQE</td>\n",
       "      <td>1888861614</td>\n",
       "      <td>daninethequeen</td>\n",
       "      <td>still very pretty and well made...i am super p...</td>\n",
       "      <td>the \"s\" looks like a 5, kina</td>\n",
       "      <td>1399593600</td>\n",
       "      <td>NaN</td>\n",
       "      <td>NaN</td>\n",
       "      <td>NaN</td>\n",
       "    </tr>\n",
       "    <tr>\n",
       "      <td>3</td>\n",
       "      <td>5.0</td>\n",
       "      <td>True</td>\n",
       "      <td>04 20, 2014</td>\n",
       "      <td>A2PTZTCH2QUYBC</td>\n",
       "      <td>1888861614</td>\n",
       "      <td>Tammara</td>\n",
       "      <td>I got this for our wedding cake, and it was ev...</td>\n",
       "      <td>Would recommend this to a friend!</td>\n",
       "      <td>1397952000</td>\n",
       "      <td>NaN</td>\n",
       "      <td>NaN</td>\n",
       "      <td>NaN</td>\n",
       "    </tr>\n",
       "    <tr>\n",
       "      <td>4</td>\n",
       "      <td>4.0</td>\n",
       "      <td>True</td>\n",
       "      <td>04 16, 2014</td>\n",
       "      <td>A2VNHGJ59N4Z90</td>\n",
       "      <td>1888861614</td>\n",
       "      <td>LaQuinta Alexander</td>\n",
       "      <td>It was just what I want to put at the top of m...</td>\n",
       "      <td>Topper</td>\n",
       "      <td>1397606400</td>\n",
       "      <td>NaN</td>\n",
       "      <td>NaN</td>\n",
       "      <td>NaN</td>\n",
       "    </tr>\n",
       "  </tbody>\n",
       "</table>\n",
       "</div>"
      ],
      "text/plain": [
       "   overall  verified   reviewTime      reviewerID        asin  \\\n",
       "0      5.0      True   06 4, 2013   ALP49FBWT4I7V  1888861614   \n",
       "1      4.0      True  05 23, 2014  A1KPIZOCLB9FZ8  1888861614   \n",
       "2      4.0      True   05 9, 2014  A2W0FA06IYAYQE  1888861614   \n",
       "3      5.0      True  04 20, 2014  A2PTZTCH2QUYBC  1888861614   \n",
       "4      4.0      True  04 16, 2014  A2VNHGJ59N4Z90  1888861614   \n",
       "\n",
       "         reviewerName                                         reviewText  \\\n",
       "0                Lori  Very pleased with my purchase. Looks exactly l...   \n",
       "1          BK Shopper  Very nicely crafted but too small. Am going to...   \n",
       "2      daninethequeen  still very pretty and well made...i am super p...   \n",
       "3             Tammara  I got this for our wedding cake, and it was ev...   \n",
       "4  LaQuinta Alexander  It was just what I want to put at the top of m...   \n",
       "\n",
       "                             summary  unixReviewTime vote image style  \n",
       "0                            Love it      1370304000  NaN   NaN   NaN  \n",
       "1                     Nice but small      1400803200  NaN   NaN   NaN  \n",
       "2       the \"s\" looks like a 5, kina      1399593600  NaN   NaN   NaN  \n",
       "3  Would recommend this to a friend!      1397952000  NaN   NaN   NaN  \n",
       "4                             Topper      1397606400  NaN   NaN   NaN  "
      ]
     },
     "execution_count": 5,
     "metadata": {},
     "output_type": "execute_result"
    }
   ],
   "source": [
    "dataset.head()"
   ]
  },
  {
   "cell_type": "markdown",
   "metadata": {},
   "source": [
    "A small examplanion for each column:\n",
    "- overall - rating of the product\n",
    "- verified - verified \n",
    "- reviewTime - time of the review (raw)\n",
    "- reviewerID - ID of the reviewer\n",
    "- asin - ID of the product\n",
    "- reviewerName - name of the reviewer\n",
    "- reviewText - text of the review\n",
    "- summary - summary of the review\n",
    "- unixReviewTime - time of the review (unix time)\n",
    "- vote - helpful votes of the review (number of votes saying that review is useful)\n",
    "- image - image of the product\n",
    "- style - a disctionary of the product metadata\n",
    "\n"
   ]
  },
  {
   "cell_type": "markdown",
   "metadata": {},
   "source": [
    "**Lets fix the format of the reviewTime, Overall and Verified columns**"
   ]
  },
  {
   "cell_type": "code",
   "execution_count": 6,
   "metadata": {},
   "outputs": [],
   "source": [
    "def format_dataset(dataset):\n",
    "    dataset[\"overall\"] = dataset[\"overall\"].astype(int)\n",
    "    dataset[\"verified\"] = dataset[\"verified\"].astype(bool)\n",
    "\n",
    "    \n",
    "    # Cast reviewTime to date\n",
    "    dataset[\"reviewTime\"] = dataset[\"reviewTime\"].str.replace(\"^0\", \"\")\n",
    "    dataset[\"reviewTime\"] = pd.to_datetime(dataset[\"reviewTime\"], format=\"%m %d, %Y\")"
   ]
  },
  {
   "cell_type": "code",
   "execution_count": 7,
   "metadata": {},
   "outputs": [
    {
     "data": {
      "text/html": [
       "<div>\n",
       "<style scoped>\n",
       "    .dataframe tbody tr th:only-of-type {\n",
       "        vertical-align: middle;\n",
       "    }\n",
       "\n",
       "    .dataframe tbody tr th {\n",
       "        vertical-align: top;\n",
       "    }\n",
       "\n",
       "    .dataframe thead th {\n",
       "        text-align: right;\n",
       "    }\n",
       "</style>\n",
       "<table border=\"1\" class=\"dataframe\">\n",
       "  <thead>\n",
       "    <tr style=\"text-align: right;\">\n",
       "      <th></th>\n",
       "      <th>overall</th>\n",
       "      <th>verified</th>\n",
       "      <th>reviewTime</th>\n",
       "      <th>reviewerID</th>\n",
       "      <th>asin</th>\n",
       "      <th>reviewerName</th>\n",
       "      <th>reviewText</th>\n",
       "      <th>summary</th>\n",
       "      <th>unixReviewTime</th>\n",
       "      <th>vote</th>\n",
       "      <th>image</th>\n",
       "      <th>style</th>\n",
       "    </tr>\n",
       "  </thead>\n",
       "  <tbody>\n",
       "    <tr>\n",
       "      <td>0</td>\n",
       "      <td>5</td>\n",
       "      <td>True</td>\n",
       "      <td>2013-06-04</td>\n",
       "      <td>ALP49FBWT4I7V</td>\n",
       "      <td>1888861614</td>\n",
       "      <td>Lori</td>\n",
       "      <td>Very pleased with my purchase. Looks exactly l...</td>\n",
       "      <td>Love it</td>\n",
       "      <td>1370304000</td>\n",
       "      <td>NaN</td>\n",
       "      <td>NaN</td>\n",
       "      <td>NaN</td>\n",
       "    </tr>\n",
       "    <tr>\n",
       "      <td>1</td>\n",
       "      <td>4</td>\n",
       "      <td>True</td>\n",
       "      <td>2014-05-23</td>\n",
       "      <td>A1KPIZOCLB9FZ8</td>\n",
       "      <td>1888861614</td>\n",
       "      <td>BK Shopper</td>\n",
       "      <td>Very nicely crafted but too small. Am going to...</td>\n",
       "      <td>Nice but small</td>\n",
       "      <td>1400803200</td>\n",
       "      <td>NaN</td>\n",
       "      <td>NaN</td>\n",
       "      <td>NaN</td>\n",
       "    </tr>\n",
       "    <tr>\n",
       "      <td>2</td>\n",
       "      <td>4</td>\n",
       "      <td>True</td>\n",
       "      <td>2014-05-09</td>\n",
       "      <td>A2W0FA06IYAYQE</td>\n",
       "      <td>1888861614</td>\n",
       "      <td>daninethequeen</td>\n",
       "      <td>still very pretty and well made...i am super p...</td>\n",
       "      <td>the \"s\" looks like a 5, kina</td>\n",
       "      <td>1399593600</td>\n",
       "      <td>NaN</td>\n",
       "      <td>NaN</td>\n",
       "      <td>NaN</td>\n",
       "    </tr>\n",
       "    <tr>\n",
       "      <td>3</td>\n",
       "      <td>5</td>\n",
       "      <td>True</td>\n",
       "      <td>2014-04-20</td>\n",
       "      <td>A2PTZTCH2QUYBC</td>\n",
       "      <td>1888861614</td>\n",
       "      <td>Tammara</td>\n",
       "      <td>I got this for our wedding cake, and it was ev...</td>\n",
       "      <td>Would recommend this to a friend!</td>\n",
       "      <td>1397952000</td>\n",
       "      <td>NaN</td>\n",
       "      <td>NaN</td>\n",
       "      <td>NaN</td>\n",
       "    </tr>\n",
       "    <tr>\n",
       "      <td>4</td>\n",
       "      <td>4</td>\n",
       "      <td>True</td>\n",
       "      <td>2014-04-16</td>\n",
       "      <td>A2VNHGJ59N4Z90</td>\n",
       "      <td>1888861614</td>\n",
       "      <td>LaQuinta Alexander</td>\n",
       "      <td>It was just what I want to put at the top of m...</td>\n",
       "      <td>Topper</td>\n",
       "      <td>1397606400</td>\n",
       "      <td>NaN</td>\n",
       "      <td>NaN</td>\n",
       "      <td>NaN</td>\n",
       "    </tr>\n",
       "  </tbody>\n",
       "</table>\n",
       "</div>"
      ],
      "text/plain": [
       "   overall  verified reviewTime      reviewerID        asin  \\\n",
       "0        5      True 2013-06-04   ALP49FBWT4I7V  1888861614   \n",
       "1        4      True 2014-05-23  A1KPIZOCLB9FZ8  1888861614   \n",
       "2        4      True 2014-05-09  A2W0FA06IYAYQE  1888861614   \n",
       "3        5      True 2014-04-20  A2PTZTCH2QUYBC  1888861614   \n",
       "4        4      True 2014-04-16  A2VNHGJ59N4Z90  1888861614   \n",
       "\n",
       "         reviewerName                                         reviewText  \\\n",
       "0                Lori  Very pleased with my purchase. Looks exactly l...   \n",
       "1          BK Shopper  Very nicely crafted but too small. Am going to...   \n",
       "2      daninethequeen  still very pretty and well made...i am super p...   \n",
       "3             Tammara  I got this for our wedding cake, and it was ev...   \n",
       "4  LaQuinta Alexander  It was just what I want to put at the top of m...   \n",
       "\n",
       "                             summary  unixReviewTime vote image style  \n",
       "0                            Love it      1370304000  NaN   NaN   NaN  \n",
       "1                     Nice but small      1400803200  NaN   NaN   NaN  \n",
       "2       the \"s\" looks like a 5, kina      1399593600  NaN   NaN   NaN  \n",
       "3  Would recommend this to a friend!      1397952000  NaN   NaN   NaN  \n",
       "4                             Topper      1397606400  NaN   NaN   NaN  "
      ]
     },
     "execution_count": 7,
     "metadata": {},
     "output_type": "execute_result"
    }
   ],
   "source": [
    "#fix the format\n",
    "format_dataset(dataset)\n",
    "dataset.head()"
   ]
  },
  {
   "cell_type": "code",
   "execution_count": null,
   "metadata": {},
   "outputs": [],
   "source": []
  },
  {
   "cell_type": "markdown",
   "metadata": {},
   "source": [
    "# Data Analysis"
   ]
  },
  {
   "cell_type": "code",
   "execution_count": 8,
   "metadata": {},
   "outputs": [],
   "source": [
    "##extract year and month\n",
    "dataset['reviewYear'] = dataset['reviewTime'].map(lambda x: x.strftime('%Y'))\n",
    "dataset['reviewMonth'] = dataset['reviewTime'].map(lambda x: x.strftime('%m'))\n",
    "dataset['reviewMonth']=dataset[\"reviewMonth\"].astype(int)"
   ]
  },
  {
   "cell_type": "code",
   "execution_count": 9,
   "metadata": {},
   "outputs": [
    {
     "data": {
      "image/png": "[encoded data removed]",
      "text/plain": [
       "<Figure size 1080x648 with 1 Axes>"
      ]
     },
     "metadata": {
      "needs_background": "light"
     },
     "output_type": "display_data"
    }
   ],
   "source": [
    "##plot how many reviews we have for each year\n",
    "d = dataset[['overall','reviewYear']].copy()\n",
    "groupby_year = d.groupby('reviewYear').count()\n",
    "\n",
    "color = plt.cm.copper(np.linspace(0, 100, 150))\n",
    "groupby_year.sort_values(by=['reviewYear']).plot.bar(color = color, figsize = (15, 9))\n",
    "plt.title('Distribution of reviews during the years', fontsize = 20)\n",
    "plt.xlabel('year')\n",
    "plt.ylabel('number of reviews')\n",
    "plt.yscale(\"log\")\n",
    "plt.show()"
   ]
  },
  {
   "cell_type": "markdown",
   "metadata": {},
   "source": [
    "**During the years more and more people buy foods from amazon and put there review. We will try to go deeper to see what kind of food we bought and if it relevant with google trends**"
   ]
  },
  {
   "cell_type": "markdown",
   "metadata": {},
   "source": [
    "##  Healthy Food and Sweets Analysis "
   ]
  },
  {
   "cell_type": "code",
   "execution_count": 36,
   "metadata": {},
   "outputs": [],
   "source": [
    "##keep only the rows which dont have Nan values at summary and reviewText\n",
    "d=dataset[dataset[\"summary\"].notnull() | dataset[\"reviewText\"].notnull()]\n",
    "\n",
    "##the list of healthy vs sweets words\n",
    "healthy_food=[\"vegetarianism\",\"veganism\",\"organic\",\"healthy\",\"vegan\"]\n",
    "sweets=[\"sweet\",\"chocolate\",\"cake\",\"pancakes\",\"cheesacake\",\"Wafers\",\"cookies\",\"brownies\"]"
   ]
  },
  {
   "cell_type": "code",
   "execution_count": 37,
   "metadata": {},
   "outputs": [
    {
     "name": "stdout",
     "output_type": "stream",
     "text": [
      "healthy food:  193665\n",
      "Sweets:  549187\n"
     ]
    }
   ],
   "source": [
    "##new dataframe which contains only the trends words\n",
    "healthy_data=d[d[\"summary\"].str.contains('|'.join(healthy_food)) | d[\"reviewText\"].str.contains('|'.join(healthy_food))]\n",
    "sweets_data=d[d[\"summary\"].str.contains('|'.join(sweets)) | d[\"reviewText\"].str.contains('|'.join(sweets))]\n",
    "print(\"healthy food: \",healthy_data.shape[0])\n",
    "print(\"Sweets: \",sweets_data.shape[0])"
   ]
  },
  {
   "cell_type": "markdown",
   "metadata": {},
   "source": [
    "**lets go deeper during the years and months**"
   ]
  },
  {
   "cell_type": "code",
   "execution_count": 38,
   "metadata": {},
   "outputs": [
    {
     "data": {
      "image/png": "[encoded data removed]",
      "text/plain": [
       "<Figure size 1080x648 with 1 Axes>"
      ]
     },
     "metadata": {
      "needs_background": "light"
     },
     "output_type": "display_data"
    }
   ],
   "source": [
    "\n",
    "sweets_over_time = sweets_data.groupby('reviewYear').size()\n",
    "healthy_over_time = healthy_data.groupby('reviewYear').size()\n",
    "\n",
    "\n",
    "data_year = pd.DataFrame(sweets_over_time, columns=['sweets'])\n",
    "data_year['healthy food'] = pd.Series(healthy_over_time)\n",
    "\n",
    "data_year.plot.bar(figsize=(15, 9))\n",
    "plt.xlabel('year')\n",
    "plt.ylabel('number of foods')\n",
    "plt.yscale(\"log\")\n",
    "plt.xticks(fontsize=12)\n",
    "plt.yticks(fontsize=12)\n",
    "plt.legend(fontsize=12)\n",
    "_ = plt.title('Number of healthy food and sweets per year', fontsize=17)"
   ]
  },
  {
   "cell_type": "code",
   "execution_count": 39,
   "metadata": {},
   "outputs": [
    {
     "data": {
      "image/png": "[encoded data removed]",
      "text/plain": [
       "<Figure size 1080x648 with 1 Axes>"
      ]
     },
     "metadata": {
      "needs_background": "light"
     },
     "output_type": "display_data"
    }
   ],
   "source": [
    "sweets_over_time = sweets_data.groupby('reviewMonth').size()\n",
    "healthy_over_time = healthy_data.groupby('reviewMonth').size()\n",
    "\n",
    "\n",
    "data_month = pd.DataFrame(sweets_over_time, columns=['sweets'])\n",
    "data_month['healthy food'] = pd.Series(healthy_over_time)\n",
    "\n",
    "data_month.plot.bar(figsize=(15, 9))\n",
    "plt.xlabel('month')\n",
    "plt.ylabel('number of foods')\n",
    "plt.yscale(\"log\")\n",
    "plt.xticks(fontsize=12)\n",
    "plt.yticks(fontsize=12)\n",
    "plt.legend(fontsize=12)\n",
    "_ = plt.title('Number of healthy food and sweets per month', fontsize=17)"
   ]
  },
  {
   "cell_type": "code",
   "execution_count": null,
   "metadata": {},
   "outputs": [],
   "source": []
  },
  {
   "cell_type": "markdown",
   "metadata": {},
   "source": [
    "## holidays - Celebrations"
   ]
  },
  {
   "cell_type": "markdown",
   "metadata": {},
   "source": [
    "**We will check the following holidays-celebrations:**\n",
    "- summer \n",
    "- easter \n",
    "- Chistmas \n",
    "- halloween \n",
    "- black friday \n",
    "- birthday \n",
    "- anniversary \n",
    "- valentines day \n",
    "- wedding \n",
    "- thanksgiving "
   ]
  },
  {
   "cell_type": "code",
   "execution_count": 34,
   "metadata": {},
   "outputs": [],
   "source": [
    "##the list of holidays words\n",
    "holidays=[\"summer\",\"easter\",\"Chistmas\",\"halloween\",\"black friday\",\"birthday\",\"anniversary\",\"valentines day\",\"wedding\", \"thanksgiving\"]"
   ]
  },
  {
   "cell_type": "code",
   "execution_count": 35,
   "metadata": {},
   "outputs": [
    {
     "name": "stdout",
     "output_type": "stream",
     "text": [
      "summer 17767\n",
      "easter 1463\n",
      "Chistmas 29\n",
      "halloween 871\n",
      "black friday 16\n",
      "birthday 26969\n",
      "anniversary 1300\n",
      "valentines day 429\n",
      "wedding 11213\n",
      "thanksgiving 480\n"
     ]
    }
   ],
   "source": [
    "##lets focus on the trends list and check exactly how many rows have each of the trend\n",
    "for i in holidays:\n",
    "    print(i,d[d[\"summary\"].str.contains(str(i)) | d[\"reviewText\"].str.contains(str(i))].shape[0])"
   ]
  },
  {
   "cell_type": "markdown",
   "metadata": {},
   "source": [
    "**Lets focus more on the birthday, summer, easter, anniversary, wedding during the years and months**"
   ]
  },
  {
   "cell_type": "code",
   "execution_count": 41,
   "metadata": {},
   "outputs": [],
   "source": [
    "summer = d[d[\"summary\"].str.contains(str(\"summer\")) | d[\"reviewText\"].str.contains(str(\"summer\"))]\n",
    "easter = d[d[\"summary\"].str.contains(str(\"easter\")) | d[\"reviewText\"].str.contains(str(\"easter\"))]\n",
    "anniversary = d[d[\"summary\"].str.contains(str(\"anniversary\")) | d[\"reviewText\"].str.contains(str(\"anniversary\"))]\n",
    "wedding = d[d[\"summary\"].str.contains(str(\"wedding\")) | d[\"reviewText\"].str.contains(str(\"wedding\"))]"
   ]
  },
  {
   "cell_type": "code",
   "execution_count": 42,
   "metadata": {},
   "outputs": [
    {
     "data": {
      "image/png": "[encoded data removed]",
      "text/plain": [
       "<Figure size 1080x648 with 1 Axes>"
      ]
     },
     "metadata": {
      "needs_background": "light"
     },
     "output_type": "display_data"
    }
   ],
   "source": [
    "summer_over_time = summer.groupby('reviewYear').size()\n",
    "easter_over_time = easter.groupby('reviewYear').size()\n",
    "anniversary_over_time = anniversary.groupby('reviewYear').size()\n",
    "wedding_over_time = wedding.groupby('reviewYear').size()\n",
    "\n",
    "\n",
    "data_year = pd.DataFrame(summer_over_time, columns=['summer'])\n",
    "data_year['easter'] = pd.Series(easter_over_time)\n",
    "data_year['anniversary'] = pd.Series(anniversary_over_time)\n",
    "data_year['wedding'] = pd.Series(wedding_over_time)\n",
    "\n",
    "\n",
    "data_year.plot.bar(figsize=(15, 9))\n",
    "plt.xlabel('year')\n",
    "plt.ylabel('number of reviews')\n",
    "plt.yscale(\"log\")\n",
    "plt.xticks(fontsize=12)\n",
    "plt.yticks(fontsize=12)\n",
    "plt.legend(fontsize=12)\n",
    "_ = plt.title('Number of foods for each category per year', fontsize=17)"
   ]
  },
  {
   "cell_type": "code",
   "execution_count": 43,
   "metadata": {},
   "outputs": [
    {
     "data": {
      "image/png": "[encoded data removed]",
      "text/plain": [
       "<Figure size 1080x648 with 1 Axes>"
      ]
     },
     "metadata": {
      "needs_background": "light"
     },
     "output_type": "display_data"
    }
   ],
   "source": [
    "summer_over_time = summer.groupby('reviewMonth').size()\n",
    "easter_over_time = easter.groupby('reviewMonth').size()\n",
    "anniversary_over_time = anniversary.groupby('reviewMonth').size()\n",
    "wedding_over_time = wedding.groupby('reviewMonth').size()\n",
    "\n",
    "\n",
    "data_month = pd.DataFrame(summer_over_time, columns=['summer'])\n",
    "data_month['easter'] = pd.Series(easter_over_time)\n",
    "data_month['anniversary'] = pd.Series(anniversary_over_time)\n",
    "data_month['wedding'] = pd.Series(wedding_over_time)\n",
    "\n",
    "\n",
    "data_month.plot.bar(figsize=(15, 9))\n",
    "plt.xlabel('month')\n",
    "plt.ylabel('number of reviews')\n",
    "plt.yscale(\"log\")\n",
    "plt.xticks(fontsize=12)\n",
    "plt.yticks(fontsize=12)\n",
    "plt.legend(fontsize=12)\n",
    "_ = plt.title('Number of foods for each category per year', fontsize=17)"
   ]
  },
  {
   "cell_type": "markdown",
   "metadata": {},
   "source": [
    "## different kind of food"
   ]
  },
  {
   "cell_type": "markdown",
   "metadata": {},
   "source": [
    "**Searching on google trends we found the following types of food on very top on the list:**\n",
    "- chinese food\n",
    "- traditional food\n",
    "- korean food\n",
    "- jamaican food\n",
    "- mediterranean food\n",
    "- mexican food"
   ]
  },
  {
   "cell_type": "code",
   "execution_count": 45,
   "metadata": {},
   "outputs": [
    {
     "name": "stdout",
     "output_type": "stream",
     "text": [
      "chinese food 106\n",
      "traditional food 76\n",
      "korean food 15\n",
      "jamaican food 1\n",
      "mediterranean food 5\n",
      "mexican food 142\n"
     ]
    }
   ],
   "source": [
    "types_of_food=[\"chinese food\",\"traditional food\",\"korean food\",\"jamaican food\",\"mediterranean food\",\"mexican food\"]\n",
    "\n",
    "for i in types_of_food:\n",
    "    print(i,d[d[\"summary\"].str.contains(str(i)) | d[\"reviewText\"].str.contains(str(i))].shape[0])"
   ]
  },
  {
   "cell_type": "code",
   "execution_count": null,
   "metadata": {},
   "outputs": [],
   "source": []
  },
  {
   "cell_type": "code",
   "execution_count": null,
   "metadata": {},
   "outputs": [],
   "source": []
  }
 ],
 "metadata": {
  "kernelspec": {
   "display_name": "Python 3",
   "language": "python",
   "name": "python3"
  },
  "language_info": {
   "codemirror_mode": {
    "name": "ipython",
    "version": 3
   },
   "file_extension": ".py",
   "mimetype": "text/x-python",
   "name": "python",
   "nbconvert_exporter": "python",
   "pygments_lexer": "ipython3",
   "version": "3.6.8"
  }
 },
 "nbformat": 4,
 "nbformat_minor": 4
}
