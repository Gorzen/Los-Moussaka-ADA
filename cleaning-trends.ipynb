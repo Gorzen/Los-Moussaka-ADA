{
 "cells": [
  {
   "cell_type": "code",
   "execution_count": 1,
   "metadata": {},
   "outputs": [],
   "source": [
    "import json\n",
    "from pprint import pprint\n",
    "import numpy as np\n",
    "import pandas as pd\n",
    "import matplotlib.pyplot as plt"
   ]
  },
  {
   "cell_type": "code",
   "execution_count": 2,
   "metadata": {},
   "outputs": [
    {
     "name": "stdout",
     "output_type": "stream",
     "text": [
      "Untitled.ipynb  \u001b[0m\u001b[01;34mcallgrind\u001b[0m/\r\n"
     ]
    }
   ],
   "source": [
    "ls"
   ]
  },
  {
   "cell_type": "code",
   "execution_count": 3,
   "metadata": {},
   "outputs": [
    {
     "name": "stdout",
     "output_type": "stream",
     "text": [
      "/scratch\n"
     ]
    }
   ],
   "source": [
    "cd .."
   ]
  },
  {
   "cell_type": "code",
   "execution_count": 4,
   "metadata": {},
   "outputs": [
    {
     "name": "stdout",
     "output_type": "stream",
     "text": [
      "/home/mantonan\n"
     ]
    }
   ],
   "source": [
    "cd"
   ]
  },
  {
   "cell_type": "code",
   "execution_count": 5,
   "metadata": {},
   "outputs": [
    {
     "name": "stdout",
     "output_type": "stream",
     "text": [
      "/home/mantonan\n"
     ]
    }
   ],
   "source": [
    "cd"
   ]
  },
  {
   "cell_type": "code",
   "execution_count": 6,
   "metadata": {},
   "outputs": [
    {
     "name": "stdout",
     "output_type": "stream",
     "text": [
      " 11PM.png\r\n",
      " 12AM.png\r\n",
      " 12PM.png\r\n",
      " 1PM.png\r\n",
      " 1k.txt\r\n",
      " 2AM.png\r\n",
      " 2k.txt\r\n",
      " 4AM.png\r\n",
      " 4PM.png\r\n",
      " 4k.txt\r\n",
      " 5AM.png\r\n",
      " 5PM.png\r\n",
      " 6AM.png\r\n",
      " 6k.txt\r\n",
      " 8PM-first-month-cpu5.png\r\n",
      " 8PM-first-month.png\r\n",
      " 9AM.png\r\n",
      " 9PM.png\r\n",
      " ALGORITHM_VERSION_1.ipynb\r\n",
      " ALL_STD.png\r\n",
      " AVG_ALL.png\r\n",
      " AVG_ALL_24.png\r\n",
      "'CPU real value Algorithm.ipynb'\r\n",
      " Cross-correlation.png\r\n",
      " DAYS-SERVERS-SPIKEY.ipynb\r\n",
      " \u001b[0m\u001b[01;34mDesktop\u001b[0m/\r\n",
      " Discretitation.ipynb\r\n",
      " \u001b[01;34mDocuments\u001b[0m/\r\n",
      " \u001b[01;34mDownloads\u001b[0m/\r\n",
      "'FIRST FIT DECREASING ALGORITHM CPU REAL VALUE SPIKEY.ipynb'\r\n",
      " Grocery_and_Gourmet_Food.json\r\n",
      " Grocery_and_Gourmet_Food.zip\r\n",
      " \u001b[01;34mMusic\u001b[0m/\r\n",
      " \u001b[01;34mPictures\u001b[0m/\r\n",
      " \u001b[01;34mPublic\u001b[0m/\r\n",
      "\"Rebecca's Algorithm.ipynb\"\r\n",
      " \u001b[01;34mTemplates\u001b[0m/\r\n",
      " Untitled.ipynb\r\n",
      " Untitled1.ipynb\r\n",
      " Untitled2.ipynb\r\n",
      " Untitled3.ipynb\r\n",
      " Untitled4.ipynb\r\n",
      " Untitled5.ipynb\r\n",
      "'VALUE Algorithm.ipynb'\r\n",
      " \u001b[01;34mVideos\u001b[0m/\r\n",
      "'WORST FIT DECREASING ALGORITHM CPU REAL VALUE SPIKEY .ipynb'\r\n",
      "'WORST FIT DECREASING FOR FLACT.ipynb'\r\n",
      " avg_std.csv\r\n",
      " cpu_all-linear.png\r\n",
      " cs422-project2_2.11-0.1.0.jar\r\n",
      " days_new.txt\r\n",
      " derby.log\r\n",
      " desicion_tree.ipynb\r\n",
      " find_users_Basic.txt\r\n",
      " foo.png\r\n",
      " \u001b[01;36mlocal_scratch\u001b[0m@\r\n",
      " max-min-12PM.png\r\n",
      " max-min-BASIC.png\r\n",
      " max-min-IO.png\r\n",
      " max-min-MEMORY.png\r\n",
      " max-min-P.png\r\n",
      " max-min-S-memory-IO.png\r\n",
      " max-min-S-memory-Premium.png\r\n",
      " max-min-S.png\r\n",
      " max-min-abs.png\r\n",
      " max-min.png\r\n",
      " maxcpu_all-Linear-ABS.png\r\n",
      " maxcpu_all-LinearTRUE.png\r\n",
      " maxcpu_all-linear.png\r\n",
      " maxcpu_all-log-ABS.png\r\n",
      " \u001b[01;34mmetastore_db\u001b[0m/\r\n",
      " mincpu_all-LinearTRUE.png\r\n",
      " \u001b[01;34mproject\u001b[0m/\r\n",
      " \u001b[01;34mspark-warehouse\u001b[0m/\r\n",
      " standard.png\r\n",
      " std-avg-12PM.png\r\n",
      " std-avg-P.png\r\n",
      " std_12am.png\r\n",
      " std_12am_linear.png\r\n",
      "'testing real CPU values.ipynb'\r\n",
      "'testing value algorithm.ipynb'\r\n",
      " user_array.ipynb\r\n"
     ]
    }
   ],
   "source": [
    "ls"
   ]
  },
  {
   "cell_type": "code",
   "execution_count": 8,
   "metadata": {},
   "outputs": [],
   "source": [
    "import json\n",
    "from pprint import pprint\n",
    "\n",
    "with open('Grocery_and_Gourmet_Food.json') as f:\n",
    "    data = json.loads(\"[\" + \n",
    "        f.read().replace(\"}\\n{\", \"},\\n{\") + \n",
    "    \"]\")\n",
    "\n",
    "dataset = pd.DataFrame(data)"
   ]
  },
  {
   "cell_type": "code",
   "execution_count": 9,
   "metadata": {},
   "outputs": [
    {
     "data": {
      "text/html": [
       "<div>\n",
       "<style scoped>\n",
       "    .dataframe tbody tr th:only-of-type {\n",
       "        vertical-align: middle;\n",
       "    }\n",
       "\n",
       "    .dataframe tbody tr th {\n",
       "        vertical-align: top;\n",
       "    }\n",
       "\n",
       "    .dataframe thead th {\n",
       "        text-align: right;\n",
       "    }\n",
       "</style>\n",
       "<table border=\"1\" class=\"dataframe\">\n",
       "  <thead>\n",
       "    <tr style=\"text-align: right;\">\n",
       "      <th></th>\n",
       "      <th>overall</th>\n",
       "      <th>verified</th>\n",
       "      <th>reviewTime</th>\n",
       "      <th>reviewerID</th>\n",
       "      <th>asin</th>\n",
       "      <th>reviewerName</th>\n",
       "      <th>reviewText</th>\n",
       "      <th>summary</th>\n",
       "      <th>unixReviewTime</th>\n",
       "      <th>vote</th>\n",
       "      <th>image</th>\n",
       "      <th>style</th>\n",
       "    </tr>\n",
       "  </thead>\n",
       "  <tbody>\n",
       "    <tr>\n",
       "      <td>0</td>\n",
       "      <td>5.0</td>\n",
       "      <td>True</td>\n",
       "      <td>06 4, 2013</td>\n",
       "      <td>ALP49FBWT4I7V</td>\n",
       "      <td>1888861614</td>\n",
       "      <td>Lori</td>\n",
       "      <td>Very pleased with my purchase. Looks exactly l...</td>\n",
       "      <td>Love it</td>\n",
       "      <td>1370304000</td>\n",
       "      <td>NaN</td>\n",
       "      <td>NaN</td>\n",
       "      <td>NaN</td>\n",
       "    </tr>\n",
       "    <tr>\n",
       "      <td>1</td>\n",
       "      <td>4.0</td>\n",
       "      <td>True</td>\n",
       "      <td>05 23, 2014</td>\n",
       "      <td>A1KPIZOCLB9FZ8</td>\n",
       "      <td>1888861614</td>\n",
       "      <td>BK Shopper</td>\n",
       "      <td>Very nicely crafted but too small. Am going to...</td>\n",
       "      <td>Nice but small</td>\n",
       "      <td>1400803200</td>\n",
       "      <td>NaN</td>\n",
       "      <td>NaN</td>\n",
       "      <td>NaN</td>\n",
       "    </tr>\n",
       "    <tr>\n",
       "      <td>2</td>\n",
       "      <td>4.0</td>\n",
       "      <td>True</td>\n",
       "      <td>05 9, 2014</td>\n",
       "      <td>A2W0FA06IYAYQE</td>\n",
       "      <td>1888861614</td>\n",
       "      <td>daninethequeen</td>\n",
       "      <td>still very pretty and well made...i am super p...</td>\n",
       "      <td>the \"s\" looks like a 5, kina</td>\n",
       "      <td>1399593600</td>\n",
       "      <td>NaN</td>\n",
       "      <td>NaN</td>\n",
       "      <td>NaN</td>\n",
       "    </tr>\n",
       "    <tr>\n",
       "      <td>3</td>\n",
       "      <td>5.0</td>\n",
       "      <td>True</td>\n",
       "      <td>04 20, 2014</td>\n",
       "      <td>A2PTZTCH2QUYBC</td>\n",
       "      <td>1888861614</td>\n",
       "      <td>Tammara</td>\n",
       "      <td>I got this for our wedding cake, and it was ev...</td>\n",
       "      <td>Would recommend this to a friend!</td>\n",
       "      <td>1397952000</td>\n",
       "      <td>NaN</td>\n",
       "      <td>NaN</td>\n",
       "      <td>NaN</td>\n",
       "    </tr>\n",
       "    <tr>\n",
       "      <td>4</td>\n",
       "      <td>4.0</td>\n",
       "      <td>True</td>\n",
       "      <td>04 16, 2014</td>\n",
       "      <td>A2VNHGJ59N4Z90</td>\n",
       "      <td>1888861614</td>\n",
       "      <td>LaQuinta Alexander</td>\n",
       "      <td>It was just what I want to put at the top of m...</td>\n",
       "      <td>Topper</td>\n",
       "      <td>1397606400</td>\n",
       "      <td>NaN</td>\n",
       "      <td>NaN</td>\n",
       "      <td>NaN</td>\n",
       "    </tr>\n",
       "  </tbody>\n",
       "</table>\n",
       "</div>"
      ],
      "text/plain": [
       "   overall  verified   reviewTime      reviewerID        asin  \\\n",
       "0      5.0      True   06 4, 2013   ALP49FBWT4I7V  1888861614   \n",
       "1      4.0      True  05 23, 2014  A1KPIZOCLB9FZ8  1888861614   \n",
       "2      4.0      True   05 9, 2014  A2W0FA06IYAYQE  1888861614   \n",
       "3      5.0      True  04 20, 2014  A2PTZTCH2QUYBC  1888861614   \n",
       "4      4.0      True  04 16, 2014  A2VNHGJ59N4Z90  1888861614   \n",
       "\n",
       "         reviewerName                                         reviewText  \\\n",
       "0                Lori  Very pleased with my purchase. Looks exactly l...   \n",
       "1          BK Shopper  Very nicely crafted but too small. Am going to...   \n",
       "2      daninethequeen  still very pretty and well made...i am super p...   \n",
       "3             Tammara  I got this for our wedding cake, and it was ev...   \n",
       "4  LaQuinta Alexander  It was just what I want to put at the top of m...   \n",
       "\n",
       "                             summary  unixReviewTime vote image style  \n",
       "0                            Love it      1370304000  NaN   NaN   NaN  \n",
       "1                     Nice but small      1400803200  NaN   NaN   NaN  \n",
       "2       the \"s\" looks like a 5, kina      1399593600  NaN   NaN   NaN  \n",
       "3  Would recommend this to a friend!      1397952000  NaN   NaN   NaN  \n",
       "4                             Topper      1397606400  NaN   NaN   NaN  "
      ]
     },
     "execution_count": 9,
     "metadata": {},
     "output_type": "execute_result"
    }
   ],
   "source": [
    "dataset.head()"
   ]
  },
  {
   "cell_type": "markdown",
   "metadata": {},
   "source": [
    "**As we can observe from the above print results we have Nan values. Lets focus as a first step on them and try to clean the dataset.**"
   ]
  },
  {
   "cell_type": "code",
   "execution_count": 14,
   "metadata": {},
   "outputs": [
    {
     "name": "stdout",
     "output_type": "stream",
     "text": [
      "the dataset has 5074160 rows in total\n"
     ]
    },
    {
     "data": {
      "text/plain": [
       "overall                 0\n",
       "verified                0\n",
       "reviewTime              0\n",
       "reviewerID              0\n",
       "asin                    0\n",
       "reviewerName          355\n",
       "reviewText           2883\n",
       "summary              1327\n",
       "unixReviewTime          0\n",
       "vote              4414688\n",
       "image             5003225\n",
       "style             2798836\n",
       "dtype: int64"
      ]
     },
     "execution_count": 14,
     "metadata": {},
     "output_type": "execute_result"
    }
   ],
   "source": [
    "print(\"the dataset has {} rows in total\".format(dataset.shape[0]))\n",
    "##lets check how many missing value we have for each column\n",
    "dataset.isnull().sum()"
   ]
  },
  {
   "cell_type": "markdown",
   "metadata": {},
   "source": [
    "**As we can see from the above results the columns: reviewerName,reviewText,summary,vote,image,style have missing values.** \n",
    "\n",
    "**1.Let's start with *reviewerName* columns which represent the name of the reviewer. Also we know that reviewerID is unique for each reviewer and that column doesnt have missing values. We will assign for each reviwerName which has Nan value the reviwerID**"
   ]
  },
  {
   "cell_type": "code",
   "execution_count": 54,
   "metadata": {},
   "outputs": [],
   "source": [
    "##put as a name the reviewerID\n",
    "dataset['reviewerName']=dataset['reviewerName'].fillna(dataset['reviewerID'])"
   ]
  },
  {
   "cell_type": "markdown",
   "metadata": {},
   "source": [
    "**2. Lets focus on *reviewText* and *summary* columns. As we can see that columns are very relevant. In order to fill the missing values we will put the reviewText to summary when the summary column is Nan and the summary string to reviewText when a reviewText is Nan.**"
   ]
  },
  {
   "cell_type": "code",
   "execution_count": 50,
   "metadata": {},
   "outputs": [],
   "source": [
    "##if the summary has Nan value put the value from the reviewText\n",
    "dataset['summary']=dataset['summary'].fillna(dataset['reviewText'])\n",
    "\n",
    "##if the reviewText has Nan value put the value from the summary Text\n",
    "dataset['reviewText']=dataset['reviewText'].fillna(dataset['summary'])"
   ]
  },
  {
   "cell_type": "code",
   "execution_count": 55,
   "metadata": {},
   "outputs": [
    {
     "name": "stdout",
     "output_type": "stream",
     "text": [
      "The total number of Nan values of summary AND reviewText is: 137\n"
     ]
    },
    {
     "data": {
      "text/plain": [
       "overall                 0\n",
       "verified                0\n",
       "reviewTime              0\n",
       "reviewerID              0\n",
       "asin                    0\n",
       "reviewerName            0\n",
       "reviewText            137\n",
       "summary               137\n",
       "unixReviewTime          0\n",
       "vote              4414688\n",
       "image             5003225\n",
       "style             2798836\n",
       "dtype: int64"
      ]
     },
     "execution_count": 55,
     "metadata": {},
     "output_type": "execute_result"
    }
   ],
   "source": [
    "print(\"The total number of Nan values of summary AND reviewText is:\",dataset[dataset['summary'].isnull() & dataset['reviewText'].isnull()].shape[0])\n",
    "dataset.isnull().sum()"
   ]
  },
  {
   "cell_type": "code",
   "execution_count": null,
   "metadata": {},
   "outputs": [],
   "source": []
  },
  {
   "cell_type": "code",
   "execution_count": null,
   "metadata": {},
   "outputs": [],
   "source": []
  },
  {
   "cell_type": "code",
   "execution_count": 56,
   "metadata": {},
   "outputs": [],
   "source": [
    "######################## GOOGLE TRENDS ANALYSIS###############"
   ]
  },
  {
   "cell_type": "code",
   "execution_count": 109,
   "metadata": {},
   "outputs": [],
   "source": [
    "##keep only the rows which dont have Nan values at summary and reviewText\n",
    "d=dataset[dataset[\"summary\"].notnull() & dataset[\"reviewText\"].notnull()]"
   ]
  },
  {
   "cell_type": "code",
   "execution_count": 153,
   "metadata": {},
   "outputs": [],
   "source": [
    "##the list of trend words\n",
    "trends=[\"holidays\",\"summer\",\"easter\",\"present\",\"Chistmas\",\"halloween\",\"black friday\",\"birthday\",\"anniversary\",\"valentines day\",\"wedding\",\"day\"]"
   ]
  },
  {
   "cell_type": "code",
   "execution_count": 154,
   "metadata": {},
   "outputs": [],
   "source": [
    "##new dataframe which contains only the trends words\n",
    "data_trends=d[d[\"summary\"].str.contains('|'.join(good_trends)) | d[\"reviewText\"].str.contains('|'.join(good_trends))]"
   ]
  },
  {
   "cell_type": "code",
   "execution_count": 155,
   "metadata": {},
   "outputs": [
    {
     "name": "stdout",
     "output_type": "stream",
     "text": [
      "the size of new dataframe is:  (321680, 12)\n"
     ]
    },
    {
     "data": {
      "text/html": [
       "<div>\n",
       "<style scoped>\n",
       "    .dataframe tbody tr th:only-of-type {\n",
       "        vertical-align: middle;\n",
       "    }\n",
       "\n",
       "    .dataframe tbody tr th {\n",
       "        vertical-align: top;\n",
       "    }\n",
       "\n",
       "    .dataframe thead th {\n",
       "        text-align: right;\n",
       "    }\n",
       "</style>\n",
       "<table border=\"1\" class=\"dataframe\">\n",
       "  <thead>\n",
       "    <tr style=\"text-align: right;\">\n",
       "      <th></th>\n",
       "      <th>overall</th>\n",
       "      <th>verified</th>\n",
       "      <th>reviewTime</th>\n",
       "      <th>reviewerID</th>\n",
       "      <th>asin</th>\n",
       "      <th>reviewerName</th>\n",
       "      <th>reviewText</th>\n",
       "      <th>summary</th>\n",
       "      <th>unixReviewTime</th>\n",
       "      <th>vote</th>\n",
       "      <th>image</th>\n",
       "      <th>style</th>\n",
       "    </tr>\n",
       "  </thead>\n",
       "  <tbody>\n",
       "    <tr>\n",
       "      <td>5</td>\n",
       "      <td>1.0</td>\n",
       "      <td>True</td>\n",
       "      <td>02 21, 2014</td>\n",
       "      <td>ATQL0XOLZNHZ4</td>\n",
       "      <td>1888861614</td>\n",
       "      <td>Brianna Small</td>\n",
       "      <td>The S is beautiful, however upon checkout it i...</td>\n",
       "      <td>shipping disaster</td>\n",
       "      <td>1392940800</td>\n",
       "      <td>NaN</td>\n",
       "      <td>NaN</td>\n",
       "      <td>NaN</td>\n",
       "    </tr>\n",
       "    <tr>\n",
       "      <td>20</td>\n",
       "      <td>5.0</td>\n",
       "      <td>True</td>\n",
       "      <td>10 18, 2012</td>\n",
       "      <td>ALWLI4F2NVU76</td>\n",
       "      <td>4639725183</td>\n",
       "      <td>Tesa D James</td>\n",
       "      <td>I discovered yellow tea while on vacation in T...</td>\n",
       "      <td>Only tea I will drink</td>\n",
       "      <td>1350518400</td>\n",
       "      <td>2</td>\n",
       "      <td>NaN</td>\n",
       "      <td>NaN</td>\n",
       "    </tr>\n",
       "    <tr>\n",
       "      <td>31</td>\n",
       "      <td>5.0</td>\n",
       "      <td>True</td>\n",
       "      <td>06 15, 2016</td>\n",
       "      <td>A18M7WCCT7G43K</td>\n",
       "      <td>4639725183</td>\n",
       "      <td>CH in NY</td>\n",
       "      <td>Not your usual Liptons. This tea has a deep ri...</td>\n",
       "      <td>Yum</td>\n",
       "      <td>1465948800</td>\n",
       "      <td>NaN</td>\n",
       "      <td>NaN</td>\n",
       "      <td>NaN</td>\n",
       "    </tr>\n",
       "    <tr>\n",
       "      <td>49</td>\n",
       "      <td>5.0</td>\n",
       "      <td>True</td>\n",
       "      <td>04 21, 2015</td>\n",
       "      <td>A29VUPA3E01L9R</td>\n",
       "      <td>4639725183</td>\n",
       "      <td>Freddy</td>\n",
       "      <td>You can't buy this particular type of Lipton T...</td>\n",
       "      <td>You can't buy this particular type of Lipton T...</td>\n",
       "      <td>1429574400</td>\n",
       "      <td>NaN</td>\n",
       "      <td>NaN</td>\n",
       "      <td>NaN</td>\n",
       "    </tr>\n",
       "    <tr>\n",
       "      <td>61</td>\n",
       "      <td>5.0</td>\n",
       "      <td>True</td>\n",
       "      <td>05 5, 2012</td>\n",
       "      <td>APRYI2HUW1UUY</td>\n",
       "      <td>4639725043</td>\n",
       "      <td>John Gassere</td>\n",
       "      <td>Lipton Yellow Label tea is very concentrated -...</td>\n",
       "      <td>Great tea flavor and a really good money value</td>\n",
       "      <td>1336176000</td>\n",
       "      <td>7</td>\n",
       "      <td>NaN</td>\n",
       "      <td>NaN</td>\n",
       "    </tr>\n",
       "  </tbody>\n",
       "</table>\n",
       "</div>"
      ],
      "text/plain": [
       "    overall  verified   reviewTime      reviewerID        asin   reviewerName  \\\n",
       "5       1.0      True  02 21, 2014   ATQL0XOLZNHZ4  1888861614  Brianna Small   \n",
       "20      5.0      True  10 18, 2012   ALWLI4F2NVU76  4639725183   Tesa D James   \n",
       "31      5.0      True  06 15, 2016  A18M7WCCT7G43K  4639725183       CH in NY   \n",
       "49      5.0      True  04 21, 2015  A29VUPA3E01L9R  4639725183         Freddy   \n",
       "61      5.0      True   05 5, 2012   APRYI2HUW1UUY  4639725043   John Gassere   \n",
       "\n",
       "                                           reviewText  \\\n",
       "5   The S is beautiful, however upon checkout it i...   \n",
       "20  I discovered yellow tea while on vacation in T...   \n",
       "31  Not your usual Liptons. This tea has a deep ri...   \n",
       "49  You can't buy this particular type of Lipton T...   \n",
       "61  Lipton Yellow Label tea is very concentrated -...   \n",
       "\n",
       "                                              summary  unixReviewTime vote  \\\n",
       "5                                   shipping disaster      1392940800  NaN   \n",
       "20                              Only tea I will drink      1350518400    2   \n",
       "31                                                Yum      1465948800  NaN   \n",
       "49  You can't buy this particular type of Lipton T...      1429574400  NaN   \n",
       "61     Great tea flavor and a really good money value      1336176000    7   \n",
       "\n",
       "   image style  \n",
       "5    NaN   NaN  \n",
       "20   NaN   NaN  \n",
       "31   NaN   NaN  \n",
       "49   NaN   NaN  \n",
       "61   NaN   NaN  "
      ]
     },
     "execution_count": 155,
     "metadata": {},
     "output_type": "execute_result"
    }
   ],
   "source": [
    "print(\"the size of new dataframe is: \",data_trends.shape)\n",
    "data_trends.head()"
   ]
  },
  {
   "cell_type": "code",
   "execution_count": null,
   "metadata": {},
   "outputs": [],
   "source": []
  },
  {
   "cell_type": "code",
   "execution_count": 156,
   "metadata": {},
   "outputs": [
    {
     "name": "stdout",
     "output_type": "stream",
     "text": [
      "holidays 7377\n",
      "summer 17768\n",
      "easter 1463\n",
      "present 22072\n",
      "Chistmas 29\n",
      "halloween 871\n",
      "black friday 16\n",
      "birthday 26972\n",
      "anniversary 1300\n",
      "valentines day 429\n",
      "wedding 11213\n",
      "day 286341\n"
     ]
    }
   ],
   "source": [
    "##lets focus on the trends list and check exactly how many rows have each of the trend\n",
    "for i in trends:\n",
    "    print(i,d[d[\"summary\"].str.contains(str(i)) | d[\"reviewText\"].str.contains(str(i))].shape[0])"
   ]
  },
  {
   "cell_type": "code",
   "execution_count": 139,
   "metadata": {},
   "outputs": [],
   "source": [
    "##lets go deeper in the day word \n",
    "day_trend=d[d[\"summary\"].str.contains(\"day\") | d[\"reviewText\"].str.contains(\"day\")]"
   ]
  },
  {
   "cell_type": "code",
   "execution_count": 152,
   "metadata": {},
   "outputs": [
    {
     "data": {
      "text/plain": [
       "'The S is beautiful, however upon checkout it informed me that it would be here by saturday at the latest (wedding was Sunday) it did not come in until monday AFTER the wedding.'"
      ]
     },
     "execution_count": 152,
     "metadata": {},
     "output_type": "execute_result"
    }
   ],
   "source": [
    "day_trend[\"reviewText\"]"
   ]
  },
  {
   "cell_type": "code",
   "execution_count": 159,
   "metadata": {},
   "outputs": [],
   "source": [
    "##check for the days of the week\n",
    "days=[\"Monday\",\"Tuesday\",\"Wednesday\",\"Thursday\",\"Friday\",\"Saturday\",\"Sunday\",\"Weekend\"]\n",
    "\n",
    "data_days=d[d[\"summary\"].str.contains('|'.join(days)) | d[\"reviewText\"].str.contains('|'.join(days))]"
   ]
  },
  {
   "cell_type": "code",
   "execution_count": 160,
   "metadata": {},
   "outputs": [
    {
     "name": "stdout",
     "output_type": "stream",
     "text": [
      "Monday 1289\n",
      "Tuesday 754\n",
      "Wednesday 576\n",
      "Thursday 595\n",
      "Friday 1625\n",
      "Saturday 1564\n",
      "Sunday 2544\n",
      "Weekend 62\n"
     ]
    }
   ],
   "source": [
    "for i in days:\n",
    "    print(i,data_days[data_days[\"summary\"].str.contains(str(i)) | data_days[\"reviewText\"].str.contains(str(i))].shape[0])"
   ]
  },
  {
   "cell_type": "code",
   "execution_count": 165,
   "metadata": {},
   "outputs": [
    {
     "data": {
      "text/html": [
       "<div>\n",
       "<style scoped>\n",
       "    .dataframe tbody tr th:only-of-type {\n",
       "        vertical-align: middle;\n",
       "    }\n",
       "\n",
       "    .dataframe tbody tr th {\n",
       "        vertical-align: top;\n",
       "    }\n",
       "\n",
       "    .dataframe thead th {\n",
       "        text-align: right;\n",
       "    }\n",
       "</style>\n",
       "<table border=\"1\" class=\"dataframe\">\n",
       "  <thead>\n",
       "    <tr style=\"text-align: right;\">\n",
       "      <th></th>\n",
       "      <th>overall</th>\n",
       "      <th>verified</th>\n",
       "      <th>reviewTime</th>\n",
       "      <th>reviewerID</th>\n",
       "      <th>asin</th>\n",
       "      <th>reviewerName</th>\n",
       "      <th>reviewText</th>\n",
       "      <th>summary</th>\n",
       "      <th>unixReviewTime</th>\n",
       "      <th>vote</th>\n",
       "      <th>image</th>\n",
       "      <th>style</th>\n",
       "    </tr>\n",
       "  </thead>\n",
       "  <tbody>\n",
       "    <tr>\n",
       "      <td>5</td>\n",
       "      <td>1.0</td>\n",
       "      <td>True</td>\n",
       "      <td>02 21, 2014</td>\n",
       "      <td>ATQL0XOLZNHZ4</td>\n",
       "      <td>1888861614</td>\n",
       "      <td>Brianna Small</td>\n",
       "      <td>The S is beautiful, however upon checkout it i...</td>\n",
       "      <td>shipping disaster</td>\n",
       "      <td>1392940800</td>\n",
       "      <td>NaN</td>\n",
       "      <td>NaN</td>\n",
       "      <td>NaN</td>\n",
       "    </tr>\n",
       "    <tr>\n",
       "      <td>1035</td>\n",
       "      <td>5.0</td>\n",
       "      <td>True</td>\n",
       "      <td>05 26, 2015</td>\n",
       "      <td>A36HKMCFHPLJJD</td>\n",
       "      <td>B00005BPQ9</td>\n",
       "      <td>Tilly Who</td>\n",
       "      <td>Been eating malted milk balls since my parents...</td>\n",
       "      <td>Childhood Favorite Still Holds Up</td>\n",
       "      <td>1432598400</td>\n",
       "      <td>NaN</td>\n",
       "      <td>NaN</td>\n",
       "      <td>{'Size:': ' 12 Ounce (Pack of 6)'}</td>\n",
       "    </tr>\n",
       "    <tr>\n",
       "      <td>1072</td>\n",
       "      <td>5.0</td>\n",
       "      <td>True</td>\n",
       "      <td>06 7, 2014</td>\n",
       "      <td>A2WAU01PM6FPD9</td>\n",
       "      <td>B00005BPQ9</td>\n",
       "      <td>C. KISER</td>\n",
       "      <td>used for gift bags for my Sunday school kids a...</td>\n",
       "      <td>tasty and convenient</td>\n",
       "      <td>1402099200</td>\n",
       "      <td>NaN</td>\n",
       "      <td>NaN</td>\n",
       "      <td>{'Size:': ' 24 Count/1.75 Ounce'}</td>\n",
       "    </tr>\n",
       "    <tr>\n",
       "      <td>3232</td>\n",
       "      <td>5.0</td>\n",
       "      <td>False</td>\n",
       "      <td>11 10, 2003</td>\n",
       "      <td>A5VIGE8EO86RI</td>\n",
       "      <td>B0000CA4TK</td>\n",
       "      <td>captmorgan1670</td>\n",
       "      <td>I live in exile in Denver now - I couldn't sur...</td>\n",
       "      <td>Oye - Tremendo caf chico !</td>\n",
       "      <td>1068422400</td>\n",
       "      <td>8</td>\n",
       "      <td>NaN</td>\n",
       "      <td>{'Size:': ' 1 lb Bag'}</td>\n",
       "    </tr>\n",
       "    <tr>\n",
       "      <td>4191</td>\n",
       "      <td>1.0</td>\n",
       "      <td>True</td>\n",
       "      <td>06 23, 2015</td>\n",
       "      <td>APG5KGWPDU648</td>\n",
       "      <td>B0000CFH7B</td>\n",
       "      <td>butterflyluver</td>\n",
       "      <td>Can arrived EMPTY!!!!! Need it for my daughter...</td>\n",
       "      <td>Can was EMPTY!</td>\n",
       "      <td>1435017600</td>\n",
       "      <td>NaN</td>\n",
       "      <td>NaN</td>\n",
       "      <td>NaN</td>\n",
       "    </tr>\n",
       "  </tbody>\n",
       "</table>\n",
       "</div>"
      ],
      "text/plain": [
       "      overall  verified   reviewTime      reviewerID        asin  \\\n",
       "5         1.0      True  02 21, 2014   ATQL0XOLZNHZ4  1888861614   \n",
       "1035      5.0      True  05 26, 2015  A36HKMCFHPLJJD  B00005BPQ9   \n",
       "1072      5.0      True   06 7, 2014  A2WAU01PM6FPD9  B00005BPQ9   \n",
       "3232      5.0     False  11 10, 2003   A5VIGE8EO86RI  B0000CA4TK   \n",
       "4191      1.0      True  06 23, 2015   APG5KGWPDU648  B0000CFH7B   \n",
       "\n",
       "        reviewerName                                         reviewText  \\\n",
       "5      Brianna Small  The S is beautiful, however upon checkout it i...   \n",
       "1035       Tilly Who  Been eating malted milk balls since my parents...   \n",
       "1072        C. KISER  used for gift bags for my Sunday school kids a...   \n",
       "3232  captmorgan1670  I live in exile in Denver now - I couldn't sur...   \n",
       "4191  butterflyluver  Can arrived EMPTY!!!!! Need it for my daughter...   \n",
       "\n",
       "                                summary  unixReviewTime vote image  \\\n",
       "5                     shipping disaster      1392940800  NaN   NaN   \n",
       "1035  Childhood Favorite Still Holds Up      1432598400  NaN   NaN   \n",
       "1072               tasty and convenient      1402099200  NaN   NaN   \n",
       "3232         Oye - Tremendo caf chico !      1068422400    8   NaN   \n",
       "4191                     Can was EMPTY!      1435017600  NaN   NaN   \n",
       "\n",
       "                                   style  \n",
       "5                                    NaN  \n",
       "1035  {'Size:': ' 12 Ounce (Pack of 6)'}  \n",
       "1072   {'Size:': ' 24 Count/1.75 Ounce'}  \n",
       "3232              {'Size:': ' 1 lb Bag'}  \n",
       "4191                                 NaN  "
      ]
     },
     "execution_count": 165,
     "metadata": {},
     "output_type": "execute_result"
    }
   ],
   "source": [
    "data_days.shape[0]\n",
    "data_days.head()"
   ]
  },
  {
   "cell_type": "code",
   "execution_count": null,
   "metadata": {},
   "outputs": [],
   "source": []
  }
 ],
 "metadata": {
  "kernelspec": {
   "display_name": "Python 3",
   "language": "python",
   "name": "python3"
  },
  "language_info": {
   "codemirror_mode": {
    "name": "ipython",
    "version": 3
   },
   "file_extension": ".py",
   "mimetype": "text/x-python",
   "name": "python",
   "nbconvert_exporter": "python",
   "pygments_lexer": "ipython3",
   "version": "3.6.8"
  }
 },
 "nbformat": 4,
 "nbformat_minor": 2
}
