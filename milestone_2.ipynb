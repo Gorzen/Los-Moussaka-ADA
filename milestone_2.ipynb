{
 "cells": [
  {
   "cell_type": "code",
   "execution_count": 1,
   "metadata": {},
   "outputs": [],
   "source": [
    "import numpy as np\n",
    "import pandas as pd\n",
    "import pickle\n",
    "\n",
    "import matplotlib.pyplot as plt\n",
    "import powerlaw\n",
    "from bokeh.io import output_file, save\n",
    "from bokeh.models import ColumnDataSource\n",
    "from bokeh.plotting import figure\n",
    "from bokeh.palettes import d3\n",
    "\n",
    "from IPython.display import FileLink"
   ]
  },
  {
   "cell_type": "code",
   "execution_count": 2,
   "metadata": {},
   "outputs": [],
   "source": [
    "# Increase width to be able to better read the reviews when displaying dataframe\n",
    "pd.options.display.max_colwidth = 100"
   ]
  },
  {
   "cell_type": "code",
   "execution_count": 3,
   "metadata": {},
   "outputs": [],
   "source": [
    "# Constant definitions\n",
    "REVIEW_FILE = \"Grocery_and_Gourmet_Food.json\"\n",
    "REVIEW_PICKLE = \"reviews\"\n",
    "META_FILE = \"meta_Grocery_and_Gourmet_Food.json\"\n",
    "META_PICKLE = \"meta\"\n",
    "DATA_LOCATION = \"data/\"\n",
    "PICKLE_LOCATION = \"processed-data/\"\n",
    "PLOTS_LOCATION = \"milestone-2-plots/\""
   ]
  },
  {
   "cell_type": "code",
   "execution_count": 4,
   "metadata": {},
   "outputs": [],
   "source": [
    "def load_pickle(pickle_name):\n",
    "    with open(PICKLE_LOCATION+pickle_name, 'rb') as file:\n",
    "        print(f'loading pickle for {pickle_name}...')\n",
    "        return pickle.load(file)"
   ]
  },
  {
   "cell_type": "code",
   "execution_count": 5,
   "metadata": {},
   "outputs": [],
   "source": [
    "def save_pickle(result, pickle_name):\n",
    "    with open(PICKLE_LOCATION+pickle_name, 'wb') as file:\n",
    "        print(f'saving pickle for {pickle_name}...')\n",
    "        pickle.dump(result, file)"
   ]
  },
  {
   "cell_type": "code",
   "execution_count": 6,
   "metadata": {},
   "outputs": [],
   "source": [
    "def read_file(file):\n",
    "    if file == REVIEW_FILE:\n",
    "        pickle_name = REVIEW_PICKLE\n",
    "    elif file == META_FILE:\n",
    "        pickle_name = META_PICKLE\n",
    "    else:\n",
    "        pickle_name = file\n",
    "    \n",
    "    try:\n",
    "        return load_pickle(pickle_name)\n",
    "    except (FileNotFoundError, EOFError) as e:\n",
    "        file_df = pd.read_json(DATA_LOCATION+file, lines=True)\n",
    "        save_pickle(file_df, pickle_name)\n",
    "        return file_df"
   ]
  },
  {
   "cell_type": "markdown",
   "metadata": {},
   "source": [
    "First we load the data and see what it looks like, in order to sanitize it.\n",
    "\n",
    "We have 2 data files, one containing Amazon 'Grocery and Gourmet Food' reviews, the other one containing meta information about the products."
   ]
  },
  {
   "cell_type": "code",
   "execution_count": 7,
   "metadata": {},
   "outputs": [
    {
     "name": "stdout",
     "output_type": "stream",
     "text": [
      "loading pickle for reviews...\n",
      "loading pickle for meta...\n",
      "Meta dataset:\n"
     ]
    },
    {
     "data": {
      "text/html": [
       "<div>\n",
       "<style scoped>\n",
       "    .dataframe tbody tr th:only-of-type {\n",
       "        vertical-align: middle;\n",
       "    }\n",
       "\n",
       "    .dataframe tbody tr th {\n",
       "        vertical-align: top;\n",
       "    }\n",
       "\n",
       "    .dataframe thead th {\n",
       "        text-align: right;\n",
       "    }\n",
       "</style>\n",
       "<table border=\"1\" class=\"dataframe\">\n",
       "  <thead>\n",
       "    <tr style=\"text-align: right;\">\n",
       "      <th></th>\n",
       "      <th>category</th>\n",
       "      <th>description</th>\n",
       "      <th>title</th>\n",
       "      <th>brand</th>\n",
       "      <th>rank</th>\n",
       "      <th>also_view</th>\n",
       "      <th>main_cat</th>\n",
       "      <th>price</th>\n",
       "      <th>asin</th>\n",
       "      <th>also_buy</th>\n",
       "      <th>image</th>\n",
       "      <th>date</th>\n",
       "      <th>feature</th>\n",
       "      <th>details</th>\n",
       "      <th>similar_item</th>\n",
       "      <th>tech1</th>\n",
       "      <th>fit</th>\n",
       "    </tr>\n",
       "  </thead>\n",
       "  <tbody>\n",
       "    <tr>\n",
       "      <th>0</th>\n",
       "      <td>[Grocery &amp; Gourmet Food, Dairy, Cheese &amp; Eggs, Cheese, Gouda]</td>\n",
       "      <td>[BEEMSTER GOUDA CHEESE AGED 18/24 MONTHS, Statements regarding dietary supplements have not been...</td>\n",
       "      <td>Beemster Gouda - Aged 18/24 Months - App. 1.5 Lbs</td>\n",
       "      <td>Ariola Imports</td>\n",
       "      <td>165,181inGroceryGourmetFood(</td>\n",
       "      <td>[B0000D9MYM, B0000D9MYL, B00ADHIGBA, B00H9OX598, B001LM42GY, B001LM5TDY]</td>\n",
       "      <td>Grocery</td>\n",
       "      <td>$41.91</td>\n",
       "      <td>0681727810</td>\n",
       "      <td>NaN</td>\n",
       "      <td>NaN</td>\n",
       "      <td>NaN</td>\n",
       "      <td>NaN</td>\n",
       "      <td>NaN</td>\n",
       "      <td>NaN</td>\n",
       "      <td>NaN</td>\n",
       "      <td>NaN</td>\n",
       "    </tr>\n",
       "    <tr>\n",
       "      <th>1</th>\n",
       "      <td>[Grocery &amp; Gourmet Food, Cooking &amp; Baking, Sugar Substitutes, Xylitol]</td>\n",
       "      <td>[Shipped from UK, please allow 10 to 21 business days for arrival. ex lib pub by Applied Science...</td>\n",
       "      <td>Trim Healthy Mama Xylitol</td>\n",
       "      <td>NaN</td>\n",
       "      <td>315,867inGroceryGourmetFood(</td>\n",
       "      <td>NaN</td>\n",
       "      <td>Grocery</td>\n",
       "      <td>NaN</td>\n",
       "      <td>0853347867</td>\n",
       "      <td>[B01898YHXK, B01BCM6LAC, B00Q4OL47O, B00Q4OL5QE, 0804189986, B00Q4OL2F8, 1101902663, B019PDEUU8,...</td>\n",
       "      <td>[https://images-na.ssl-images-amazon.com/images/I/5135fT93xtL._SS40_.jpg, https://images-na.ssl-...</td>\n",
       "      <td>NaN</td>\n",
       "      <td>NaN</td>\n",
       "      <td>NaN</td>\n",
       "      <td>NaN</td>\n",
       "      <td>NaN</td>\n",
       "      <td>NaN</td>\n",
       "    </tr>\n",
       "    <tr>\n",
       "      <th>2</th>\n",
       "      <td>[Grocery &amp; Gourmet Food, Cooking &amp; Baking, Frosting, Icing &amp; Decorations, Cake &amp; Cupcake Toppers...</td>\n",
       "      <td>[Jazz up your cakes with a sparkling monogram from our Sparkling collection! These single letter...</td>\n",
       "      <td>Letter C - Swarovski Crystal Monogram Wedding Cake Topper Letter</td>\n",
       "      <td>Unik Occasions</td>\n",
       "      <td>&gt;#669,941 in Kitchen &amp; Dining (See Top 100 in Kitchen &amp; Dining)&gt;#9,899 in Kitchen &amp; Dining &gt; Bak...</td>\n",
       "      <td>[B07DXN65TF]</td>\n",
       "      <td>Amazon Home</td>\n",
       "      <td>$29.95</td>\n",
       "      <td>1888861118</td>\n",
       "      <td>NaN</td>\n",
       "      <td>NaN</td>\n",
       "      <td>September 21, 2010</td>\n",
       "      <td>NaN</td>\n",
       "      <td>NaN</td>\n",
       "      <td>NaN</td>\n",
       "      <td>NaN</td>\n",
       "      <td>NaN</td>\n",
       "    </tr>\n",
       "    <tr>\n",
       "      <th>3</th>\n",
       "      <td>[Grocery &amp; Gourmet Food, Cooking &amp; Baking, Frosting, Icing &amp; Decorations, Cake &amp; Cupcake Toppers...</td>\n",
       "      <td>[Large Letter - Height 4.75\"]</td>\n",
       "      <td>Letter H - Swarovski Crystal Monogram Wedding Cake Topper Letter</td>\n",
       "      <td>Other</td>\n",
       "      <td>&gt;#832,581 in Kitchen &amp; Dining (See Top 100 in Kitchen &amp; Dining)&gt;#12,883 in Kitchen &amp; Dining &gt; Ba...</td>\n",
       "      <td>NaN</td>\n",
       "      <td>Amazon Home</td>\n",
       "      <td>$11.45</td>\n",
       "      <td>1888861517</td>\n",
       "      <td>NaN</td>\n",
       "      <td>NaN</td>\n",
       "      <td>September 11, 2011</td>\n",
       "      <td>[Large Letter - Height 4.75\"]</td>\n",
       "      <td>NaN</td>\n",
       "      <td>NaN</td>\n",
       "      <td>NaN</td>\n",
       "      <td>NaN</td>\n",
       "    </tr>\n",
       "    <tr>\n",
       "      <th>4</th>\n",
       "      <td>[Grocery &amp; Gourmet Food, Cooking &amp; Baking, Frosting, Icing &amp; Decorations, Cake &amp; Cupcake Toppers...</td>\n",
       "      <td>[4.75\"]</td>\n",
       "      <td>Letter S - Swarovski Crystal Monogram Wedding Cake Topper Letter</td>\n",
       "      <td>Unik Occasions</td>\n",
       "      <td>&gt;#590,999 in Kitchen &amp; Dining (See Top 100 in Kitchen &amp; Dining)&gt;#8,585 in Kitchen &amp; Dining &gt; Bak...</td>\n",
       "      <td>NaN</td>\n",
       "      <td>Amazon Home</td>\n",
       "      <td>$15.00</td>\n",
       "      <td>1888861614</td>\n",
       "      <td>NaN</td>\n",
       "      <td>NaN</td>\n",
       "      <td>September 11, 2011</td>\n",
       "      <td>[4.75\" height]</td>\n",
       "      <td>NaN</td>\n",
       "      <td>NaN</td>\n",
       "      <td>NaN</td>\n",
       "      <td>NaN</td>\n",
       "    </tr>\n",
       "  </tbody>\n",
       "</table>\n",
       "</div>"
      ],
      "text/plain": [
       "                                                                                              category  \\\n",
       "0                                        [Grocery & Gourmet Food, Dairy, Cheese & Eggs, Cheese, Gouda]   \n",
       "1                               [Grocery & Gourmet Food, Cooking & Baking, Sugar Substitutes, Xylitol]   \n",
       "2  [Grocery & Gourmet Food, Cooking & Baking, Frosting, Icing & Decorations, Cake & Cupcake Toppers...   \n",
       "3  [Grocery & Gourmet Food, Cooking & Baking, Frosting, Icing & Decorations, Cake & Cupcake Toppers...   \n",
       "4  [Grocery & Gourmet Food, Cooking & Baking, Frosting, Icing & Decorations, Cake & Cupcake Toppers...   \n",
       "\n",
       "                                                                                           description  \\\n",
       "0  [BEEMSTER GOUDA CHEESE AGED 18/24 MONTHS, Statements regarding dietary supplements have not been...   \n",
       "1  [Shipped from UK, please allow 10 to 21 business days for arrival. ex lib pub by Applied Science...   \n",
       "2  [Jazz up your cakes with a sparkling monogram from our Sparkling collection! These single letter...   \n",
       "3                                                                        [Large Letter - Height 4.75\"]   \n",
       "4                                                                                              [4.75\"]   \n",
       "\n",
       "                                                              title  \\\n",
       "0                 Beemster Gouda - Aged 18/24 Months - App. 1.5 Lbs   \n",
       "1                                         Trim Healthy Mama Xylitol   \n",
       "2  Letter C - Swarovski Crystal Monogram Wedding Cake Topper Letter   \n",
       "3  Letter H - Swarovski Crystal Monogram Wedding Cake Topper Letter   \n",
       "4  Letter S - Swarovski Crystal Monogram Wedding Cake Topper Letter   \n",
       "\n",
       "            brand  \\\n",
       "0  Ariola Imports   \n",
       "1             NaN   \n",
       "2  Unik Occasions   \n",
       "3           Other   \n",
       "4  Unik Occasions   \n",
       "\n",
       "                                                                                                  rank  \\\n",
       "0                                                                         165,181inGroceryGourmetFood(   \n",
       "1                                                                         315,867inGroceryGourmetFood(   \n",
       "2  >#669,941 in Kitchen & Dining (See Top 100 in Kitchen & Dining)>#9,899 in Kitchen & Dining > Bak...   \n",
       "3  >#832,581 in Kitchen & Dining (See Top 100 in Kitchen & Dining)>#12,883 in Kitchen & Dining > Ba...   \n",
       "4  >#590,999 in Kitchen & Dining (See Top 100 in Kitchen & Dining)>#8,585 in Kitchen & Dining > Bak...   \n",
       "\n",
       "                                                                  also_view  \\\n",
       "0  [B0000D9MYM, B0000D9MYL, B00ADHIGBA, B00H9OX598, B001LM42GY, B001LM5TDY]   \n",
       "1                                                                       NaN   \n",
       "2                                                              [B07DXN65TF]   \n",
       "3                                                                       NaN   \n",
       "4                                                                       NaN   \n",
       "\n",
       "      main_cat   price        asin  \\\n",
       "0      Grocery  $41.91  0681727810   \n",
       "1      Grocery     NaN  0853347867   \n",
       "2  Amazon Home  $29.95  1888861118   \n",
       "3  Amazon Home  $11.45  1888861517   \n",
       "4  Amazon Home  $15.00  1888861614   \n",
       "\n",
       "                                                                                              also_buy  \\\n",
       "0                                                                                                  NaN   \n",
       "1  [B01898YHXK, B01BCM6LAC, B00Q4OL47O, B00Q4OL5QE, 0804189986, B00Q4OL2F8, 1101902663, B019PDEUU8,...   \n",
       "2                                                                                                  NaN   \n",
       "3                                                                                                  NaN   \n",
       "4                                                                                                  NaN   \n",
       "\n",
       "                                                                                                 image  \\\n",
       "0                                                                                                  NaN   \n",
       "1  [https://images-na.ssl-images-amazon.com/images/I/5135fT93xtL._SS40_.jpg, https://images-na.ssl-...   \n",
       "2                                                                                                  NaN   \n",
       "3                                                                                                  NaN   \n",
       "4                                                                                                  NaN   \n",
       "\n",
       "                 date                        feature details similar_item  \\\n",
       "0                 NaN                            NaN     NaN          NaN   \n",
       "1                 NaN                            NaN     NaN          NaN   \n",
       "2  September 21, 2010                            NaN     NaN          NaN   \n",
       "3  September 11, 2011  [Large Letter - Height 4.75\"]     NaN          NaN   \n",
       "4  September 11, 2011                 [4.75\" height]     NaN          NaN   \n",
       "\n",
       "  tech1  fit  \n",
       "0   NaN  NaN  \n",
       "1   NaN  NaN  \n",
       "2   NaN  NaN  \n",
       "3   NaN  NaN  \n",
       "4   NaN  NaN  "
      ]
     },
     "metadata": {},
     "output_type": "display_data"
    },
    {
     "name": "stdout",
     "output_type": "stream",
     "text": [
      "\n",
      "Reviews dataset:\n"
     ]
    },
    {
     "data": {
      "text/html": [
       "<div>\n",
       "<style scoped>\n",
       "    .dataframe tbody tr th:only-of-type {\n",
       "        vertical-align: middle;\n",
       "    }\n",
       "\n",
       "    .dataframe tbody tr th {\n",
       "        vertical-align: top;\n",
       "    }\n",
       "\n",
       "    .dataframe thead th {\n",
       "        text-align: right;\n",
       "    }\n",
       "</style>\n",
       "<table border=\"1\" class=\"dataframe\">\n",
       "  <thead>\n",
       "    <tr style=\"text-align: right;\">\n",
       "      <th></th>\n",
       "      <th>overall</th>\n",
       "      <th>verified</th>\n",
       "      <th>reviewTime</th>\n",
       "      <th>reviewerID</th>\n",
       "      <th>asin</th>\n",
       "      <th>reviewerName</th>\n",
       "      <th>reviewText</th>\n",
       "      <th>summary</th>\n",
       "      <th>unixReviewTime</th>\n",
       "      <th>vote</th>\n",
       "      <th>image</th>\n",
       "      <th>style</th>\n",
       "    </tr>\n",
       "  </thead>\n",
       "  <tbody>\n",
       "    <tr>\n",
       "      <th>0</th>\n",
       "      <td>5</td>\n",
       "      <td>True</td>\n",
       "      <td>06 4, 2013</td>\n",
       "      <td>ALP49FBWT4I7V</td>\n",
       "      <td>1888861614</td>\n",
       "      <td>Lori</td>\n",
       "      <td>Very pleased with my purchase. Looks exactly like the picture and will look great on my cake. It...</td>\n",
       "      <td>Love it</td>\n",
       "      <td>1370304000</td>\n",
       "      <td>NaN</td>\n",
       "      <td>NaN</td>\n",
       "      <td>NaN</td>\n",
       "    </tr>\n",
       "    <tr>\n",
       "      <th>1</th>\n",
       "      <td>4</td>\n",
       "      <td>True</td>\n",
       "      <td>05 23, 2014</td>\n",
       "      <td>A1KPIZOCLB9FZ8</td>\n",
       "      <td>1888861614</td>\n",
       "      <td>BK Shopper</td>\n",
       "      <td>Very nicely crafted but too small. Am going to have to add some flowers or something to compensa...</td>\n",
       "      <td>Nice but small</td>\n",
       "      <td>1400803200</td>\n",
       "      <td>NaN</td>\n",
       "      <td>NaN</td>\n",
       "      <td>NaN</td>\n",
       "    </tr>\n",
       "    <tr>\n",
       "      <th>2</th>\n",
       "      <td>4</td>\n",
       "      <td>True</td>\n",
       "      <td>05 9, 2014</td>\n",
       "      <td>A2W0FA06IYAYQE</td>\n",
       "      <td>1888861614</td>\n",
       "      <td>daninethequeen</td>\n",
       "      <td>still very pretty and well made...i am super picky so don't listen to me...*whispers* but it doe...</td>\n",
       "      <td>the \"s\" looks like a 5, kina</td>\n",
       "      <td>1399593600</td>\n",
       "      <td>NaN</td>\n",
       "      <td>NaN</td>\n",
       "      <td>NaN</td>\n",
       "    </tr>\n",
       "    <tr>\n",
       "      <th>3</th>\n",
       "      <td>5</td>\n",
       "      <td>True</td>\n",
       "      <td>04 20, 2014</td>\n",
       "      <td>A2PTZTCH2QUYBC</td>\n",
       "      <td>1888861614</td>\n",
       "      <td>Tammara</td>\n",
       "      <td>I got this for our wedding cake, and it was everything even more on in person, I would recommend...</td>\n",
       "      <td>Would recommend this to a friend!</td>\n",
       "      <td>1397952000</td>\n",
       "      <td>NaN</td>\n",
       "      <td>NaN</td>\n",
       "      <td>NaN</td>\n",
       "    </tr>\n",
       "    <tr>\n",
       "      <th>4</th>\n",
       "      <td>4</td>\n",
       "      <td>True</td>\n",
       "      <td>04 16, 2014</td>\n",
       "      <td>A2VNHGJ59N4Z90</td>\n",
       "      <td>1888861614</td>\n",
       "      <td>LaQuinta Alexander</td>\n",
       "      <td>It was just what I want to put at the top of my wedding cake. I love it &amp; it's true to the picture.</td>\n",
       "      <td>Topper</td>\n",
       "      <td>1397606400</td>\n",
       "      <td>NaN</td>\n",
       "      <td>NaN</td>\n",
       "      <td>NaN</td>\n",
       "    </tr>\n",
       "    <tr>\n",
       "      <th>...</th>\n",
       "      <td>...</td>\n",
       "      <td>...</td>\n",
       "      <td>...</td>\n",
       "      <td>...</td>\n",
       "      <td>...</td>\n",
       "      <td>...</td>\n",
       "      <td>...</td>\n",
       "      <td>...</td>\n",
       "      <td>...</td>\n",
       "      <td>...</td>\n",
       "      <td>...</td>\n",
       "      <td>...</td>\n",
       "    </tr>\n",
       "    <tr>\n",
       "      <th>5074155</th>\n",
       "      <td>5</td>\n",
       "      <td>True</td>\n",
       "      <td>10 4, 2018</td>\n",
       "      <td>AGOPF2VTEOP57</td>\n",
       "      <td>B01HJHSVG6</td>\n",
       "      <td>Bob</td>\n",
       "      <td>Love this product, very fresh, complete full flavor, will buy again</td>\n",
       "      <td>Exceclent product</td>\n",
       "      <td>1538611200</td>\n",
       "      <td>NaN</td>\n",
       "      <td>NaN</td>\n",
       "      <td>{'Size:': ' 2.29 oz'}</td>\n",
       "    </tr>\n",
       "    <tr>\n",
       "      <th>5074156</th>\n",
       "      <td>3</td>\n",
       "      <td>True</td>\n",
       "      <td>10 3, 2018</td>\n",
       "      <td>A5X5TI4JCH9CN</td>\n",
       "      <td>B01HJHSVG6</td>\n",
       "      <td>Jacqueline Schafer</td>\n",
       "      <td>Good taste but small quantity for the expensive price. Organic vanilla is usually not so expensi...</td>\n",
       "      <td>Good taste but small quantity for the price used 3/4 of this for 1 recipe</td>\n",
       "      <td>1538524800</td>\n",
       "      <td>NaN</td>\n",
       "      <td>NaN</td>\n",
       "      <td>{'Size:': ' 2.29 oz'}</td>\n",
       "    </tr>\n",
       "    <tr>\n",
       "      <th>5074157</th>\n",
       "      <td>4</td>\n",
       "      <td>True</td>\n",
       "      <td>10 2, 2018</td>\n",
       "      <td>A1WMQQLC3TVAFI</td>\n",
       "      <td>B01HJHSVG6</td>\n",
       "      <td>Motionjunkie</td>\n",
       "      <td>Unlike some of the bad reviews regarding aroma, when I opened the glass jar, I got a good whiff ...</td>\n",
       "      <td>See Comments below</td>\n",
       "      <td>1538438400</td>\n",
       "      <td>NaN</td>\n",
       "      <td>NaN</td>\n",
       "      <td>{'Size:': ' 2.29 oz'}</td>\n",
       "    </tr>\n",
       "    <tr>\n",
       "      <th>5074158</th>\n",
       "      <td>5</td>\n",
       "      <td>True</td>\n",
       "      <td>09 30, 2018</td>\n",
       "      <td>ALVP6JZRTEDY6</td>\n",
       "      <td>B01HJHSVG6</td>\n",
       "      <td>Marissa</td>\n",
       "      <td>I absolutely love this vanilla bean paste. I had been using vanilla extract for my dessert and b...</td>\n",
       "      <td>Love!!</td>\n",
       "      <td>1538265600</td>\n",
       "      <td>NaN</td>\n",
       "      <td>NaN</td>\n",
       "      <td>{'Size:': ' 2.29 oz'}</td>\n",
       "    </tr>\n",
       "    <tr>\n",
       "      <th>5074159</th>\n",
       "      <td>5</td>\n",
       "      <td>True</td>\n",
       "      <td>09 29, 2018</td>\n",
       "      <td>AZFPVUZOVGBYR</td>\n",
       "      <td>B01HJHSVG6</td>\n",
       "      <td>Amazon Customer</td>\n",
       "      <td>So delicious!</td>\n",
       "      <td>Worth it</td>\n",
       "      <td>1538179200</td>\n",
       "      <td>NaN</td>\n",
       "      <td>NaN</td>\n",
       "      <td>{'Size:': ' 2.29 oz'}</td>\n",
       "    </tr>\n",
       "  </tbody>\n",
       "</table>\n",
       "<p>5074160 rows × 12 columns</p>\n",
       "</div>"
      ],
      "text/plain": [
       "         overall  verified   reviewTime      reviewerID        asin  \\\n",
       "0              5      True   06 4, 2013   ALP49FBWT4I7V  1888861614   \n",
       "1              4      True  05 23, 2014  A1KPIZOCLB9FZ8  1888861614   \n",
       "2              4      True   05 9, 2014  A2W0FA06IYAYQE  1888861614   \n",
       "3              5      True  04 20, 2014  A2PTZTCH2QUYBC  1888861614   \n",
       "4              4      True  04 16, 2014  A2VNHGJ59N4Z90  1888861614   \n",
       "...          ...       ...          ...             ...         ...   \n",
       "5074155        5      True   10 4, 2018   AGOPF2VTEOP57  B01HJHSVG6   \n",
       "5074156        3      True   10 3, 2018   A5X5TI4JCH9CN  B01HJHSVG6   \n",
       "5074157        4      True   10 2, 2018  A1WMQQLC3TVAFI  B01HJHSVG6   \n",
       "5074158        5      True  09 30, 2018   ALVP6JZRTEDY6  B01HJHSVG6   \n",
       "5074159        5      True  09 29, 2018   AZFPVUZOVGBYR  B01HJHSVG6   \n",
       "\n",
       "               reviewerName  \\\n",
       "0                      Lori   \n",
       "1                BK Shopper   \n",
       "2            daninethequeen   \n",
       "3                   Tammara   \n",
       "4        LaQuinta Alexander   \n",
       "...                     ...   \n",
       "5074155                 Bob   \n",
       "5074156  Jacqueline Schafer   \n",
       "5074157        Motionjunkie   \n",
       "5074158             Marissa   \n",
       "5074159     Amazon Customer   \n",
       "\n",
       "                                                                                                  reviewText  \\\n",
       "0        Very pleased with my purchase. Looks exactly like the picture and will look great on my cake. It...   \n",
       "1        Very nicely crafted but too small. Am going to have to add some flowers or something to compensa...   \n",
       "2        still very pretty and well made...i am super picky so don't listen to me...*whispers* but it doe...   \n",
       "3        I got this for our wedding cake, and it was everything even more on in person, I would recommend...   \n",
       "4        It was just what I want to put at the top of my wedding cake. I love it & it's true to the picture.   \n",
       "...                                                                                                      ...   \n",
       "5074155                                  Love this product, very fresh, complete full flavor, will buy again   \n",
       "5074156  Good taste but small quantity for the expensive price. Organic vanilla is usually not so expensi...   \n",
       "5074157  Unlike some of the bad reviews regarding aroma, when I opened the glass jar, I got a good whiff ...   \n",
       "5074158  I absolutely love this vanilla bean paste. I had been using vanilla extract for my dessert and b...   \n",
       "5074159                                                                                        So delicious!   \n",
       "\n",
       "                                                                           summary  \\\n",
       "0                                                                          Love it   \n",
       "1                                                                   Nice but small   \n",
       "2                                                     the \"s\" looks like a 5, kina   \n",
       "3                                                Would recommend this to a friend!   \n",
       "4                                                                           Topper   \n",
       "...                                                                            ...   \n",
       "5074155                                                          Exceclent product   \n",
       "5074156  Good taste but small quantity for the price used 3/4 of this for 1 recipe   \n",
       "5074157                                                         See Comments below   \n",
       "5074158                                                                     Love!!   \n",
       "5074159                                                                   Worth it   \n",
       "\n",
       "         unixReviewTime vote image                  style  \n",
       "0            1370304000  NaN   NaN                    NaN  \n",
       "1            1400803200  NaN   NaN                    NaN  \n",
       "2            1399593600  NaN   NaN                    NaN  \n",
       "3            1397952000  NaN   NaN                    NaN  \n",
       "4            1397606400  NaN   NaN                    NaN  \n",
       "...                 ...  ...   ...                    ...  \n",
       "5074155      1538611200  NaN   NaN  {'Size:': ' 2.29 oz'}  \n",
       "5074156      1538524800  NaN   NaN  {'Size:': ' 2.29 oz'}  \n",
       "5074157      1538438400  NaN   NaN  {'Size:': ' 2.29 oz'}  \n",
       "5074158      1538265600  NaN   NaN  {'Size:': ' 2.29 oz'}  \n",
       "5074159      1538179200  NaN   NaN  {'Size:': ' 2.29 oz'}  \n",
       "\n",
       "[5074160 rows x 12 columns]"
      ]
     },
     "execution_count": 7,
     "metadata": {},
     "output_type": "execute_result"
    }
   ],
   "source": [
    "reviews = read_file(REVIEW_FILE)\n",
    "meta = read_file(META_FILE)\n",
    "print(\"Meta dataset:\")\n",
    "display(meta.head())\n",
    "print(\"\\nReviews dataset:\")\n",
    "reviews"
   ]
  },
  {
   "cell_type": "markdown",
   "metadata": {},
   "source": [
    "We have 5'064'160 reviews and these reviews have 12 attributes. Here is [an example](https://www.amazon.com/gp/customer-reviews/R3OL49W8SWC4EW/ref=cm_cr_arp_d_rvw_ttl?ie=UTF8&ASIN=B0000D916Y) of an Amazon review to illustrate, coming from [this product](https://www.amazon.com/Davids-Cookies-Christmas-Corporate-Certified/dp/B0000D916Y/ref=cm_cr_arp_d_product_top?ie=UTF8).\n",
    "\n",
    "<img src=\"misc/amazon-review-example.png\">\n",
    "\n",
    "First let's try to find this review."
   ]
  },
  {
   "cell_type": "code",
   "execution_count": 8,
   "metadata": {},
   "outputs": [
    {
     "data": {
      "text/html": [
       "<div>\n",
       "<style scoped>\n",
       "    .dataframe tbody tr th:only-of-type {\n",
       "        vertical-align: middle;\n",
       "    }\n",
       "\n",
       "    .dataframe tbody tr th {\n",
       "        vertical-align: top;\n",
       "    }\n",
       "\n",
       "    .dataframe thead th {\n",
       "        text-align: right;\n",
       "    }\n",
       "</style>\n",
       "<table border=\"1\" class=\"dataframe\">\n",
       "  <thead>\n",
       "    <tr style=\"text-align: right;\">\n",
       "      <th></th>\n",
       "      <th>overall</th>\n",
       "      <th>verified</th>\n",
       "      <th>reviewTime</th>\n",
       "      <th>reviewerID</th>\n",
       "      <th>asin</th>\n",
       "      <th>reviewerName</th>\n",
       "      <th>reviewText</th>\n",
       "      <th>summary</th>\n",
       "      <th>unixReviewTime</th>\n",
       "      <th>vote</th>\n",
       "      <th>image</th>\n",
       "      <th>style</th>\n",
       "    </tr>\n",
       "  </thead>\n",
       "  <tbody>\n",
       "    <tr>\n",
       "      <th>7935</th>\n",
       "      <td>5</td>\n",
       "      <td>False</td>\n",
       "      <td>01 22, 2018</td>\n",
       "      <td>A129TBMOQD79CZ</td>\n",
       "      <td>B0000D916Y</td>\n",
       "      <td>Shawna J. Pierce</td>\n",
       "      <td>Someone sent us a tin of Davids Cookies over the holidays and they were DELICIOUS. These are now...</td>\n",
       "      <td>Not your average tin of cookies!</td>\n",
       "      <td>1516579200</td>\n",
       "      <td>NaN</td>\n",
       "      <td>NaN</td>\n",
       "      <td>{'Size:': ' 1 lbs (12 -1.5oz cookies)', 'Flavor:': ' Chocolate Chunk'}</td>\n",
       "    </tr>\n",
       "    <tr>\n",
       "      <th>9256</th>\n",
       "      <td>5</td>\n",
       "      <td>False</td>\n",
       "      <td>01 22, 2018</td>\n",
       "      <td>A129TBMOQD79CZ</td>\n",
       "      <td>B0000D9169</td>\n",
       "      <td>Shawna J. Pierce</td>\n",
       "      <td>Someone sent us a tin of Davids Cookies over the holidays and they were DELICIOUS. These are now...</td>\n",
       "      <td>Not your average tin of cookies!</td>\n",
       "      <td>1516579200</td>\n",
       "      <td>NaN</td>\n",
       "      <td>NaN</td>\n",
       "      <td>NaN</td>\n",
       "    </tr>\n",
       "  </tbody>\n",
       "</table>\n",
       "</div>"
      ],
      "text/plain": [
       "      overall  verified   reviewTime      reviewerID        asin  \\\n",
       "7935        5     False  01 22, 2018  A129TBMOQD79CZ  B0000D916Y   \n",
       "9256        5     False  01 22, 2018  A129TBMOQD79CZ  B0000D9169   \n",
       "\n",
       "          reviewerName  \\\n",
       "7935  Shawna J. Pierce   \n",
       "9256  Shawna J. Pierce   \n",
       "\n",
       "                                                                                               reviewText  \\\n",
       "7935  Someone sent us a tin of Davids Cookies over the holidays and they were DELICIOUS. These are now...   \n",
       "9256  Someone sent us a tin of Davids Cookies over the holidays and they were DELICIOUS. These are now...   \n",
       "\n",
       "                               summary  unixReviewTime vote image  \\\n",
       "7935  Not your average tin of cookies!      1516579200  NaN   NaN   \n",
       "9256  Not your average tin of cookies!      1516579200  NaN   NaN   \n",
       "\n",
       "                                                                       style  \n",
       "7935  {'Size:': ' 1 lbs (12 -1.5oz cookies)', 'Flavor:': ' Chocolate Chunk'}  \n",
       "9256                                                                     NaN  "
      ]
     },
     "execution_count": 8,
     "metadata": {},
     "output_type": "execute_result"
    }
   ],
   "source": [
    "reviews_example = reviews[reviews[\"summary\"] == \"Not your average tin of cookies!\"]\n",
    "reviews_example"
   ]
  },
  {
   "cell_type": "markdown",
   "metadata": {},
   "source": [
    "Weird, these two reviews look like they are almost the same, but we'll get back to it later. Let's first understand the columns. Using this review: (and image to help comparing)\n",
    "\n",
    "<img src=\"misc/amazon-review-example.png\">"
   ]
  },
  {
   "cell_type": "code",
   "execution_count": 9,
   "metadata": {},
   "outputs": [
    {
     "data": {
      "text/html": [
       "<div>\n",
       "<style scoped>\n",
       "    .dataframe tbody tr th:only-of-type {\n",
       "        vertical-align: middle;\n",
       "    }\n",
       "\n",
       "    .dataframe tbody tr th {\n",
       "        vertical-align: top;\n",
       "    }\n",
       "\n",
       "    .dataframe thead th {\n",
       "        text-align: right;\n",
       "    }\n",
       "</style>\n",
       "<table border=\"1\" class=\"dataframe\">\n",
       "  <thead>\n",
       "    <tr style=\"text-align: right;\">\n",
       "      <th></th>\n",
       "      <th>overall</th>\n",
       "      <th>verified</th>\n",
       "      <th>reviewTime</th>\n",
       "      <th>reviewerID</th>\n",
       "      <th>asin</th>\n",
       "      <th>reviewerName</th>\n",
       "      <th>reviewText</th>\n",
       "      <th>summary</th>\n",
       "      <th>unixReviewTime</th>\n",
       "      <th>vote</th>\n",
       "      <th>image</th>\n",
       "      <th>style</th>\n",
       "    </tr>\n",
       "  </thead>\n",
       "  <tbody>\n",
       "    <tr>\n",
       "      <th>7935</th>\n",
       "      <td>5</td>\n",
       "      <td>False</td>\n",
       "      <td>01 22, 2018</td>\n",
       "      <td>A129TBMOQD79CZ</td>\n",
       "      <td>B0000D916Y</td>\n",
       "      <td>Shawna J. Pierce</td>\n",
       "      <td>Someone sent us a tin of Davids Cookies over the holidays and they were DELICIOUS. These are now...</td>\n",
       "      <td>Not your average tin of cookies!</td>\n",
       "      <td>1516579200</td>\n",
       "      <td>NaN</td>\n",
       "      <td>NaN</td>\n",
       "      <td>{'Size:': ' 1 lbs (12 -1.5oz cookies)', 'Flavor:': ' Chocolate Chunk'}</td>\n",
       "    </tr>\n",
       "  </tbody>\n",
       "</table>\n",
       "</div>"
      ],
      "text/plain": [
       "      overall  verified   reviewTime      reviewerID        asin  \\\n",
       "7935        5     False  01 22, 2018  A129TBMOQD79CZ  B0000D916Y   \n",
       "\n",
       "          reviewerName  \\\n",
       "7935  Shawna J. Pierce   \n",
       "\n",
       "                                                                                               reviewText  \\\n",
       "7935  Someone sent us a tin of Davids Cookies over the holidays and they were DELICIOUS. These are now...   \n",
       "\n",
       "                               summary  unixReviewTime vote image  \\\n",
       "7935  Not your average tin of cookies!      1516579200  NaN   NaN   \n",
       "\n",
       "                                                                       style  \n",
       "7935  {'Size:': ' 1 lbs (12 -1.5oz cookies)', 'Flavor:': ' Chocolate Chunk'}  "
      ]
     },
     "execution_count": 9,
     "metadata": {},
     "output_type": "execute_result"
    }
   ],
   "source": [
    "reviews_example[reviews_example[\"style\"].notnull()]"
   ]
  },
  {
   "cell_type": "markdown",
   "metadata": {},
   "source": [
    "`overall`: the number of stars\\\n",
    "`verified`: tells us if the purchase has been verified, not the case here\\\n",
    "`reviewTime`: Time of the review (day)\\\n",
    "`reviewerID`: Id of the reviewer\\\n",
    "`asin`: Id of the reviewed product (here the cookies)\\\n",
    "`reviewerName`: The name of the reviewer\\\n",
    "`reviewText`: The content of the review\\\n",
    "`summary`: The small sentence to summarize the review (the bold text on the image)\\\n",
    "`unixReviewTime`: Time of the review in unix time\\\n",
    "`vote`: The number of \"Helpful\" a review has received, here it has received 0. So the value is NaN, they are in essence upvotes.\\\n",
    "`image`: You can link an image in your review on Amazon, here there is none\\\n",
    "`style`: The greyish link below the date, right below the date. It is in fact a link to buy this product: 12 cookies and chocolate chunk flavor\n",
    "\n",
    "Here you can see an example of a verified review, with 6 upvotes:\n",
    "\n",
    "<img src=\"misc/amazon-review-example-upvote.png\">\n",
    "\n",
    "Now let's look at bit closer at why we have two different reviews that look like they are the same."
   ]
  },
  {
   "cell_type": "code",
   "execution_count": 10,
   "metadata": {},
   "outputs": [
    {
     "data": {
      "text/html": [
       "<div>\n",
       "<style scoped>\n",
       "    .dataframe tbody tr th:only-of-type {\n",
       "        vertical-align: middle;\n",
       "    }\n",
       "\n",
       "    .dataframe tbody tr th {\n",
       "        vertical-align: top;\n",
       "    }\n",
       "\n",
       "    .dataframe thead th {\n",
       "        text-align: right;\n",
       "    }\n",
       "</style>\n",
       "<table border=\"1\" class=\"dataframe\">\n",
       "  <thead>\n",
       "    <tr style=\"text-align: right;\">\n",
       "      <th></th>\n",
       "      <th>asin</th>\n",
       "      <th>vote</th>\n",
       "      <th>image</th>\n",
       "      <th>style</th>\n",
       "    </tr>\n",
       "  </thead>\n",
       "  <tbody>\n",
       "    <tr>\n",
       "      <th>7935</th>\n",
       "      <td>B0000D916Y</td>\n",
       "      <td>NaN</td>\n",
       "      <td>NaN</td>\n",
       "      <td>{'Size:': ' 1 lbs (12 -1.5oz cookies)', 'Flavor:': ' Chocolate Chunk'}</td>\n",
       "    </tr>\n",
       "    <tr>\n",
       "      <th>9256</th>\n",
       "      <td>B0000D9169</td>\n",
       "      <td>NaN</td>\n",
       "      <td>NaN</td>\n",
       "      <td>NaN</td>\n",
       "    </tr>\n",
       "  </tbody>\n",
       "</table>\n",
       "</div>"
      ],
      "text/plain": [
       "            asin vote image  \\\n",
       "7935  B0000D916Y  NaN   NaN   \n",
       "9256  B0000D9169  NaN   NaN   \n",
       "\n",
       "                                                                       style  \n",
       "7935  {'Size:': ' 1 lbs (12 -1.5oz cookies)', 'Flavor:': ' Chocolate Chunk'}  \n",
       "9256                                                                     NaN  "
      ]
     },
     "execution_count": 10,
     "metadata": {},
     "output_type": "execute_result"
    }
   ],
   "source": [
    "# Show values that differ in the two reviews\n",
    "reviews_example.loc[:, reviews_example.values[0] != reviews_example.values[1]]"
   ]
  },
  {
   "cell_type": "markdown",
   "metadata": {},
   "source": [
    "So one of them has `style` while the other one doesn't and they are apparently not about the same product. This sounds weird, why would a person post the exact same comment for two different products?\n",
    "\n",
    "Let's take a closer look at these two products"
   ]
  },
  {
   "cell_type": "code",
   "execution_count": 11,
   "metadata": {},
   "outputs": [
    {
     "data": {
      "text/html": [
       "<div>\n",
       "<style scoped>\n",
       "    .dataframe tbody tr th:only-of-type {\n",
       "        vertical-align: middle;\n",
       "    }\n",
       "\n",
       "    .dataframe tbody tr th {\n",
       "        vertical-align: top;\n",
       "    }\n",
       "\n",
       "    .dataframe thead th {\n",
       "        text-align: right;\n",
       "    }\n",
       "</style>\n",
       "<table border=\"1\" class=\"dataframe\">\n",
       "  <thead>\n",
       "    <tr style=\"text-align: right;\">\n",
       "      <th></th>\n",
       "      <th>category</th>\n",
       "      <th>description</th>\n",
       "      <th>title</th>\n",
       "      <th>brand</th>\n",
       "      <th>rank</th>\n",
       "      <th>also_view</th>\n",
       "      <th>main_cat</th>\n",
       "      <th>price</th>\n",
       "      <th>asin</th>\n",
       "      <th>also_buy</th>\n",
       "      <th>image</th>\n",
       "      <th>date</th>\n",
       "      <th>feature</th>\n",
       "      <th>details</th>\n",
       "      <th>similar_item</th>\n",
       "      <th>tech1</th>\n",
       "      <th>fit</th>\n",
       "    </tr>\n",
       "  </thead>\n",
       "  <tbody>\n",
       "    <tr>\n",
       "      <th>402</th>\n",
       "      <td>[Grocery &amp; Gourmet Food, Snack Foods, Cookies, Chocolate Chip]</td>\n",
       "      <td>[, For those in search of a delicious, fresh, and certified kosher gift for family, friends, or ...</td>\n",
       "      <td>David's Cookies - 24 Fresh Baked M&amp;M Candy Cookie Gourmet Gift Basket - Christmas, Holiday &amp; Cor...</td>\n",
       "      <td>David's Cookies</td>\n",
       "      <td>299,472inGroceryGourmetFood(</td>\n",
       "      <td>[B0000DA0XJ, B000PQQQSO, B000BB4SUG, B01NCEV877, B07KWG1PG2, B01E4KN8DM, B01N8OP47H, B00F4DF9JU,...</td>\n",
       "      <td>Grocery</td>\n",
       "      <td>NaN</td>\n",
       "      <td>B0000D916Y</td>\n",
       "      <td>[B000BB4SUG, B01NCEV877, B000PQQQSO, B01E4KN8DM, B0000DA0XJ, B07KWG1PG2, B000PQQR4W, B01N8OP47H,...</td>\n",
       "      <td>[https://images-na.ssl-images-amazon.com/images/I/51X3C40yx%2BL._SS40_.jpg, https://images-na.ss...</td>\n",
       "      <td>NaN</td>\n",
       "      <td>NaN</td>\n",
       "      <td>\\n\\n\\n\\n\\n\\n    &lt;div class=\"disclaim\"&gt;Flavor: &lt;strong&gt;M&amp;M&lt;/strong&gt;&amp;nbsp;|&amp;nbsp;Size: &lt;strong&gt;2 l...</td>\n",
       "      <td>NaN</td>\n",
       "      <td>NaN</td>\n",
       "      <td>NaN</td>\n",
       "    </tr>\n",
       "    <tr>\n",
       "      <th>4099</th>\n",
       "      <td>[Grocery &amp; Gourmet Food, Snack Foods, Cookies, Chocolate Chip]</td>\n",
       "      <td>[, For those in search of a delicious, fresh, and certified kosher gift for family, friends, or ...</td>\n",
       "      <td>David's Cookies - 24 Fresh Baked M&amp;M Candy Cookie Gourmet Gift Basket - Christmas, Holiday &amp; Cor...</td>\n",
       "      <td>David's Cookies</td>\n",
       "      <td>299,472inGroceryGourmetFood(</td>\n",
       "      <td>[B0000DA0XJ, B000PQQQSO, B000BB4SUG, B01NCEV877, B07KWG1PG2, B01E4KN8DM, B01N8OP47H, B00F4DF9JU,...</td>\n",
       "      <td>Grocery</td>\n",
       "      <td>NaN</td>\n",
       "      <td>B0000D916Y</td>\n",
       "      <td>[B000BB4SUG, B01NCEV877, B000PQQQSO, B01E4KN8DM, B0000DA0XJ, B07KWG1PG2, B000PQQR4W, B01N8OP47H,...</td>\n",
       "      <td>[https://images-na.ssl-images-amazon.com/images/I/51X3C40yx%2BL._SS40_.jpg, https://images-na.ss...</td>\n",
       "      <td>NaN</td>\n",
       "      <td>NaN</td>\n",
       "      <td>\\n\\n\\n\\n\\n\\n    &lt;div class=\"disclaim\"&gt;Flavor: &lt;strong&gt;M&amp;M&lt;/strong&gt;&amp;nbsp;|&amp;nbsp;Size: &lt;strong&gt;2 l...</td>\n",
       "      <td>NaN</td>\n",
       "      <td>NaN</td>\n",
       "      <td>NaN</td>\n",
       "    </tr>\n",
       "  </tbody>\n",
       "</table>\n",
       "</div>"
      ],
      "text/plain": [
       "                                                            category  \\\n",
       "402   [Grocery & Gourmet Food, Snack Foods, Cookies, Chocolate Chip]   \n",
       "4099  [Grocery & Gourmet Food, Snack Foods, Cookies, Chocolate Chip]   \n",
       "\n",
       "                                                                                              description  \\\n",
       "402   [, For those in search of a delicious, fresh, and certified kosher gift for family, friends, or ...   \n",
       "4099  [, For those in search of a delicious, fresh, and certified kosher gift for family, friends, or ...   \n",
       "\n",
       "                                                                                                    title  \\\n",
       "402   David's Cookies - 24 Fresh Baked M&M Candy Cookie Gourmet Gift Basket - Christmas, Holiday & Cor...   \n",
       "4099  David's Cookies - 24 Fresh Baked M&M Candy Cookie Gourmet Gift Basket - Christmas, Holiday & Cor...   \n",
       "\n",
       "                brand                          rank  \\\n",
       "402   David's Cookies  299,472inGroceryGourmetFood(   \n",
       "4099  David's Cookies  299,472inGroceryGourmetFood(   \n",
       "\n",
       "                                                                                                also_view  \\\n",
       "402   [B0000DA0XJ, B000PQQQSO, B000BB4SUG, B01NCEV877, B07KWG1PG2, B01E4KN8DM, B01N8OP47H, B00F4DF9JU,...   \n",
       "4099  [B0000DA0XJ, B000PQQQSO, B000BB4SUG, B01NCEV877, B07KWG1PG2, B01E4KN8DM, B01N8OP47H, B00F4DF9JU,...   \n",
       "\n",
       "     main_cat price        asin  \\\n",
       "402   Grocery   NaN  B0000D916Y   \n",
       "4099  Grocery   NaN  B0000D916Y   \n",
       "\n",
       "                                                                                                 also_buy  \\\n",
       "402   [B000BB4SUG, B01NCEV877, B000PQQQSO, B01E4KN8DM, B0000DA0XJ, B07KWG1PG2, B000PQQR4W, B01N8OP47H,...   \n",
       "4099  [B000BB4SUG, B01NCEV877, B000PQQQSO, B01E4KN8DM, B0000DA0XJ, B07KWG1PG2, B000PQQR4W, B01N8OP47H,...   \n",
       "\n",
       "                                                                                                    image  \\\n",
       "402   [https://images-na.ssl-images-amazon.com/images/I/51X3C40yx%2BL._SS40_.jpg, https://images-na.ss...   \n",
       "4099  [https://images-na.ssl-images-amazon.com/images/I/51X3C40yx%2BL._SS40_.jpg, https://images-na.ss...   \n",
       "\n",
       "     date feature  \\\n",
       "402   NaN     NaN   \n",
       "4099  NaN     NaN   \n",
       "\n",
       "                                                                                                  details  \\\n",
       "402   \\n\\n\\n\\n\\n\\n    <div class=\"disclaim\">Flavor: <strong>M&M</strong>&nbsp;|&nbsp;Size: <strong>2 l...   \n",
       "4099  \\n\\n\\n\\n\\n\\n    <div class=\"disclaim\">Flavor: <strong>M&M</strong>&nbsp;|&nbsp;Size: <strong>2 l...   \n",
       "\n",
       "     similar_item tech1  fit  \n",
       "402           NaN   NaN  NaN  \n",
       "4099          NaN   NaN  NaN  "
      ]
     },
     "execution_count": 11,
     "metadata": {},
     "output_type": "execute_result"
    }
   ],
   "source": [
    "asins_example = reviews_example['asin'].values\n",
    "product1 = meta[meta[\"asin\"] == asins_example[0]]\n",
    "product1"
   ]
  },
  {
   "cell_type": "markdown",
   "metadata": {},
   "source": [
    "Two rows again, how weird! Let's look at how they differ:"
   ]
  },
  {
   "cell_type": "code",
   "execution_count": 12,
   "metadata": {},
   "outputs": [
    {
     "data": {
      "text/html": [
       "<div>\n",
       "<style scoped>\n",
       "    .dataframe tbody tr th:only-of-type {\n",
       "        vertical-align: middle;\n",
       "    }\n",
       "\n",
       "    .dataframe tbody tr th {\n",
       "        vertical-align: top;\n",
       "    }\n",
       "\n",
       "    .dataframe thead th {\n",
       "        text-align: right;\n",
       "    }\n",
       "</style>\n",
       "<table border=\"1\" class=\"dataframe\">\n",
       "  <thead>\n",
       "    <tr style=\"text-align: right;\">\n",
       "      <th></th>\n",
       "      <th>price</th>\n",
       "      <th>date</th>\n",
       "      <th>feature</th>\n",
       "      <th>similar_item</th>\n",
       "      <th>tech1</th>\n",
       "      <th>fit</th>\n",
       "    </tr>\n",
       "  </thead>\n",
       "  <tbody>\n",
       "    <tr>\n",
       "      <th>402</th>\n",
       "      <td>NaN</td>\n",
       "      <td>NaN</td>\n",
       "      <td>NaN</td>\n",
       "      <td>NaN</td>\n",
       "      <td>NaN</td>\n",
       "      <td>NaN</td>\n",
       "    </tr>\n",
       "    <tr>\n",
       "      <th>4099</th>\n",
       "      <td>NaN</td>\n",
       "      <td>NaN</td>\n",
       "      <td>NaN</td>\n",
       "      <td>NaN</td>\n",
       "      <td>NaN</td>\n",
       "      <td>NaN</td>\n",
       "    </tr>\n",
       "  </tbody>\n",
       "</table>\n",
       "</div>"
      ],
      "text/plain": [
       "     price date feature similar_item tech1  fit\n",
       "402    NaN  NaN     NaN          NaN   NaN  NaN\n",
       "4099   NaN  NaN     NaN          NaN   NaN  NaN"
      ]
     },
     "execution_count": 12,
     "metadata": {},
     "output_type": "execute_result"
    }
   ],
   "source": [
    "product1.loc[:, product1.values[0] != product1.values[1]]"
   ]
  },
  {
   "cell_type": "markdown",
   "metadata": {},
   "source": [
    "This time they are exactly the same, that's interesting to note. We could safely remove one of them.\n",
    "\n",
    "Let's look at the second product:"
   ]
  },
  {
   "cell_type": "code",
   "execution_count": 13,
   "metadata": {},
   "outputs": [
    {
     "data": {
      "text/html": [
       "<div>\n",
       "<style scoped>\n",
       "    .dataframe tbody tr th:only-of-type {\n",
       "        vertical-align: middle;\n",
       "    }\n",
       "\n",
       "    .dataframe tbody tr th {\n",
       "        vertical-align: top;\n",
       "    }\n",
       "\n",
       "    .dataframe thead th {\n",
       "        text-align: right;\n",
       "    }\n",
       "</style>\n",
       "<table border=\"1\" class=\"dataframe\">\n",
       "  <thead>\n",
       "    <tr style=\"text-align: right;\">\n",
       "      <th></th>\n",
       "      <th>category</th>\n",
       "      <th>description</th>\n",
       "      <th>title</th>\n",
       "      <th>brand</th>\n",
       "      <th>rank</th>\n",
       "      <th>also_view</th>\n",
       "      <th>main_cat</th>\n",
       "      <th>price</th>\n",
       "      <th>asin</th>\n",
       "      <th>also_buy</th>\n",
       "      <th>image</th>\n",
       "      <th>date</th>\n",
       "      <th>feature</th>\n",
       "      <th>details</th>\n",
       "      <th>similar_item</th>\n",
       "      <th>tech1</th>\n",
       "      <th>fit</th>\n",
       "    </tr>\n",
       "  </thead>\n",
       "  <tbody>\n",
       "    <tr>\n",
       "      <th>435</th>\n",
       "      <td>[Grocery &amp; Gourmet Food, Snack Foods, Cookies, Chocolate Chip]</td>\n",
       "      <td>NaN</td>\n",
       "      <td>David's Cookies - 24 Fresh Baked Assorted Cookies Gourmet Gift Basket - Christmas, Holiday &amp; Cor...</td>\n",
       "      <td>David's Cookies</td>\n",
       "      <td>29,374inGroceryGourmetFood(</td>\n",
       "      <td>[B0000DA0XJ, B000PQQQSO, B000BB4SUG, B01NCEV877, B07KWG1PG2, B01E4KN8DM, B01N8OP47H, B00F4DF9JU,...</td>\n",
       "      <td>Grocery</td>\n",
       "      <td>$38.95</td>\n",
       "      <td>B0000D9169</td>\n",
       "      <td>[B000BB4SUG, B01NCEV877, B000PQQQSO, B01E4KN8DM, B0000DA0XJ, B07KWG1PG2, B07KWFX2M3, B01N8OP47H,...</td>\n",
       "      <td>[https://images-na.ssl-images-amazon.com/images/I/51Qy2CQ-R1L._SS40_.jpg, https://images-na.ssl-...</td>\n",
       "      <td>NaN</td>\n",
       "      <td>NaN</td>\n",
       "      <td>\\n\\n\\n\\n\\n\\n    &lt;div class=\"disclaim\"&gt;Flavor: &lt;strong&gt;Assorted Flavors&lt;/strong&gt;&amp;nbsp;|&amp;nbsp;Size...</td>\n",
       "      <td>NaN</td>\n",
       "      <td>NaN</td>\n",
       "      <td>NaN</td>\n",
       "    </tr>\n",
       "    <tr>\n",
       "      <th>4132</th>\n",
       "      <td>[Grocery &amp; Gourmet Food, Snack Foods, Cookies, Chocolate Chip]</td>\n",
       "      <td>NaN</td>\n",
       "      <td>David's Cookies - 24 Fresh Baked Assorted Cookies Gourmet Gift Basket - Christmas, Holiday &amp; Cor...</td>\n",
       "      <td>David's Cookies</td>\n",
       "      <td>29,374inGroceryGourmetFood(</td>\n",
       "      <td>[B0000DA0XJ, B000PQQQSO, B000BB4SUG, B01NCEV877, B07KWG1PG2, B01E4KN8DM, B01N8OP47H, B00F4DF9JU,...</td>\n",
       "      <td>Grocery</td>\n",
       "      <td>$38.95</td>\n",
       "      <td>B0000D9169</td>\n",
       "      <td>[B000BB4SUG, B01NCEV877, B000PQQQSO, B01E4KN8DM, B0000DA0XJ, B07KWG1PG2, B07KWFX2M3, B01N8OP47H,...</td>\n",
       "      <td>[https://images-na.ssl-images-amazon.com/images/I/51Qy2CQ-R1L._SS40_.jpg, https://images-na.ssl-...</td>\n",
       "      <td>NaN</td>\n",
       "      <td>NaN</td>\n",
       "      <td>\\n\\n\\n\\n\\n\\n    &lt;div class=\"disclaim\"&gt;Flavor: &lt;strong&gt;Assorted Flavors&lt;/strong&gt;&amp;nbsp;|&amp;nbsp;Size...</td>\n",
       "      <td>NaN</td>\n",
       "      <td>NaN</td>\n",
       "      <td>NaN</td>\n",
       "    </tr>\n",
       "  </tbody>\n",
       "</table>\n",
       "</div>"
      ],
      "text/plain": [
       "                                                            category  \\\n",
       "435   [Grocery & Gourmet Food, Snack Foods, Cookies, Chocolate Chip]   \n",
       "4132  [Grocery & Gourmet Food, Snack Foods, Cookies, Chocolate Chip]   \n",
       "\n",
       "     description  \\\n",
       "435          NaN   \n",
       "4132         NaN   \n",
       "\n",
       "                                                                                                    title  \\\n",
       "435   David's Cookies - 24 Fresh Baked Assorted Cookies Gourmet Gift Basket - Christmas, Holiday & Cor...   \n",
       "4132  David's Cookies - 24 Fresh Baked Assorted Cookies Gourmet Gift Basket - Christmas, Holiday & Cor...   \n",
       "\n",
       "                brand                         rank  \\\n",
       "435   David's Cookies  29,374inGroceryGourmetFood(   \n",
       "4132  David's Cookies  29,374inGroceryGourmetFood(   \n",
       "\n",
       "                                                                                                also_view  \\\n",
       "435   [B0000DA0XJ, B000PQQQSO, B000BB4SUG, B01NCEV877, B07KWG1PG2, B01E4KN8DM, B01N8OP47H, B00F4DF9JU,...   \n",
       "4132  [B0000DA0XJ, B000PQQQSO, B000BB4SUG, B01NCEV877, B07KWG1PG2, B01E4KN8DM, B01N8OP47H, B00F4DF9JU,...   \n",
       "\n",
       "     main_cat   price        asin  \\\n",
       "435   Grocery  $38.95  B0000D9169   \n",
       "4132  Grocery  $38.95  B0000D9169   \n",
       "\n",
       "                                                                                                 also_buy  \\\n",
       "435   [B000BB4SUG, B01NCEV877, B000PQQQSO, B01E4KN8DM, B0000DA0XJ, B07KWG1PG2, B07KWFX2M3, B01N8OP47H,...   \n",
       "4132  [B000BB4SUG, B01NCEV877, B000PQQQSO, B01E4KN8DM, B0000DA0XJ, B07KWG1PG2, B07KWFX2M3, B01N8OP47H,...   \n",
       "\n",
       "                                                                                                    image  \\\n",
       "435   [https://images-na.ssl-images-amazon.com/images/I/51Qy2CQ-R1L._SS40_.jpg, https://images-na.ssl-...   \n",
       "4132  [https://images-na.ssl-images-amazon.com/images/I/51Qy2CQ-R1L._SS40_.jpg, https://images-na.ssl-...   \n",
       "\n",
       "     date feature  \\\n",
       "435   NaN     NaN   \n",
       "4132  NaN     NaN   \n",
       "\n",
       "                                                                                                  details  \\\n",
       "435   \\n\\n\\n\\n\\n\\n    <div class=\"disclaim\">Flavor: <strong>Assorted Flavors</strong>&nbsp;|&nbsp;Size...   \n",
       "4132  \\n\\n\\n\\n\\n\\n    <div class=\"disclaim\">Flavor: <strong>Assorted Flavors</strong>&nbsp;|&nbsp;Size...   \n",
       "\n",
       "     similar_item tech1  fit  \n",
       "435           NaN   NaN  NaN  \n",
       "4132          NaN   NaN  NaN  "
      ]
     },
     "execution_count": 13,
     "metadata": {},
     "output_type": "execute_result"
    }
   ],
   "source": [
    "product2 = meta[meta[\"asin\"] == asins_example[1]]\n",
    "product2"
   ]
  },
  {
   "cell_type": "code",
   "execution_count": 14,
   "metadata": {},
   "outputs": [
    {
     "data": {
      "text/html": [
       "<div>\n",
       "<style scoped>\n",
       "    .dataframe tbody tr th:only-of-type {\n",
       "        vertical-align: middle;\n",
       "    }\n",
       "\n",
       "    .dataframe tbody tr th {\n",
       "        vertical-align: top;\n",
       "    }\n",
       "\n",
       "    .dataframe thead th {\n",
       "        text-align: right;\n",
       "    }\n",
       "</style>\n",
       "<table border=\"1\" class=\"dataframe\">\n",
       "  <thead>\n",
       "    <tr style=\"text-align: right;\">\n",
       "      <th></th>\n",
       "      <th>description</th>\n",
       "      <th>date</th>\n",
       "      <th>feature</th>\n",
       "      <th>similar_item</th>\n",
       "      <th>tech1</th>\n",
       "      <th>fit</th>\n",
       "    </tr>\n",
       "  </thead>\n",
       "  <tbody>\n",
       "    <tr>\n",
       "      <th>435</th>\n",
       "      <td>NaN</td>\n",
       "      <td>NaN</td>\n",
       "      <td>NaN</td>\n",
       "      <td>NaN</td>\n",
       "      <td>NaN</td>\n",
       "      <td>NaN</td>\n",
       "    </tr>\n",
       "    <tr>\n",
       "      <th>4132</th>\n",
       "      <td>NaN</td>\n",
       "      <td>NaN</td>\n",
       "      <td>NaN</td>\n",
       "      <td>NaN</td>\n",
       "      <td>NaN</td>\n",
       "      <td>NaN</td>\n",
       "    </tr>\n",
       "  </tbody>\n",
       "</table>\n",
       "</div>"
      ],
      "text/plain": [
       "     description date feature similar_item tech1  fit\n",
       "435          NaN  NaN     NaN          NaN   NaN  NaN\n",
       "4132         NaN  NaN     NaN          NaN   NaN  NaN"
      ]
     },
     "execution_count": 14,
     "metadata": {},
     "output_type": "execute_result"
    }
   ],
   "source": [
    "product2.loc[:, product2.values[0] != product2.values[1]]"
   ]
  },
  {
   "cell_type": "markdown",
   "metadata": {},
   "source": [
    "Again!\n",
    "\n",
    "But how are these two products different?"
   ]
  },
  {
   "cell_type": "code",
   "execution_count": 15,
   "metadata": {},
   "outputs": [
    {
     "data": {
      "text/html": [
       "<div>\n",
       "<style scoped>\n",
       "    .dataframe tbody tr th:only-of-type {\n",
       "        vertical-align: middle;\n",
       "    }\n",
       "\n",
       "    .dataframe tbody tr th {\n",
       "        vertical-align: top;\n",
       "    }\n",
       "\n",
       "    .dataframe thead th {\n",
       "        text-align: right;\n",
       "    }\n",
       "</style>\n",
       "<table border=\"1\" class=\"dataframe\">\n",
       "  <thead>\n",
       "    <tr style=\"text-align: right;\">\n",
       "      <th></th>\n",
       "      <th>description</th>\n",
       "      <th>title</th>\n",
       "      <th>rank</th>\n",
       "      <th>price</th>\n",
       "      <th>asin</th>\n",
       "      <th>also_buy</th>\n",
       "      <th>image</th>\n",
       "      <th>date</th>\n",
       "      <th>feature</th>\n",
       "      <th>details</th>\n",
       "      <th>similar_item</th>\n",
       "      <th>tech1</th>\n",
       "      <th>fit</th>\n",
       "    </tr>\n",
       "  </thead>\n",
       "  <tbody>\n",
       "    <tr>\n",
       "      <th>0</th>\n",
       "      <td>[, For those in search of a delicious, fresh, and certified kosher gift for family, friends, or ...</td>\n",
       "      <td>David's Cookies - 24 Fresh Baked M&amp;M Candy Cookie Gourmet Gift Basket - Christmas, Holiday &amp; Cor...</td>\n",
       "      <td>299,472inGroceryGourmetFood(</td>\n",
       "      <td>NaN</td>\n",
       "      <td>B0000D916Y</td>\n",
       "      <td>[B000BB4SUG, B01NCEV877, B000PQQQSO, B01E4KN8DM, B0000DA0XJ, B07KWG1PG2, B000PQQR4W, B01N8OP47H,...</td>\n",
       "      <td>[https://images-na.ssl-images-amazon.com/images/I/51X3C40yx%2BL._SS40_.jpg, https://images-na.ss...</td>\n",
       "      <td>NaN</td>\n",
       "      <td>NaN</td>\n",
       "      <td>\\n\\n\\n\\n\\n\\n    &lt;div class=\"disclaim\"&gt;Flavor: &lt;strong&gt;M&amp;M&lt;/strong&gt;&amp;nbsp;|&amp;nbsp;Size: &lt;strong&gt;2 l...</td>\n",
       "      <td>NaN</td>\n",
       "      <td>NaN</td>\n",
       "      <td>NaN</td>\n",
       "    </tr>\n",
       "    <tr>\n",
       "      <th>1</th>\n",
       "      <td>NaN</td>\n",
       "      <td>David's Cookies - 24 Fresh Baked Assorted Cookies Gourmet Gift Basket - Christmas, Holiday &amp; Cor...</td>\n",
       "      <td>29,374inGroceryGourmetFood(</td>\n",
       "      <td>$38.95</td>\n",
       "      <td>B0000D9169</td>\n",
       "      <td>[B000BB4SUG, B01NCEV877, B000PQQQSO, B01E4KN8DM, B0000DA0XJ, B07KWG1PG2, B07KWFX2M3, B01N8OP47H,...</td>\n",
       "      <td>[https://images-na.ssl-images-amazon.com/images/I/51Qy2CQ-R1L._SS40_.jpg, https://images-na.ssl-...</td>\n",
       "      <td>NaN</td>\n",
       "      <td>NaN</td>\n",
       "      <td>\\n\\n\\n\\n\\n\\n    &lt;div class=\"disclaim\"&gt;Flavor: &lt;strong&gt;Assorted Flavors&lt;/strong&gt;&amp;nbsp;|&amp;nbsp;Size...</td>\n",
       "      <td>NaN</td>\n",
       "      <td>NaN</td>\n",
       "      <td>NaN</td>\n",
       "    </tr>\n",
       "  </tbody>\n",
       "</table>\n",
       "</div>"
      ],
      "text/plain": [
       "                                                                                           description  \\\n",
       "0  [, For those in search of a delicious, fresh, and certified kosher gift for family, friends, or ...   \n",
       "1                                                                                                  NaN   \n",
       "\n",
       "                                                                                                 title  \\\n",
       "0  David's Cookies - 24 Fresh Baked M&M Candy Cookie Gourmet Gift Basket - Christmas, Holiday & Cor...   \n",
       "1  David's Cookies - 24 Fresh Baked Assorted Cookies Gourmet Gift Basket - Christmas, Holiday & Cor...   \n",
       "\n",
       "                           rank   price        asin  \\\n",
       "0  299,472inGroceryGourmetFood(     NaN  B0000D916Y   \n",
       "1   29,374inGroceryGourmetFood(  $38.95  B0000D9169   \n",
       "\n",
       "                                                                                              also_buy  \\\n",
       "0  [B000BB4SUG, B01NCEV877, B000PQQQSO, B01E4KN8DM, B0000DA0XJ, B07KWG1PG2, B000PQQR4W, B01N8OP47H,...   \n",
       "1  [B000BB4SUG, B01NCEV877, B000PQQQSO, B01E4KN8DM, B0000DA0XJ, B07KWG1PG2, B07KWFX2M3, B01N8OP47H,...   \n",
       "\n",
       "                                                                                                 image  \\\n",
       "0  [https://images-na.ssl-images-amazon.com/images/I/51X3C40yx%2BL._SS40_.jpg, https://images-na.ss...   \n",
       "1  [https://images-na.ssl-images-amazon.com/images/I/51Qy2CQ-R1L._SS40_.jpg, https://images-na.ssl-...   \n",
       "\n",
       "   date  feature  \\\n",
       "0   NaN      NaN   \n",
       "1   NaN      NaN   \n",
       "\n",
       "                                                                                               details  \\\n",
       "0  \\n\\n\\n\\n\\n\\n    <div class=\"disclaim\">Flavor: <strong>M&M</strong>&nbsp;|&nbsp;Size: <strong>2 l...   \n",
       "1  \\n\\n\\n\\n\\n\\n    <div class=\"disclaim\">Flavor: <strong>Assorted Flavors</strong>&nbsp;|&nbsp;Size...   \n",
       "\n",
       "   similar_item  tech1  fit  \n",
       "0           NaN    NaN  NaN  \n",
       "1           NaN    NaN  NaN  "
      ]
     },
     "execution_count": 15,
     "metadata": {},
     "output_type": "execute_result"
    }
   ],
   "source": [
    "two_products = pd.DataFrame([product1.values[0], product2.values[0]], columns=product1.columns)\n",
    "two_products.loc[:, two_products.values[0] != two_products.values[1]]"
   ]
  },
  {
   "cell_type": "markdown",
   "metadata": {},
   "source": [
    "Let's look at the title more closely:"
   ]
  },
  {
   "cell_type": "code",
   "execution_count": 16,
   "metadata": {},
   "outputs": [
    {
     "name": "stdout",
     "output_type": "stream",
     "text": [
      "David's Cookies - 24 Fresh Baked M&M Candy Cookie Gourmet Gift Basket - Christmas, Holiday & Corporate Food Tin - Idea For Men & Women - Certified Kosher - 2 lb.\n",
      "David's Cookies - 24 Fresh Baked Assorted Cookies Gourmet Gift Basket - Christmas, Holiday & Corporate Food Tin - Idea For Men & Women - Certified Kosher - 2lb\n"
     ]
    }
   ],
   "source": [
    "print(two_products.values[0][2])\n",
    "print(two_products.values[1][2])"
   ]
  },
  {
   "cell_type": "markdown",
   "metadata": {},
   "source": [
    "In fact we think this is due to Amazon products having different 'categories', so that one of them represents the product and the other one would represent the version of the product that the customer bought. Thus why the review is duplicated: the reviewer bought and reviewed one version of those cookies, and thus has also reviewed the 'global' product. This would also explain why the rank of the global one is much higher than the other one, and why one of them doesn't have a price: each version of the product is the same price, they just come in different flavors. As you can see on this picture of the product, this product has multiple versions and the first one is 'Assorted':\n",
    "\n",
    "<img src=\"misc/example-product.png\">"
   ]
  },
  {
   "cell_type": "markdown",
   "metadata": {},
   "source": [
    "So to summarize, we should remove products that are exact duplicates but not the ones that look similar but still have some minor differences. We also think we shouldn't remove reviews that look alike as it's complicated and they don't review \"the same product\" (their 'asin', i.e. the id of it, will differ) so they don't bias the trends.\n",
    "\n",
    "Speaking of things to remove: there are columns in our dataset which aren't too interesting for our analysis, let's see what they are. First, we'll see what percentage of each columns are missing. in the meta data of our products, we drop the attribute that we don't use."
   ]
  },
  {
   "cell_type": "code",
   "execution_count": 17,
   "metadata": {},
   "outputs": [
    {
     "name": "stdout",
     "output_type": "stream",
     "text": [
      "Meta dataset:\n"
     ]
    },
    {
     "data": {
      "text/html": [
       "<div>\n",
       "<style scoped>\n",
       "    .dataframe tbody tr th:only-of-type {\n",
       "        vertical-align: middle;\n",
       "    }\n",
       "\n",
       "    .dataframe tbody tr th {\n",
       "        vertical-align: top;\n",
       "    }\n",
       "\n",
       "    .dataframe thead th {\n",
       "        text-align: right;\n",
       "    }\n",
       "</style>\n",
       "<table border=\"1\" class=\"dataframe\">\n",
       "  <thead>\n",
       "    <tr style=\"text-align: right;\">\n",
       "      <th></th>\n",
       "      <th>category</th>\n",
       "      <th>description</th>\n",
       "      <th>title</th>\n",
       "      <th>brand</th>\n",
       "      <th>rank</th>\n",
       "      <th>also_view</th>\n",
       "      <th>main_cat</th>\n",
       "      <th>price</th>\n",
       "      <th>asin</th>\n",
       "      <th>also_buy</th>\n",
       "      <th>image</th>\n",
       "      <th>date</th>\n",
       "      <th>feature</th>\n",
       "      <th>details</th>\n",
       "      <th>similar_item</th>\n",
       "      <th>tech1</th>\n",
       "      <th>fit</th>\n",
       "    </tr>\n",
       "  </thead>\n",
       "  <tbody>\n",
       "    <tr>\n",
       "      <th>0</th>\n",
       "      <td>0.0</td>\n",
       "      <td>12.327956</td>\n",
       "      <td>0.001393</td>\n",
       "      <td>3.976895</td>\n",
       "      <td>4.078911</td>\n",
       "      <td>57.866223</td>\n",
       "      <td>0.519831</td>\n",
       "      <td>53.993085</td>\n",
       "      <td>0.0</td>\n",
       "      <td>70.985589</td>\n",
       "      <td>47.698714</td>\n",
       "      <td>96.635551</td>\n",
       "      <td>94.298925</td>\n",
       "      <td>4.834807</td>\n",
       "      <td>99.910866</td>\n",
       "      <td>99.740955</td>\n",
       "      <td>99.998607</td>\n",
       "    </tr>\n",
       "  </tbody>\n",
       "</table>\n",
       "</div>"
      ],
      "text/plain": [
       "   category  description     title     brand      rank  also_view  main_cat  \\\n",
       "0       0.0    12.327956  0.001393  3.976895  4.078911  57.866223  0.519831   \n",
       "\n",
       "       price  asin   also_buy      image       date    feature   details  \\\n",
       "0  53.993085   0.0  70.985589  47.698714  96.635551  94.298925  4.834807   \n",
       "\n",
       "   similar_item      tech1        fit  \n",
       "0     99.910866  99.740955  99.998607  "
      ]
     },
     "metadata": {},
     "output_type": "display_data"
    },
    {
     "name": "stdout",
     "output_type": "stream",
     "text": [
      "\n",
      "Reviews dataset:\n"
     ]
    },
    {
     "data": {
      "text/html": [
       "<div>\n",
       "<style scoped>\n",
       "    .dataframe tbody tr th:only-of-type {\n",
       "        vertical-align: middle;\n",
       "    }\n",
       "\n",
       "    .dataframe tbody tr th {\n",
       "        vertical-align: top;\n",
       "    }\n",
       "\n",
       "    .dataframe thead th {\n",
       "        text-align: right;\n",
       "    }\n",
       "</style>\n",
       "<table border=\"1\" class=\"dataframe\">\n",
       "  <thead>\n",
       "    <tr style=\"text-align: right;\">\n",
       "      <th></th>\n",
       "      <th>overall</th>\n",
       "      <th>verified</th>\n",
       "      <th>reviewTime</th>\n",
       "      <th>reviewerID</th>\n",
       "      <th>asin</th>\n",
       "      <th>reviewerName</th>\n",
       "      <th>reviewText</th>\n",
       "      <th>summary</th>\n",
       "      <th>unixReviewTime</th>\n",
       "      <th>vote</th>\n",
       "      <th>image</th>\n",
       "      <th>style</th>\n",
       "    </tr>\n",
       "  </thead>\n",
       "  <tbody>\n",
       "    <tr>\n",
       "      <th>0</th>\n",
       "      <td>0.0</td>\n",
       "      <td>0.0</td>\n",
       "      <td>0.0</td>\n",
       "      <td>0.0</td>\n",
       "      <td>0.0</td>\n",
       "      <td>0.006996</td>\n",
       "      <td>0.056817</td>\n",
       "      <td>0.026152</td>\n",
       "      <td>0.0</td>\n",
       "      <td>87.003327</td>\n",
       "      <td>98.602035</td>\n",
       "      <td>55.158608</td>\n",
       "    </tr>\n",
       "  </tbody>\n",
       "</table>\n",
       "</div>"
      ],
      "text/plain": [
       "   overall  verified  reviewTime  reviewerID  asin  reviewerName  reviewText  \\\n",
       "0      0.0       0.0         0.0         0.0   0.0      0.006996    0.056817   \n",
       "\n",
       "    summary  unixReviewTime       vote      image      style  \n",
       "0  0.026152             0.0  87.003327  98.602035  55.158608  "
      ]
     },
     "execution_count": 17,
     "metadata": {},
     "output_type": "execute_result"
    }
   ],
   "source": [
    "print(\"Meta dataset:\")\n",
    "display(pd.DataFrame(100 * meta.isnull().sum() / len(meta.index)).T)\n",
    "\n",
    "print(\"\\nReviews dataset:\")\n",
    "pd.DataFrame(100 * reviews.isnull().sum() / len(reviews.index)).T"
   ]
  },
  {
   "cell_type": "markdown",
   "metadata": {},
   "source": [
    "As you can see multiple of these columns have a lot of missing values and some of them are not too interesting for us.\n",
    "\n",
    "For meta: we decided to remove also_view, also_buy, image, feature, details, similar_item, tech1, fit because they have missing values and they won't be very useful for us. We are interested in reviews and in text. We want to analyze user behavior and want to be able to know what product they are talking about. But we don't really want to analyze the product themselves, so knowing what items are similar and whatnot isn't useful here.\n",
    "\n",
    "For reviews: we will keep most of the features but we will remove unixReviewTime, image and style. We keep vote because NaN values are 0, so we can clean it. unixReviewTime isn't very useful since we have the date of the day (none are missing) which is precise enough. We will not use image nor style in our analysis as they don't bring information for what we want to do."
   ]
  },
  {
   "cell_type": "code",
   "execution_count": 18,
   "metadata": {},
   "outputs": [],
   "source": [
    "def format_reviews(reviews):\n",
    "    # Drop columns we won't use\n",
    "    reviews_dropped = ['unixReviewTime', 'image', 'style']\n",
    "    reviews.drop(columns=reviews_dropped, inplace=True)\n",
    "    \n",
    "    # Rename columns to have more understandable names\n",
    "    reviews.rename(columns={'overall': 'stars', 'vote': 'upvote'}, inplace=True)\n",
    "    \n",
    "    reviews[\"stars\"] = reviews[\"stars\"].astype(int)\n",
    "    reviews[\"verified\"] = reviews[\"verified\"].astype(bool)\n",
    "    \n",
    "    # Cast reviewTime to date\n",
    "    reviews[\"reviewTime\"] = reviews[\"reviewTime\"].str.replace(\"^0\", \"\")\n",
    "    reviews[\"reviewTime\"] = pd.to_datetime(reviews[\"reviewTime\"], format=\"%m %d, %Y\")\n",
    "    \n",
    "    # Cast vote to int, while changing NaN values to 0\n",
    "    #reviews.loc[reviews[\"vote\"].isnull(), \"vote\"] = \"0\"\n",
    "    reviews[\"upvote\"] = reviews[\"upvote\"].str.replace(\",\", \"\") # Thousands are separated with commas, we remove them. e.g. 1,881 = 1881\n",
    "    reviews[\"upvote\"].fillna(0, inplace=True)\n",
    "    reviews[\"upvote\"] = reviews[\"upvote\"].astype(int)\n",
    "    \n",
    "    # transform nan values in reviewText and summary to empty string\n",
    "    reviews[\"reviewText\"].fillna(\"\", inplace=True)\n",
    "    reviews[\"summary\"].fillna(\"\", inplace=True)\n",
    "\n",
    "def format_meta(meta):\n",
    "    # Drop columns we won't use\n",
    "    meta_dropped = ['also_view', 'also_buy', 'image', 'feature', 'details', 'similar_item', 'tech1', 'fit']\n",
    "    meta.drop(columns=meta_dropped, inplace=True)\n",
    "\n",
    "    cols_string = ['title', 'main_cat', 'brand', 'rank']\n",
    "    meta.loc[:, cols_string] = meta.loc[:, cols_string].fillna(\"\")\n",
    "    meta.loc[:, cols_string] = meta.loc[:, cols_string].astype(str)\n",
    "\n",
    "    # Map the list representation of category, description to string\n",
    "    # We do that as working with strings is easier and more efficient with panda\n",
    "    cols_list_to_string = ['category', 'description']\n",
    "    meta.loc[:, cols_list_to_string] = meta.loc[:, cols_list_to_string].fillna(\"\")\n",
    "    meta.loc[:, cols_list_to_string] = meta.loc[:, cols_list_to_string].applymap(lambda l: '||'.join(l))\n",
    "    meta.loc[:, cols_list_to_string] = meta.loc[:, cols_list_to_string].astype(str)\n",
    "    \n",
    "    # Dropping the duplicates, as explained before\n",
    "    meta.drop_duplicates(inplace=True)\n",
    "\n",
    "    # All prices start with $ or are NaN\n",
    "    meta['price'] = pd.to_numeric(meta['price'].str.replace('$', '', regex=False), errors='coerce')\n",
    "\n",
    "    # Cast date column to date format\n",
    "    meta['date'] = pd.to_datetime(meta['date'], errors='coerce')"
   ]
  },
  {
   "cell_type": "code",
   "execution_count": 19,
   "metadata": {},
   "outputs": [],
   "source": [
    "format_reviews(reviews)\n",
    "format_meta(meta)"
   ]
  },
  {
   "cell_type": "markdown",
   "metadata": {},
   "source": [
    "Let's see how the formatting affects our dataframes"
   ]
  },
  {
   "cell_type": "code",
   "execution_count": 20,
   "metadata": {},
   "outputs": [
    {
     "data": {
      "text/html": [
       "<div>\n",
       "<style scoped>\n",
       "    .dataframe tbody tr th:only-of-type {\n",
       "        vertical-align: middle;\n",
       "    }\n",
       "\n",
       "    .dataframe tbody tr th {\n",
       "        vertical-align: top;\n",
       "    }\n",
       "\n",
       "    .dataframe thead th {\n",
       "        text-align: right;\n",
       "    }\n",
       "</style>\n",
       "<table border=\"1\" class=\"dataframe\">\n",
       "  <thead>\n",
       "    <tr style=\"text-align: right;\">\n",
       "      <th></th>\n",
       "      <th>stars</th>\n",
       "      <th>verified</th>\n",
       "      <th>reviewTime</th>\n",
       "      <th>reviewerID</th>\n",
       "      <th>asin</th>\n",
       "      <th>reviewerName</th>\n",
       "      <th>reviewText</th>\n",
       "      <th>summary</th>\n",
       "      <th>upvote</th>\n",
       "    </tr>\n",
       "  </thead>\n",
       "  <tbody>\n",
       "    <tr>\n",
       "      <th>0</th>\n",
       "      <td>5</td>\n",
       "      <td>True</td>\n",
       "      <td>2013-06-04</td>\n",
       "      <td>ALP49FBWT4I7V</td>\n",
       "      <td>1888861614</td>\n",
       "      <td>Lori</td>\n",
       "      <td>Very pleased with my purchase. Looks exactly like the picture and will look great on my cake. It...</td>\n",
       "      <td>Love it</td>\n",
       "      <td>0</td>\n",
       "    </tr>\n",
       "    <tr>\n",
       "      <th>1</th>\n",
       "      <td>4</td>\n",
       "      <td>True</td>\n",
       "      <td>2014-05-23</td>\n",
       "      <td>A1KPIZOCLB9FZ8</td>\n",
       "      <td>1888861614</td>\n",
       "      <td>BK Shopper</td>\n",
       "      <td>Very nicely crafted but too small. Am going to have to add some flowers or something to compensa...</td>\n",
       "      <td>Nice but small</td>\n",
       "      <td>0</td>\n",
       "    </tr>\n",
       "    <tr>\n",
       "      <th>2</th>\n",
       "      <td>4</td>\n",
       "      <td>True</td>\n",
       "      <td>2014-05-09</td>\n",
       "      <td>A2W0FA06IYAYQE</td>\n",
       "      <td>1888861614</td>\n",
       "      <td>daninethequeen</td>\n",
       "      <td>still very pretty and well made...i am super picky so don't listen to me...*whispers* but it doe...</td>\n",
       "      <td>the \"s\" looks like a 5, kina</td>\n",
       "      <td>0</td>\n",
       "    </tr>\n",
       "    <tr>\n",
       "      <th>3</th>\n",
       "      <td>5</td>\n",
       "      <td>True</td>\n",
       "      <td>2014-04-20</td>\n",
       "      <td>A2PTZTCH2QUYBC</td>\n",
       "      <td>1888861614</td>\n",
       "      <td>Tammara</td>\n",
       "      <td>I got this for our wedding cake, and it was everything even more on in person, I would recommend...</td>\n",
       "      <td>Would recommend this to a friend!</td>\n",
       "      <td>0</td>\n",
       "    </tr>\n",
       "    <tr>\n",
       "      <th>4</th>\n",
       "      <td>4</td>\n",
       "      <td>True</td>\n",
       "      <td>2014-04-16</td>\n",
       "      <td>A2VNHGJ59N4Z90</td>\n",
       "      <td>1888861614</td>\n",
       "      <td>LaQuinta Alexander</td>\n",
       "      <td>It was just what I want to put at the top of my wedding cake. I love it &amp; it's true to the picture.</td>\n",
       "      <td>Topper</td>\n",
       "      <td>0</td>\n",
       "    </tr>\n",
       "  </tbody>\n",
       "</table>\n",
       "</div>"
      ],
      "text/plain": [
       "   stars  verified reviewTime      reviewerID        asin        reviewerName  \\\n",
       "0      5      True 2013-06-04   ALP49FBWT4I7V  1888861614                Lori   \n",
       "1      4      True 2014-05-23  A1KPIZOCLB9FZ8  1888861614          BK Shopper   \n",
       "2      4      True 2014-05-09  A2W0FA06IYAYQE  1888861614      daninethequeen   \n",
       "3      5      True 2014-04-20  A2PTZTCH2QUYBC  1888861614             Tammara   \n",
       "4      4      True 2014-04-16  A2VNHGJ59N4Z90  1888861614  LaQuinta Alexander   \n",
       "\n",
       "                                                                                            reviewText  \\\n",
       "0  Very pleased with my purchase. Looks exactly like the picture and will look great on my cake. It...   \n",
       "1  Very nicely crafted but too small. Am going to have to add some flowers or something to compensa...   \n",
       "2  still very pretty and well made...i am super picky so don't listen to me...*whispers* but it doe...   \n",
       "3  I got this for our wedding cake, and it was everything even more on in person, I would recommend...   \n",
       "4  It was just what I want to put at the top of my wedding cake. I love it & it's true to the picture.   \n",
       "\n",
       "                             summary  upvote  \n",
       "0                            Love it       0  \n",
       "1                     Nice but small       0  \n",
       "2       the \"s\" looks like a 5, kina       0  \n",
       "3  Would recommend this to a friend!       0  \n",
       "4                             Topper       0  "
      ]
     },
     "metadata": {},
     "output_type": "display_data"
    },
    {
     "data": {
      "text/html": [
       "<div>\n",
       "<style scoped>\n",
       "    .dataframe tbody tr th:only-of-type {\n",
       "        vertical-align: middle;\n",
       "    }\n",
       "\n",
       "    .dataframe tbody tr th {\n",
       "        vertical-align: top;\n",
       "    }\n",
       "\n",
       "    .dataframe thead th {\n",
       "        text-align: right;\n",
       "    }\n",
       "</style>\n",
       "<table border=\"1\" class=\"dataframe\">\n",
       "  <thead>\n",
       "    <tr style=\"text-align: right;\">\n",
       "      <th></th>\n",
       "      <th>category</th>\n",
       "      <th>description</th>\n",
       "      <th>title</th>\n",
       "      <th>brand</th>\n",
       "      <th>rank</th>\n",
       "      <th>main_cat</th>\n",
       "      <th>price</th>\n",
       "      <th>asin</th>\n",
       "      <th>date</th>\n",
       "    </tr>\n",
       "  </thead>\n",
       "  <tbody>\n",
       "    <tr>\n",
       "      <th>0</th>\n",
       "      <td>Grocery &amp; Gourmet Food||Dairy, Cheese &amp; Eggs||Cheese||Gouda</td>\n",
       "      <td>BEEMSTER GOUDA CHEESE AGED 18/24 MONTHS||Statements regarding dietary supplements have not been ...</td>\n",
       "      <td>Beemster Gouda - Aged 18/24 Months - App. 1.5 Lbs</td>\n",
       "      <td>Ariola Imports</td>\n",
       "      <td>165,181inGroceryGourmetFood(</td>\n",
       "      <td>Grocery</td>\n",
       "      <td>41.91</td>\n",
       "      <td>0681727810</td>\n",
       "      <td>NaT</td>\n",
       "    </tr>\n",
       "    <tr>\n",
       "      <th>1</th>\n",
       "      <td>Grocery &amp; Gourmet Food||Cooking &amp; Baking||Sugar Substitutes||Xylitol</td>\n",
       "      <td>Shipped from UK, please allow 10 to 21 business days for arrival. ex lib pub by Applied Science ...</td>\n",
       "      <td>Trim Healthy Mama Xylitol</td>\n",
       "      <td></td>\n",
       "      <td>315,867inGroceryGourmetFood(</td>\n",
       "      <td>Grocery</td>\n",
       "      <td>NaN</td>\n",
       "      <td>0853347867</td>\n",
       "      <td>NaT</td>\n",
       "    </tr>\n",
       "    <tr>\n",
       "      <th>2</th>\n",
       "      <td>Grocery &amp; Gourmet Food||Cooking &amp; Baking||Frosting, Icing &amp; Decorations||Cake &amp; Cupcake Toppers|...</td>\n",
       "      <td>Jazz up your cakes with a sparkling monogram from our Sparkling collection! These single letter ...</td>\n",
       "      <td>Letter C - Swarovski Crystal Monogram Wedding Cake Topper Letter</td>\n",
       "      <td>Unik Occasions</td>\n",
       "      <td>&gt;#669,941 in Kitchen &amp; Dining (See Top 100 in Kitchen &amp; Dining)&gt;#9,899 in Kitchen &amp; Dining &gt; Bak...</td>\n",
       "      <td>Amazon Home</td>\n",
       "      <td>29.95</td>\n",
       "      <td>1888861118</td>\n",
       "      <td>2010-09-21</td>\n",
       "    </tr>\n",
       "    <tr>\n",
       "      <th>3</th>\n",
       "      <td>Grocery &amp; Gourmet Food||Cooking &amp; Baking||Frosting, Icing &amp; Decorations||Cake &amp; Cupcake Toppers|...</td>\n",
       "      <td>Large Letter - Height 4.75\"</td>\n",
       "      <td>Letter H - Swarovski Crystal Monogram Wedding Cake Topper Letter</td>\n",
       "      <td>Other</td>\n",
       "      <td>&gt;#832,581 in Kitchen &amp; Dining (See Top 100 in Kitchen &amp; Dining)&gt;#12,883 in Kitchen &amp; Dining &gt; Ba...</td>\n",
       "      <td>Amazon Home</td>\n",
       "      <td>11.45</td>\n",
       "      <td>1888861517</td>\n",
       "      <td>2011-09-11</td>\n",
       "    </tr>\n",
       "    <tr>\n",
       "      <th>4</th>\n",
       "      <td>Grocery &amp; Gourmet Food||Cooking &amp; Baking||Frosting, Icing &amp; Decorations||Cake &amp; Cupcake Toppers|...</td>\n",
       "      <td>4.75\"</td>\n",
       "      <td>Letter S - Swarovski Crystal Monogram Wedding Cake Topper Letter</td>\n",
       "      <td>Unik Occasions</td>\n",
       "      <td>&gt;#590,999 in Kitchen &amp; Dining (See Top 100 in Kitchen &amp; Dining)&gt;#8,585 in Kitchen &amp; Dining &gt; Bak...</td>\n",
       "      <td>Amazon Home</td>\n",
       "      <td>15.00</td>\n",
       "      <td>1888861614</td>\n",
       "      <td>2011-09-11</td>\n",
       "    </tr>\n",
       "  </tbody>\n",
       "</table>\n",
       "</div>"
      ],
      "text/plain": [
       "                                                                                              category  \\\n",
       "0                                          Grocery & Gourmet Food||Dairy, Cheese & Eggs||Cheese||Gouda   \n",
       "1                                 Grocery & Gourmet Food||Cooking & Baking||Sugar Substitutes||Xylitol   \n",
       "2  Grocery & Gourmet Food||Cooking & Baking||Frosting, Icing & Decorations||Cake & Cupcake Toppers|...   \n",
       "3  Grocery & Gourmet Food||Cooking & Baking||Frosting, Icing & Decorations||Cake & Cupcake Toppers|...   \n",
       "4  Grocery & Gourmet Food||Cooking & Baking||Frosting, Icing & Decorations||Cake & Cupcake Toppers|...   \n",
       "\n",
       "                                                                                           description  \\\n",
       "0  BEEMSTER GOUDA CHEESE AGED 18/24 MONTHS||Statements regarding dietary supplements have not been ...   \n",
       "1  Shipped from UK, please allow 10 to 21 business days for arrival. ex lib pub by Applied Science ...   \n",
       "2  Jazz up your cakes with a sparkling monogram from our Sparkling collection! These single letter ...   \n",
       "3                                                                          Large Letter - Height 4.75\"   \n",
       "4                                                                                                4.75\"   \n",
       "\n",
       "                                                              title  \\\n",
       "0                 Beemster Gouda - Aged 18/24 Months - App. 1.5 Lbs   \n",
       "1                                         Trim Healthy Mama Xylitol   \n",
       "2  Letter C - Swarovski Crystal Monogram Wedding Cake Topper Letter   \n",
       "3  Letter H - Swarovski Crystal Monogram Wedding Cake Topper Letter   \n",
       "4  Letter S - Swarovski Crystal Monogram Wedding Cake Topper Letter   \n",
       "\n",
       "            brand  \\\n",
       "0  Ariola Imports   \n",
       "1                   \n",
       "2  Unik Occasions   \n",
       "3           Other   \n",
       "4  Unik Occasions   \n",
       "\n",
       "                                                                                                  rank  \\\n",
       "0                                                                         165,181inGroceryGourmetFood(   \n",
       "1                                                                         315,867inGroceryGourmetFood(   \n",
       "2  >#669,941 in Kitchen & Dining (See Top 100 in Kitchen & Dining)>#9,899 in Kitchen & Dining > Bak...   \n",
       "3  >#832,581 in Kitchen & Dining (See Top 100 in Kitchen & Dining)>#12,883 in Kitchen & Dining > Ba...   \n",
       "4  >#590,999 in Kitchen & Dining (See Top 100 in Kitchen & Dining)>#8,585 in Kitchen & Dining > Bak...   \n",
       "\n",
       "      main_cat  price        asin       date  \n",
       "0      Grocery  41.91  0681727810        NaT  \n",
       "1      Grocery    NaN  0853347867        NaT  \n",
       "2  Amazon Home  29.95  1888861118 2010-09-21  \n",
       "3  Amazon Home  11.45  1888861517 2011-09-11  \n",
       "4  Amazon Home  15.00  1888861614 2011-09-11  "
      ]
     },
     "metadata": {},
     "output_type": "display_data"
    }
   ],
   "source": [
    "display(reviews.head())\n",
    "display(meta.head())"
   ]
  },
  {
   "cell_type": "markdown",
   "metadata": {},
   "source": [
    "Nice! We can now proceed with the analysis!"
   ]
  },
  {
   "cell_type": "markdown",
   "metadata": {},
   "source": [
    "## Feature distribution analysis"
   ]
  },
  {
   "cell_type": "markdown",
   "metadata": {},
   "source": [
    "Now let's see what the reviews look like on a broad view. As they'll be our main source of data for analysis we need to have a good idea of how they are.\n",
    "\n",
    "The features that are the most interesting are `stars`, `verified`, `reviewTime`, `reviewText` and `upvote`. A recap of what they mean:\n",
    "- `stars`: How a product was appreciated\n",
    "- `verified`: If the purchase has been verified, \n",
    "- `reviewTime`: The day the review has been posted\n",
    "- `reviewText`: The content of the review\n",
    "- `upvote`: The number of upvotes/helpful on a review\n",
    "\n",
    "Of course all the feature we have are of some interest, but these ones are the most interesting, so we'll take a look at them in more detail.\n",
    "\n",
    "First, let's see some information about `stars` and `upvote`"
   ]
  },
  {
   "cell_type": "code",
   "execution_count": 21,
   "metadata": {},
   "outputs": [
    {
     "data": {
      "text/html": [
       "<div>\n",
       "<style scoped>\n",
       "    .dataframe tbody tr th:only-of-type {\n",
       "        vertical-align: middle;\n",
       "    }\n",
       "\n",
       "    .dataframe tbody tr th {\n",
       "        vertical-align: top;\n",
       "    }\n",
       "\n",
       "    .dataframe thead th {\n",
       "        text-align: right;\n",
       "    }\n",
       "</style>\n",
       "<table border=\"1\" class=\"dataframe\">\n",
       "  <thead>\n",
       "    <tr style=\"text-align: right;\">\n",
       "      <th></th>\n",
       "      <th>stars</th>\n",
       "      <th>upvote</th>\n",
       "    </tr>\n",
       "  </thead>\n",
       "  <tbody>\n",
       "    <tr>\n",
       "      <th>count</th>\n",
       "      <td>5.074160e+06</td>\n",
       "      <td>5.074160e+06</td>\n",
       "    </tr>\n",
       "    <tr>\n",
       "      <th>mean</th>\n",
       "      <td>4.314708e+00</td>\n",
       "      <td>8.295479e-01</td>\n",
       "    </tr>\n",
       "    <tr>\n",
       "      <th>std</th>\n",
       "      <td>1.249303e+00</td>\n",
       "      <td>1.206719e+01</td>\n",
       "    </tr>\n",
       "    <tr>\n",
       "      <th>min</th>\n",
       "      <td>1.000000e+00</td>\n",
       "      <td>0.000000e+00</td>\n",
       "    </tr>\n",
       "    <tr>\n",
       "      <th>25%</th>\n",
       "      <td>4.000000e+00</td>\n",
       "      <td>0.000000e+00</td>\n",
       "    </tr>\n",
       "    <tr>\n",
       "      <th>50%</th>\n",
       "      <td>5.000000e+00</td>\n",
       "      <td>0.000000e+00</td>\n",
       "    </tr>\n",
       "    <tr>\n",
       "      <th>75%</th>\n",
       "      <td>5.000000e+00</td>\n",
       "      <td>0.000000e+00</td>\n",
       "    </tr>\n",
       "    <tr>\n",
       "      <th>max</th>\n",
       "      <td>5.000000e+00</td>\n",
       "      <td>1.217400e+04</td>\n",
       "    </tr>\n",
       "  </tbody>\n",
       "</table>\n",
       "</div>"
      ],
      "text/plain": [
       "              stars        upvote\n",
       "count  5.074160e+06  5.074160e+06\n",
       "mean   4.314708e+00  8.295479e-01\n",
       "std    1.249303e+00  1.206719e+01\n",
       "min    1.000000e+00  0.000000e+00\n",
       "25%    4.000000e+00  0.000000e+00\n",
       "50%    5.000000e+00  0.000000e+00\n",
       "75%    5.000000e+00  0.000000e+00\n",
       "max    5.000000e+00  1.217400e+04"
      ]
     },
     "execution_count": 21,
     "metadata": {},
     "output_type": "execute_result"
    }
   ],
   "source": [
    "reviews.describe()"
   ]
  },
  {
   "cell_type": "markdown",
   "metadata": {},
   "source": [
    "As you can see a vast majority of reviews don't have any upvotes, and most of the reviews give a high amount of stars, 25% percentile is already at 4 stars! The number of upvotes probably follows a power law, let's plot them to verify!"
   ]
  },
  {
   "cell_type": "code",
   "execution_count": 27,
   "metadata": {},
   "outputs": [],
   "source": [
    "def plot_bar_distribution(data, title, xlabel, ylabel, yscale='linear', width=0.8, figsize=(12, 8), categorical=False):\n",
    "    counts = np.bincount(data)\n",
    "    values = np.nonzero(counts)[0]\n",
    "    counts = counts[values]\n",
    "    \n",
    "    plt.figure(figsize=figsize)\n",
    "    plt.bar(values, counts, width=width)\n",
    "    if categorical:\n",
    "        plt.xticks(values)\n",
    "    plt.title(title, fontsize=15)\n",
    "    plt.xlabel(xlabel, fontsize=13)\n",
    "    plt.ylabel(ylabel, fontsize=13)\n",
    "    plt.yscale(yscale)\n",
    "    plt.show()"
   ]
  },
  {
   "cell_type": "code",
   "execution_count": 16,
   "metadata": {},
   "outputs": [],
   "source": [
    "def plot_ccdf_power_law(data, title, xlabel, ylabel, xmin=0, discrete=True, figsize=(10,8)):\n",
    "    fit = powerlaw.Fit(data, xmin=xmin, discrete=discrete)\n",
    "    plt.figure(figsize=figsize)\n",
    "    ax = plt.gca()\n",
    "    fit.power_law.plot_ccdf(color='b', linestyle='--', label='fit ccdf', ax=ax)\n",
    "    fit.plot_ccdf(color='b', label='actual ccdf', ax=ax)\n",
    "    plt.title(title, fontsize=15)\n",
    "    plt.xlabel(xlabel, fontsize=13)\n",
    "    plt.ylabel(ylabel, fontsize=13)\n",
    "    plt.legend()\n",
    "    plt.show() "
   ]
  },
  {
   "cell_type": "markdown",
   "metadata": {},
   "source": [
    "We will plot the number of stars"
   ]
  },
  {
   "cell_type": "code",
   "execution_count": 29,
   "metadata": {},
   "outputs": [
    {
     "data": {
      "image/png": "[encoded data removed]",
      "text/plain": [
       "<Figure size 720x576 with 1 Axes>"
      ]
     },
     "metadata": {
      "needs_background": "light"
     },
     "output_type": "display_data"
    }
   ],
   "source": [
    "plot_bar_distribution(reviews['stars'],\\\n",
    "                      title=\"Distribution of stars per review\",\\\n",
    "                      xlabel=\"Number of stars\",\\\n",
    "                      ylabel=\"Number of reviews\",\\\n",
    "                      figsize=(10,8),\\\n",
    "                      categorical=True)"
   ]
  },
  {
   "cell_type": "markdown",
   "metadata": {},
   "source": [
    "As you can see a vast majority of reviews give 5 stars, but there are more 1 star than 2 or 3 stars, which is intersting. We can see that people usually review in the extreme either they think it's good so they give 4 or 5, or they thought it's trash and give 1."
   ]
  },
  {
   "cell_type": "markdown",
   "metadata": {},
   "source": [
    "Let's now take a look at `verified`."
   ]
  },
  {
   "cell_type": "code",
   "execution_count": 41,
   "metadata": {},
   "outputs": [
    {
     "data": {
      "image/png": "[encoded data removed]",
      "text/plain": [
       "<Figure size 720x576 with 1 Axes>"
      ]
     },
     "metadata": {
      "needs_background": "light"
     },
     "output_type": "display_data"
    }
   ],
   "source": [
    "plot_bar_distribution(reviews['verified'],\\\n",
    "                      title=\"Distribution of verified\",\\\n",
    "                      xlabel=\"Purchase verified\",\\\n",
    "                      ylabel=\"Number of reviews\",\\\n",
    "                      figsize=(10,8),\\\n",
    "                      categorical=True)"
   ]
  },
  {
   "cell_type": "markdown",
   "metadata": {},
   "source": [
    "This is interesting and good news! As we can see most of the reviews are verified, so most of the reviews come from people that actually bought the product."
   ]
  },
  {
   "cell_type": "markdown",
   "metadata": {},
   "source": [
    "Let's plot the distribution of upvotes and compare it with the power law."
   ]
  },
  {
   "cell_type": "code",
   "execution_count": 30,
   "metadata": {},
   "outputs": [
    {
     "data": {
      "image/png": "[encoded data removed]",
      "text/plain": [
       "<Figure size 864x576 with 1 Axes>"
      ]
     },
     "metadata": {
      "needs_background": "light"
     },
     "output_type": "display_data"
    },
    {
     "name": "stderr",
     "output_type": "stream",
     "text": [
      "Values less than or equal to 0 in data. Throwing out 0 or negative values\n",
      "Calculating best minimal value for power law fit\n",
      "/home/lulu/.venv/lib/python3.8/site-packages/powerlaw.py:699: RuntimeWarning: invalid value encountered in true_divide\n",
      "  (CDF_diff**2) /\n",
      "/home/lulu/.venv/lib/python3.8/site-packages/powerlaw.py:699: RuntimeWarning: divide by zero encountered in true_divide\n",
      "  (CDF_diff**2) /\n"
     ]
    },
    {
     "data": {
      "image/png": "[encoded data removed]",
      "text/plain": [
       "<Figure size 720x576 with 1 Axes>"
      ]
     },
     "metadata": {
      "needs_background": "light"
     },
     "output_type": "display_data"
    }
   ],
   "source": [
    "plot_bar_distribution(reviews['upvote'],\\\n",
    "                      title=\"Distribution of upvote per review\",\\\n",
    "                      xlabel=\"Number of upvotes\",\\\n",
    "                      ylabel=\"Number of reviews\",\\\n",
    "                      yscale=\"log\",\\\n",
    "                      width=100)\n",
    "\n",
    "plot_ccdf_power_law(reviews['upvote'],\\\n",
    "                    title=\"CCDF of number of upvotes\",\\\n",
    "                    xlabel=\"Upvotes\",\\\n",
    "                    ylabel=\"Probability\")"
   ]
  },
  {
   "cell_type": "markdown",
   "metadata": {},
   "source": [
    "We can see that it indeed follows a power law, most of the reviews have 0 upvotes, but there are some with a high amount of upvotes.\n",
    "\n",
    "Something to note that'll be able to see later on is that reviews with a huge amount of upvotes probably are jokes or memes. Otherwise it doesn't really make sense for a review to have so many upvotes."
   ]
  },
  {
   "cell_type": "markdown",
   "metadata": {},
   "source": [
    "Let's take a look at `reviewText` we can try to plot the distribution of the length of the reviews. It should also follow a power law."
   ]
  },
  {
   "cell_type": "code",
   "execution_count": 31,
   "metadata": {},
   "outputs": [
    {
     "data": {
      "image/png": "[encoded data removed]",
      "text/plain": [
       "<Figure size 864x576 with 1 Axes>"
      ]
     },
     "metadata": {
      "needs_background": "light"
     },
     "output_type": "display_data"
    },
    {
     "name": "stderr",
     "output_type": "stream",
     "text": [
      "Values less than or equal to 0 in data. Throwing out 0 or negative values\n",
      "Calculating best minimal value for power law fit\n"
     ]
    },
    {
     "data": {
      "image/png": "[encoded data removed]",
      "text/plain": [
       "<Figure size 720x576 with 1 Axes>"
      ]
     },
     "metadata": {
      "needs_background": "light"
     },
     "output_type": "display_data"
    }
   ],
   "source": [
    "plot_bar_distribution(reviews['reviewText'].str.len(),\\\n",
    "                      title=\"Distribution of review length\",\\\n",
    "                      xlabel=\"Number of reviews\",\\\n",
    "                      ylabel=\"Length of review text\",\\\n",
    "                      yscale=\"log\",\\\n",
    "                      width=100)\n",
    "\n",
    "plot_ccdf_power_law(reviews['reviewText'].str.len(),\\\n",
    "                    title=\"CCDF of length of reviews\",\\\n",
    "                    xlabel=\"Length of review\",\\\n",
    "                    ylabel=\"Probability\")"
   ]
  },
  {
   "cell_type": "markdown",
   "metadata": {},
   "source": [
    "Again, it follows a power law, which is to be expected."
   ]
  },
  {
   "cell_type": "markdown",
   "metadata": {},
   "source": [
    "Now let's take a look at how many reviews we have over time, using the date. This give us some information about how much reviews we have and if the number of reviews during the year is linear or constant, or on the contrary if it's varying a lot."
   ]
  },
  {
   "cell_type": "code",
   "execution_count": 33,
   "metadata": {},
   "outputs": [],
   "source": [
    "def write_plot_html(plot, file_name):\n",
    "    file_name = f\"{PLOTS_LOCATION}{file_name}.html\"\n",
    "    output_file(file_name)\n",
    "    save(plot)\n",
    "    return FileLink(file_name)"
   ]
  },
  {
   "cell_type": "code",
   "execution_count": 26,
   "metadata": {},
   "outputs": [
    {
     "data": {
      "text/html": [
       "<a href='milestone-2-plots/all_reviews.html' target='_blank'>milestone-2-plots/all_reviews.html</a><br>"
      ],
      "text/plain": [
       "/home/lulu/EPFL/MA1/Ada/Project/milestone-2-plots/all_reviews.html"
      ]
     },
     "execution_count": 26,
     "metadata": {},
     "output_type": "execute_result"
    }
   ],
   "source": [
    "reviews_per_date = reviews[['reviewTime']].copy()\n",
    "reviews_per_date = pd.DataFrame(reviews_per_date.groupby('reviewTime').size(), columns=['count'])\n",
    "reviews_per_date.sort_index(inplace=True)\n",
    "\n",
    "tools = \"pan, wheel_zoom\"\n",
    "source = ColumnDataSource(reviews_per_date)\n",
    "\n",
    "p = figure(plot_width=1400, plot_height=800, tools=tools, x_axis_type=\"datetime\")\n",
    "p.line('reviewTime', 'count', source=source)\n",
    "\n",
    "write_plot_html(p, \"all_reviews\")"
   ]
  },
  {
   "cell_type": "markdown",
   "metadata": {},
   "source": [
    "If you go to the above link (you may need to click on \"Trust HTML\", you can enable wheel zoom on the right and move the view by dragging), you can see that the number of reviews varies a lot during the year, but is globally increasing over time. 2015 seemed to have been a the big starting year for Amazon food category, which confirms that picking the updated 2018 dataset was a good idea since it adds a lot of data. We can also see that some dates have a lot of reviews, which we'll look into, for example March 2016. Something interesting is that our dataset ends in 2018 but as you can see it doesn't end abruptly, it decays rapidly, so we have to keep that in mind, we lack a lot of reviews in the 2018 year.\n",
    "\n",
    "To look into it a bit deeper we can look at the distributions over year and month."
   ]
  },
  {
   "cell_type": "code",
   "execution_count": 35,
   "metadata": {},
   "outputs": [
    {
     "data": {
      "image/png": "[encoded data removed]",
      "text/plain": [
       "<Figure size 1152x576 with 1 Axes>"
      ]
     },
     "metadata": {
      "needs_background": "light"
     },
     "output_type": "display_data"
    },
    {
     "data": {
      "image/png": "[encoded data removed]",
      "text/plain": [
       "<Figure size 1152x576 with 1 Axes>"
      ]
     },
     "metadata": {
      "needs_background": "light"
     },
     "output_type": "display_data"
    },
    {
     "data": {
      "image/png": "[encoded data removed]",
      "text/plain": [
       "<Figure size 1152x576 with 1 Axes>"
      ]
     },
     "metadata": {
      "needs_background": "light"
     },
     "output_type": "display_data"
    }
   ],
   "source": [
    "reviews_year = reviews['reviewTime'].map(lambda date: date.year)\n",
    "args_year = {\"data\": reviews_year,\\\n",
    "             \"title\": \"Number of reviews per year\",\\\n",
    "             \"xlabel\": \"Year\",\\\n",
    "             \"ylabel\": \"Number of reviews\",\\\n",
    "             \"figsize\": (16, 8),\\\n",
    "             \"categorical\": True}\n",
    "\n",
    "plot_bar_distribution(**args_year)\n",
    "plot_bar_distribution(**args_year, yscale=\"log\")\n",
    "\n",
    "reviews_month = reviews['reviewTime'].map(lambda date: date.month)\n",
    "plot_bar_distribution(reviews_month, title=\"Number of reviews per month\", xlabel=\"Month\", ylabel=\"Number of reviews\", figsize=(16, 8), categorical=True)"
   ]
  },
  {
   "cell_type": "markdown",
   "metadata": {},
   "source": [
    "As we can see, it indeed increases over the years, except 2018 as we lack reviews.\n",
    "\n",
    "For the months it's somewhat even, but we can see that Winter is more popular, with Christmas, New Year, Valentine's Day and so on."
   ]
  },
  {
   "cell_type": "markdown",
   "metadata": {},
   "source": [
    "## Data analysis"
   ]
  },
  {
   "cell_type": "markdown",
   "metadata": {},
   "source": [
    "Our goal is to find interesting effects of events and trends in our dataset. For the moment, our three main directions are:\n",
    "- Measuring the distribution of the number of reviews over time for a product, thus seeing if there exists a correlation between this product and some events\n",
    "- Using word embeddings to compare reviews or description of products with an event (represented by a document). Hence doing some smart document similarity to see how a trend can impact the dataset.\n",
    "- Performing topic extraction on the description of a product or on the reviews to see if events result in a change in the topic distribution\n",
    "\n",
    "Concerning the first approach, measuring correlation is good and it can lead to first results but it is not enough. What we want is to measure how much an event impact some products popularity. Or if doing natural language processing on reviews, how much the event impact the content of those reviews. For that, the correlation does not suffice. What we'll use for that is bayesian structural time series to be able to deduce causal effect on reviews and products.\n",
    "\n",
    "The third method will not be presented for now as results are not conclusive at the moment. The idea behind it is to use a topic extraction techniques such as LDA to extract topics in the dataset. Than, we can measure how much our trend or event is present in the topics. From that, we can see how the trend or event behave over time using the evolution of the distribution of topic in the dataset. We chose not to focus on this approach for the moment, reasons are multiple for this. First of all, on which part of the dataset would it be best to run LDA? This is not trivial, by taking the dataset over a big period of time, topic would be too general, however taking a short period of time around an event for example not would yield interesting results, the analysis being restricted to that period. On top of that, training such a model takes a significant amount of time and try to run a whole lot of them so to be able to compare the results would require a lot of ressources.\n",
    "\n",
    "We thus present below the first two approaches. We'll begin by plotting time series of the number of reviews for the products of our dataset, and gain some insights from that. We'll continue by focusing on an event and plotting time series that have interesting behaviors in the time of that event. We'll use this analysis to measure impact of events on word frequencies.\n"
   ]
  },
  {
   "cell_type": "markdown",
   "metadata": {},
   "source": [
    "### Time series of number of reviews"
   ]
  },
  {
   "cell_type": "code",
   "execution_count": 1,
   "metadata": {},
   "outputs": [],
   "source": [
    "def compute_reviews_per_week(reviews, minimum_review):\n",
    "    \"\"\"\n",
    "    Create dataframe with number of reviews per product per week, based on the {reviews} dataframe, keep only \n",
    "    the ones that have at least {minimum_review} during a week\n",
    "    \"\"\" \n",
    "    reviews_per_week = pd.DataFrame(reviews[['asin', 'reviewTime']].groupby(['asin', pd.Grouper(key='reviewTime', freq='W')]).size(), columns=['reviewCount'])\n",
    "    reviews_per_week = reviews_per_week.groupby(['asin']).filter(lambda row: row.to_numpy().max() > minimum_review)\n",
    "    reviews_per_week.reset_index(inplace=True)\n",
    "    return reviews_per_week"
   ]
  },
  {
   "cell_type": "code",
   "execution_count": 24,
   "metadata": {},
   "outputs": [],
   "source": [
    "reviews_per_week = compute_reviews_per_week(reviews, 7)"
   ]
  },
  {
   "cell_type": "code",
   "execution_count": 25,
   "metadata": {},
   "outputs": [],
   "source": [
    "def plot_time_series(ids, plot_filename):\n",
    "    \"\"\"\n",
    "    Create an interactive plot that show the evolution of the number of reviews for the \n",
    "    given products\n",
    "    \n",
    "    :param ids: an iterable with the ids (asin) that will be in the plot\n",
    "    :param plot_filename: the filename of the produced plot\n",
    "    :return: the path to the plot\n",
    "    \"\"\"\n",
    "    tools = \"pan, wheel_zoom\"\n",
    "    p = figure(plot_width=1400, plot_height=800, tools=tools, x_axis_type=\"datetime\")\n",
    "    num_colors = np.clip(len(ids), 3, 20)\n",
    "    colors = d3['Category20'][num_colors]\n",
    "    \n",
    "    for i, asin in enumerate(ids):\n",
    "        reviews_asin = reviews_per_week.loc[reviews_per_week['asin'] == asin, ['reviewTime', 'reviewCount']]\n",
    "        reviews_asin.set_index('reviewTime', inplace=True)\n",
    "        reviews_asin.sort_index(inplace=True)\n",
    "\n",
    "        source = ColumnDataSource(reviews_asin)\n",
    "\n",
    "        p.line('reviewTime', 'reviewCount', source=source, legend_label=str(asin), color=colors[i % 20], line_width=2, alpha=0.8)\n",
    "    \n",
    "    p.legend.click_policy=\"hide\"\n",
    "    \n",
    "    return write_plot_html(p, plot_filename)"
   ]
  },
  {
   "cell_type": "code",
   "execution_count": 64,
   "metadata": {},
   "outputs": [
    {
     "data": {
      "text/html": [
       "<a href='milestone-2-plots/time_series_first_10000.html' target='_blank'>milestone-2-plots/time_series_first_10000.html</a><br>"
      ],
      "text/plain": [
       "/home/lulu/EPFL/MA1/Ada/Project/milestone-2-plots/time_series_first_10000.html"
      ]
     },
     "execution_count": 26,
     "metadata": {},
     "output_type": "execute_result"
    }
   ],
   "source": [
    "# Plot the time series of a sample (first 10'000 product) of origin dataframe\n",
    "reviews_per_week_sample = reviews_per_week.loc[reviews_per_week['asin'].isin(reviews.loc[:10000, 'asin']).values, :]\n",
    "plot_time_series(reviews_per_week_sample['asin'].unique(), 'time_series_first_10000')"
   ]
  },
  {
   "cell_type": "markdown",
   "metadata": {},
   "source": [
    "If you go to the above link (you may need to click on \"Trust HTML\"), you can see that..."
   ]
  },
  {
   "cell_type": "code",
   "execution_count": 27,
   "metadata": {},
   "outputs": [
    {
     "data": {
      "text/plain": [
       "'Wilton 710-5506 Color Mist Spray 1.5oz, Black'"
      ]
     },
     "metadata": {},
     "output_type": "display_data"
    },
    {
     "data": {
      "text/plain": [
       "\"David's Cookies - 24 Fresh Baked M&M Candy Cookie Gourmet Gift Basket - Christmas, Holiday & Corporate Food Tin - Idea For Men & Women - Certified Kosher - 2 lb.\""
      ]
     },
     "execution_count": 27,
     "metadata": {},
     "output_type": "execute_result"
    }
   ],
   "source": [
    "id1 = \"B0000CFH7B\"\n",
    "id2 = \"B0000D916Y\"\n",
    "display(meta[\"title\"][meta[\"asin\"] == id1].values[0])\n",
    "meta[\"title\"][meta[\"asin\"] == id2].values[0]"
   ]
  },
  {
   "cell_type": "code",
   "execution_count": 28,
   "metadata": {},
   "outputs": [
    {
     "data": {
      "text/html": [
       "<div>\n",
       "<style scoped>\n",
       "    .dataframe tbody tr th:only-of-type {\n",
       "        vertical-align: middle;\n",
       "    }\n",
       "\n",
       "    .dataframe tbody tr th {\n",
       "        vertical-align: top;\n",
       "    }\n",
       "\n",
       "    .dataframe thead th {\n",
       "        text-align: right;\n",
       "    }\n",
       "</style>\n",
       "<table border=\"1\" class=\"dataframe\">\n",
       "  <thead>\n",
       "    <tr style=\"text-align: right;\">\n",
       "      <th></th>\n",
       "      <th>reviewTime</th>\n",
       "      <th>reviewerID</th>\n",
       "      <th>reviewText</th>\n",
       "      <th>summary</th>\n",
       "      <th>upvote</th>\n",
       "      <th>stars</th>\n",
       "      <th>verified</th>\n",
       "    </tr>\n",
       "  </thead>\n",
       "  <tbody>\n",
       "    <tr>\n",
       "      <th>4197</th>\n",
       "      <td>2015-06-15</td>\n",
       "      <td>A1Q6MV8HRC58KK</td>\n",
       "      <td>If you go back to the beginning of the reviews there are about 13 pages of nonsense about baking...</td>\n",
       "      <td>Best Shine in the Wasteland</td>\n",
       "      <td>66</td>\n",
       "      <td>5</td>\n",
       "      <td>False</td>\n",
       "    </tr>\n",
       "    <tr>\n",
       "      <th>4198</th>\n",
       "      <td>2015-06-13</td>\n",
       "      <td>ABD1G0MCG2QHT</td>\n",
       "      <td>My cupcakes are all shiny and chrome. I eat, I poop, I eat again.</td>\n",
       "      <td>Five Stars</td>\n",
       "      <td>47</td>\n",
       "      <td>5</td>\n",
       "      <td>False</td>\n",
       "    </tr>\n",
       "    <tr>\n",
       "      <th>4199</th>\n",
       "      <td>2015-06-12</td>\n",
       "      <td>A3OX7K7TZ1A6IG</td>\n",
       "      <td>I BUY! I RETURN! I BUY AGAIN!!</td>\n",
       "      <td>Five Stars</td>\n",
       "      <td>123</td>\n",
       "      <td>5</td>\n",
       "      <td>False</td>\n",
       "    </tr>\n",
       "    <tr>\n",
       "      <th>4200</th>\n",
       "      <td>2015-06-12</td>\n",
       "      <td>A3N37GJGVFUDJB</td>\n",
       "      <td>Mitch has witnessed me!!!</td>\n",
       "      <td>Five Stars</td>\n",
       "      <td>11</td>\n",
       "      <td>5</td>\n",
       "      <td>False</td>\n",
       "    </tr>\n",
       "    <tr>\n",
       "      <th>4201</th>\n",
       "      <td>2015-06-11</td>\n",
       "      <td>ABZC6GUF3EZR9</td>\n",
       "      <td>IT BURNS OH IT BURNS WONDERFULLY\\nTHE PATH TO VALHALLA IS NOT A PAINLESS ONE</td>\n",
       "      <td>SHINY AND CHROME</td>\n",
       "      <td>77</td>\n",
       "      <td>5</td>\n",
       "      <td>True</td>\n",
       "    </tr>\n",
       "    <tr>\n",
       "      <th>...</th>\n",
       "      <td>...</td>\n",
       "      <td>...</td>\n",
       "      <td>...</td>\n",
       "      <td>...</td>\n",
       "      <td>...</td>\n",
       "      <td>...</td>\n",
       "      <td>...</td>\n",
       "    </tr>\n",
       "    <tr>\n",
       "      <th>4363</th>\n",
       "      <td>2015-05-25</td>\n",
       "      <td>A2ANPUFYSVCZCM</td>\n",
       "      <td>Oh what a spray! What a lovely spray!</td>\n",
       "      <td>So Shiny, So Chrome</td>\n",
       "      <td>3001</td>\n",
       "      <td>5</td>\n",
       "      <td>False</td>\n",
       "    </tr>\n",
       "    <tr>\n",
       "      <th>4364</th>\n",
       "      <td>2015-05-23</td>\n",
       "      <td>A3VM93YDITI5DK</td>\n",
       "      <td>Makes it really easy to spot a Warboy who is at the end of their half life and about to become a...</td>\n",
       "      <td>Brightens up my world, which is fire and blood.</td>\n",
       "      <td>161</td>\n",
       "      <td>5</td>\n",
       "      <td>False</td>\n",
       "    </tr>\n",
       "    <tr>\n",
       "      <th>4365</th>\n",
       "      <td>2015-05-23</td>\n",
       "      <td>A1B6CBLRIA9FR1</td>\n",
       "      <td>I LIVE! I DIE! I LIVE AGAIN!</td>\n",
       "      <td>Four Stars</td>\n",
       "      <td>715</td>\n",
       "      <td>4</td>\n",
       "      <td>False</td>\n",
       "    </tr>\n",
       "    <tr>\n",
       "      <th>4366</th>\n",
       "      <td>2015-05-23</td>\n",
       "      <td>A29I5F4VUJYXUU</td>\n",
       "      <td>WE WILL RIDE THROUGH THE GATES OF VALHALLA SHINY AND CHROME! WITNESS ME!</td>\n",
       "      <td>Five Stars</td>\n",
       "      <td>1070</td>\n",
       "      <td>5</td>\n",
       "      <td>False</td>\n",
       "    </tr>\n",
       "    <tr>\n",
       "      <th>4367</th>\n",
       "      <td>2015-05-22</td>\n",
       "      <td>A36645UBD0OOQD</td>\n",
       "      <td>Helps distract from the sickness. The shine will draw his gaze, I know it. This time maybe? Witn...</td>\n",
       "      <td>Better than the leading brand.</td>\n",
       "      <td>284</td>\n",
       "      <td>5</td>\n",
       "      <td>False</td>\n",
       "    </tr>\n",
       "  </tbody>\n",
       "</table>\n",
       "<p>171 rows × 7 columns</p>\n",
       "</div>"
      ],
      "text/plain": [
       "     reviewTime      reviewerID  \\\n",
       "4197 2015-06-15  A1Q6MV8HRC58KK   \n",
       "4198 2015-06-13   ABD1G0MCG2QHT   \n",
       "4199 2015-06-12  A3OX7K7TZ1A6IG   \n",
       "4200 2015-06-12  A3N37GJGVFUDJB   \n",
       "4201 2015-06-11   ABZC6GUF3EZR9   \n",
       "...         ...             ...   \n",
       "4363 2015-05-25  A2ANPUFYSVCZCM   \n",
       "4364 2015-05-23  A3VM93YDITI5DK   \n",
       "4365 2015-05-23  A1B6CBLRIA9FR1   \n",
       "4366 2015-05-23  A29I5F4VUJYXUU   \n",
       "4367 2015-05-22  A36645UBD0OOQD   \n",
       "\n",
       "                                                                                               reviewText  \\\n",
       "4197  If you go back to the beginning of the reviews there are about 13 pages of nonsense about baking...   \n",
       "4198                                    My cupcakes are all shiny and chrome. I eat, I poop, I eat again.   \n",
       "4199                                                                       I BUY! I RETURN! I BUY AGAIN!!   \n",
       "4200                                                                            Mitch has witnessed me!!!   \n",
       "4201                         IT BURNS OH IT BURNS WONDERFULLY\\nTHE PATH TO VALHALLA IS NOT A PAINLESS ONE   \n",
       "...                                                                                                   ...   \n",
       "4363                                                                Oh what a spray! What a lovely spray!   \n",
       "4364  Makes it really easy to spot a Warboy who is at the end of their half life and about to become a...   \n",
       "4365                                                                         I LIVE! I DIE! I LIVE AGAIN!   \n",
       "4366                             WE WILL RIDE THROUGH THE GATES OF VALHALLA SHINY AND CHROME! WITNESS ME!   \n",
       "4367  Helps distract from the sickness. The shine will draw his gaze, I know it. This time maybe? Witn...   \n",
       "\n",
       "                                              summary  upvote  stars  verified  \n",
       "4197                      Best Shine in the Wasteland      66      5     False  \n",
       "4198                                       Five Stars      47      5     False  \n",
       "4199                                       Five Stars     123      5     False  \n",
       "4200                                       Five Stars      11      5     False  \n",
       "4201                                 SHINY AND CHROME      77      5      True  \n",
       "...                                               ...     ...    ...       ...  \n",
       "4363                              So Shiny, So Chrome    3001      5     False  \n",
       "4364  Brightens up my world, which is fire and blood.     161      5     False  \n",
       "4365                                       Four Stars     715      4     False  \n",
       "4366                                       Five Stars    1070      5     False  \n",
       "4367                   Better than the leading brand.     284      5     False  \n",
       "\n",
       "[171 rows x 7 columns]"
      ]
     },
     "metadata": {},
     "output_type": "display_data"
    },
    {
     "name": "stdout",
     "output_type": "stream",
     "text": [
      "Date with max number of reviews: 2015-05-27\n"
     ]
    }
   ],
   "source": [
    "reviews_spray = reviews[[\"reviewTime\", \"reviewerID\", \"reviewText\", \"summary\", \"upvote\", \"stars\", 'verified']]\\\n",
    "                        [(reviews[\"asin\"] == id1) &\\\n",
    "                         (reviews[\"reviewTime\"] >= pd.to_datetime(\"2015-05-22\")) &\\\n",
    "                         (reviews[\"reviewTime\"] <= pd.to_datetime(\"2015-06-15\"))]\n",
    "\n",
    "display(reviews_spray)\n",
    "date_with_max_reviews = reviews_spray.groupby(\"reviewTime\").agg(\"size\").idxmax()\n",
    "print(f\"Date with max number of reviews: {date_with_max_reviews.date()}\")"
   ]
  },
  {
   "cell_type": "markdown",
   "metadata": {},
   "source": [
    "This is quite funny, we managed to find approximately the release date of the famous movie [Mad Max: Fury Road](https://en.wikipedia.org/wiki/Mad_Max:_Fury_Road), which released in 15th May 2015 in USA. But how does a spray relate to this movie, you may wonder, if you haven't seen the movie. In fact the chrome spray became kind of a meme because of popular quotes, otherwise known as the \"[Witness me !](https://knowyourmeme.com/memes/witness-me)\" meme. In fact most of the reviews quote the movie or change a little bit a quote for comedic effect. Here is a gif of the famous spray inside of the movie:\n",
    "\n",
    "<img src=\"https://media.giphy.com/media/vHIz00fcNbseQ/giphy.gif\">\n",
    "\n",
    "The popular quotes include:\n",
    "> <em>&ldquo;You will ride eternal, shiny and chrome.&rdquo;</em>\n",
    "\n",
    "> <em>&ldquo;Return my treasures to me, and I myself will carry you through the gates of Valhalla. You shall ride eternal. Shiny, and chrome!&rdquo;</em>\n",
    "\n",
    "> <em>&ldquo;I live, I die, I live again!&rdquo;</em>\n",
    "\n",
    "> <em>&ldquo;Witness me.&rdquo;</em>\n",
    "\n",
    "Of course, the dates that are popular in the reviews are not exactly at the release date but a couple days later and lasted ~3 weeks for this product. The delay can be explained by the fact that the meme wasn't born instantly, people made joke about it, it became popular and ultimately invaded some of the reviews. We can see that most of the reviews have many upvotes. In fact reviews with many upvotes are almost always memes or jokes, so we have to take that into account. If we see many reviews with little upvotes it's probably a product that got popular, but if they have many upvotes it is most likely due to a meme or a group effect.\n",
    "\n",
    "We can expect other sprays to have similar trends, because the \"Witness Me!\" meme effect may have affected other sprays on Amazon."
   ]
  },
  {
   "cell_type": "markdown",
   "metadata": {},
   "source": [
    "To illustrate that, let's see what does the second product tells us. We begin by showing the reviews of the product during the peak, along with when the trend take place."
   ]
  },
  {
   "cell_type": "code",
   "execution_count": 29,
   "metadata": {},
   "outputs": [
    {
     "data": {
      "text/html": [
       "<div>\n",
       "<style scoped>\n",
       "    .dataframe tbody tr th:only-of-type {\n",
       "        vertical-align: middle;\n",
       "    }\n",
       "\n",
       "    .dataframe tbody tr th {\n",
       "        vertical-align: top;\n",
       "    }\n",
       "\n",
       "    .dataframe thead th {\n",
       "        text-align: right;\n",
       "    }\n",
       "</style>\n",
       "<table border=\"1\" class=\"dataframe\">\n",
       "  <thead>\n",
       "    <tr style=\"text-align: right;\">\n",
       "      <th></th>\n",
       "      <th>reviewTime</th>\n",
       "      <th>reviewerID</th>\n",
       "      <th>reviewText</th>\n",
       "      <th>summary</th>\n",
       "      <th>upvote</th>\n",
       "      <th>stars</th>\n",
       "      <th>verified</th>\n",
       "    </tr>\n",
       "  </thead>\n",
       "  <tbody>\n",
       "    <tr>\n",
       "      <th>7934</th>\n",
       "      <td>2018-01-22</td>\n",
       "      <td>A1VLIWG4U2V54G</td>\n",
       "      <td>I'm not a huge cookie guy. These were wonderful. Very fresh, very delicious.</td>\n",
       "      <td>These were wonderful. Very fresh</td>\n",
       "      <td>0</td>\n",
       "      <td>5</td>\n",
       "      <td>True</td>\n",
       "    </tr>\n",
       "    <tr>\n",
       "      <th>7935</th>\n",
       "      <td>2018-01-22</td>\n",
       "      <td>A129TBMOQD79CZ</td>\n",
       "      <td>Someone sent us a tin of Davids Cookies over the holidays and they were DELICIOUS. These are now...</td>\n",
       "      <td>Not your average tin of cookies!</td>\n",
       "      <td>0</td>\n",
       "      <td>5</td>\n",
       "      <td>False</td>\n",
       "    </tr>\n",
       "    <tr>\n",
       "      <th>7936</th>\n",
       "      <td>2018-01-21</td>\n",
       "      <td>A3TYIIZND9LAI4</td>\n",
       "      <td>These cookies are delicious. They are fresh, soft, flavorful, and the best oatmeal raisin cookie...</td>\n",
       "      <td>Best cookie ever</td>\n",
       "      <td>0</td>\n",
       "      <td>5</td>\n",
       "      <td>True</td>\n",
       "    </tr>\n",
       "    <tr>\n",
       "      <th>7937</th>\n",
       "      <td>2018-01-16</td>\n",
       "      <td>AEE3R04IH4T43</td>\n",
       "      <td>The best cookies ever so chewy, sweet and tasty!</td>\n",
       "      <td>Very good cookies</td>\n",
       "      <td>0</td>\n",
       "      <td>5</td>\n",
       "      <td>True</td>\n",
       "    </tr>\n",
       "    <tr>\n",
       "      <th>7938</th>\n",
       "      <td>2018-01-15</td>\n",
       "      <td>AEHEL2XO4RMRF</td>\n",
       "      <td>put in oven before eating</td>\n",
       "      <td>Four Stars</td>\n",
       "      <td>0</td>\n",
       "      <td>4</td>\n",
       "      <td>True</td>\n",
       "    </tr>\n",
       "    <tr>\n",
       "      <th>7949</th>\n",
       "      <td>2018-01-15</td>\n",
       "      <td>A2I88LLDJ5UHSA</td>\n",
       "      <td>Good deal,gift well received</td>\n",
       "      <td>Five Stars</td>\n",
       "      <td>0</td>\n",
       "      <td>5</td>\n",
       "      <td>True</td>\n",
       "    </tr>\n",
       "    <tr>\n",
       "      <th>7950</th>\n",
       "      <td>2018-01-15</td>\n",
       "      <td>AX37FB41O04J2</td>\n",
       "      <td>Was sent as a gift. Found a hair baked into a cookie. Good until that point</td>\n",
       "      <td>Good until that</td>\n",
       "      <td>0</td>\n",
       "      <td>2</td>\n",
       "      <td>True</td>\n",
       "    </tr>\n",
       "    <tr>\n",
       "      <th>7951</th>\n",
       "      <td>2018-01-15</td>\n",
       "      <td>ARDJ0F5J1V8VV</td>\n",
       "      <td>They were good and tasty, a very delicious cookie. Fresh baked flavor! The cookie looks and tast...</td>\n",
       "      <td>Tastes and looks full of homemade goodness</td>\n",
       "      <td>0</td>\n",
       "      <td>5</td>\n",
       "      <td>False</td>\n",
       "    </tr>\n",
       "    <tr>\n",
       "      <th>7952</th>\n",
       "      <td>2018-01-12</td>\n",
       "      <td>A1OD4XDOWM8S6E</td>\n",
       "      <td>Would be 5 stars if the raisin cookies didn't take over the flavor of every other cookie. They d...</td>\n",
       "      <td>Theyre good, just get the package without raisins...</td>\n",
       "      <td>0</td>\n",
       "      <td>4</td>\n",
       "      <td>True</td>\n",
       "    </tr>\n",
       "    <tr>\n",
       "      <th>7953</th>\n",
       "      <td>2018-01-11</td>\n",
       "      <td>AJO8G0GEMPAAU</td>\n",
       "      <td>Got them as a Birthday treat for my dad, he said they were delicious!</td>\n",
       "      <td>Four Stars</td>\n",
       "      <td>0</td>\n",
       "      <td>4</td>\n",
       "      <td>False</td>\n",
       "    </tr>\n",
       "  </tbody>\n",
       "</table>\n",
       "</div>"
      ],
      "text/plain": [
       "     reviewTime      reviewerID  \\\n",
       "7934 2018-01-22  A1VLIWG4U2V54G   \n",
       "7935 2018-01-22  A129TBMOQD79CZ   \n",
       "7936 2018-01-21  A3TYIIZND9LAI4   \n",
       "7937 2018-01-16   AEE3R04IH4T43   \n",
       "7938 2018-01-15   AEHEL2XO4RMRF   \n",
       "7949 2018-01-15  A2I88LLDJ5UHSA   \n",
       "7950 2018-01-15   AX37FB41O04J2   \n",
       "7951 2018-01-15   ARDJ0F5J1V8VV   \n",
       "7952 2018-01-12  A1OD4XDOWM8S6E   \n",
       "7953 2018-01-11   AJO8G0GEMPAAU   \n",
       "\n",
       "                                                                                               reviewText  \\\n",
       "7934                         I'm not a huge cookie guy. These were wonderful. Very fresh, very delicious.   \n",
       "7935  Someone sent us a tin of Davids Cookies over the holidays and they were DELICIOUS. These are now...   \n",
       "7936  These cookies are delicious. They are fresh, soft, flavorful, and the best oatmeal raisin cookie...   \n",
       "7937                                                     The best cookies ever so chewy, sweet and tasty!   \n",
       "7938                                                                            put in oven before eating   \n",
       "7949                                                                         Good deal,gift well received   \n",
       "7950                          Was sent as a gift. Found a hair baked into a cookie. Good until that point   \n",
       "7951  They were good and tasty, a very delicious cookie. Fresh baked flavor! The cookie looks and tast...   \n",
       "7952  Would be 5 stars if the raisin cookies didn't take over the flavor of every other cookie. They d...   \n",
       "7953                                Got them as a Birthday treat for my dad, he said they were delicious!   \n",
       "\n",
       "                                                   summary  upvote  stars  \\\n",
       "7934                      These were wonderful. Very fresh       0      5   \n",
       "7935                      Not your average tin of cookies!       0      5   \n",
       "7936                                      Best cookie ever       0      5   \n",
       "7937                                    Very good cookies        0      5   \n",
       "7938                                            Four Stars       0      4   \n",
       "7949                                            Five Stars       0      5   \n",
       "7950                                       Good until that       0      2   \n",
       "7951            Tastes and looks full of homemade goodness       0      5   \n",
       "7952  Theyre good, just get the package without raisins...       0      4   \n",
       "7953                                            Four Stars       0      4   \n",
       "\n",
       "      verified  \n",
       "7934      True  \n",
       "7935     False  \n",
       "7936      True  \n",
       "7937      True  \n",
       "7938      True  \n",
       "7949      True  \n",
       "7950      True  \n",
       "7951     False  \n",
       "7952      True  \n",
       "7953     False  "
      ]
     },
     "metadata": {},
     "output_type": "display_data"
    },
    {
     "name": "stdout",
     "output_type": "stream",
     "text": [
      "Date with max number of reviews: 2017-12-15\n"
     ]
    }
   ],
   "source": [
    "reviews_cookie = reviews[[\"reviewTime\", \"reviewerID\", \"reviewText\", \"summary\", \"upvote\", \"stars\", \"verified\"]]\\\n",
    "                        [(reviews[\"asin\"] == id2) &\\\n",
    "                         (reviews[\"reviewTime\"] >= pd.to_datetime(\"2017-12-08\")) &\\\n",
    "                         (reviews[\"reviewTime\"] <= pd.to_datetime(\"2018-01-22\"))]\n",
    "\n",
    "display(reviews_cookie.head(10))\n",
    "date_with_max_reviews = reviews_cookie.groupby(\"reviewTime\").agg(\"size\").idxmax()\n",
    "print(f\"Date with max number of reviews: {date_with_max_reviews.date()}\")"
   ]
  },
  {
   "cell_type": "markdown",
   "metadata": {},
   "source": [
    "One way to compare the two product is to see the proportion of people that have actually bought them. If the popularity of one of them comes from the fun in the comments and not from the product itself, we can suppose that the proportion of people that bought the product is quite low. However, in the other situation where the popularity depends on the quality, this proportion should be much higher."
   ]
  },
  {
   "cell_type": "code",
   "execution_count": 249,
   "metadata": {},
   "outputs": [
    {
     "name": "stdout",
     "output_type": "stream",
     "text": [
      "Proportion of 'verified' reviews, that is review from people that have confirmed buying the product:\n",
      "Spray product: 2.3%\n",
      "Cookie product: 62.7%\n"
     ]
    }
   ],
   "source": [
    "print(\"Proportion of 'verified' reviews, that is review from people that have confirmed buying the product:\")\n",
    "verif_proportion_spray = reviews_spray['verified'].sum() / reviews_spray['verified'].size\n",
    "verif_proportion_cookie = reviews_cookie['verified'].sum() / reviews_cookie['verified'].size\n",
    "print(\"Spray product: %.1f%%\" % (verif_proportion_spray*100))\n",
    "print(\"Cookie product: %.1f%%\" % (verif_proportion_cookie*100))"
   ]
  },
  {
   "cell_type": "markdown",
   "metadata": {},
   "source": [
    "We can see how different they are in this measure, this confirms our intuition that reviews from the spray are simply memes. So, coming from people that didn't buy the product, but just posted a review as a joke.\n",
    "\n",
    "Another thing is that, unlike the first product, all reviews tend to have 0 upvote for the cookie product. This confirms that the popularity comes from people that actually wanted to buy cookies and thought they were good. Not from people that are joking. Also, the peak of interest here is an effect of christmas festivities, the product's goal is to be a gift so it is no wonder that the day which got the most interest is just before christmas day."
   ]
  },
  {
   "cell_type": "markdown",
   "metadata": {},
   "source": [
    "Now that we have seen that looking at popularity of products can give us a good insight we decided to do it in a more controlled manner by targeting Christmas instead of shooting in the dark like here.\n",
    "\n",
    "To do this we search for product that got trendy, by measuring the difference between its mean, calculated on the number of reviews per week, in days around christmas with the median during all the year. That way, a product that gets more interest in the period of christmas will be picked. This shows how we can directly observe the effect of a certain event, here Christmas, on the dataset. We calculate it this way so that if the product experience a huge peak at that time, the baseline measure, the median here, is not affected since the median is robust. By taking the difference we have a bias towards product that get more attention in general but this is voluntary, focusing on popular products make the analysis more concrete.\n",
    "\n",
    "For now, we focus on the two last christmas of the dataset, namely in years 2016 and 2017."
   ]
  },
  {
   "cell_type": "code",
   "execution_count": 71,
   "metadata": {},
   "outputs": [],
   "source": [
    "def compute_period_activity(reviews_per_week, start_date, time_delta):\n",
    "    period_mask = (reviews_per_week['reviewTime'] >= start_date) & (reviews_per_week['reviewTime'] < start_date+time_delta)\n",
    "    \n",
    "    year_mask = (reviews_per_week['reviewTime'] >= pd.datetime(start_date.year, 1, 1)) & (reviews_per_week['reviewTime'] < pd.datetime(start_date.year, 12, 31))\n",
    "    \n",
    "    product_median_in_year = pd.DataFrame(reviews_per_week.loc[year_mask, :].groupby('asin')['reviewCount'].median())\n",
    "    product_median_in_year.columns = ['median in year']\n",
    "    \n",
    "    period_mean = pd.DataFrame(reviews_per_week.loc[period_mask, :].groupby('asin')['reviewCount'].mean())\n",
    "    period_mean.columns = ['mean in period']\n",
    "    \n",
    "    median_and_mean = product_median_in_year.join(period_mean)\n",
    "    median_and_mean = median_and_mean.loc[(~median_and_mean['median in year'].isnull()) & (~median_and_mean['mean in period'].isnull()), :]\n",
    "    median_and_mean['delta'] = median_and_mean['mean in period'] - median_and_mean['median in year']\n",
    "    median_and_mean.reset_index(inplace=True)\n",
    "    \n",
    "    return median_and_mean"
   ]
  },
  {
   "cell_type": "code",
   "execution_count": 225,
   "metadata": {},
   "outputs": [
    {
     "name": "stdout",
     "output_type": "stream",
     "text": [
      "Products with a peak of interest\n"
     ]
    },
    {
     "data": {
      "text/html": [
       "<div>\n",
       "<style scoped>\n",
       "    .dataframe tbody tr th:only-of-type {\n",
       "        vertical-align: middle;\n",
       "    }\n",
       "\n",
       "    .dataframe tbody tr th {\n",
       "        vertical-align: top;\n",
       "    }\n",
       "\n",
       "    .dataframe thead th {\n",
       "        text-align: right;\n",
       "    }\n",
       "</style>\n",
       "<table border=\"1\" class=\"dataframe\">\n",
       "  <thead>\n",
       "    <tr style=\"text-align: right;\">\n",
       "      <th></th>\n",
       "      <th>asin</th>\n",
       "      <th>median in year</th>\n",
       "      <th>mean in period</th>\n",
       "      <th>delta</th>\n",
       "      <th>year</th>\n",
       "      <th>title</th>\n",
       "      <th>main_cat</th>\n",
       "    </tr>\n",
       "  </thead>\n",
       "  <tbody>\n",
       "    <tr>\n",
       "      <th>0</th>\n",
       "      <td>B0000D9169</td>\n",
       "      <td>3.0</td>\n",
       "      <td>57.5</td>\n",
       "      <td>54.5</td>\n",
       "      <td>2016</td>\n",
       "      <td>David's Cookies - 24 Fresh Baked Assorted Cookies Gourmet Gift Basket - Christmas, Holiday &amp; Cor...</td>\n",
       "      <td>Grocery</td>\n",
       "    </tr>\n",
       "    <tr>\n",
       "      <th>2</th>\n",
       "      <td>B0000D916Y</td>\n",
       "      <td>3.0</td>\n",
       "      <td>57.5</td>\n",
       "      <td>54.5</td>\n",
       "      <td>2016</td>\n",
       "      <td>David's Cookies - 24 Fresh Baked M&amp;M Candy Cookie Gourmet Gift Basket - Christmas, Holiday &amp; Cor...</td>\n",
       "      <td>Grocery</td>\n",
       "    </tr>\n",
       "    <tr>\n",
       "      <th>4</th>\n",
       "      <td>B00KCCKV8W</td>\n",
       "      <td>15.5</td>\n",
       "      <td>293.0</td>\n",
       "      <td>277.5</td>\n",
       "      <td>2016</td>\n",
       "      <td>Holiday Nuts Gift Basket - Gourmet Food Gifts Prime Delivery - Christmas, Mothers &amp; Fathers Day ...</td>\n",
       "      <td>Grocery</td>\n",
       "    </tr>\n",
       "    <tr>\n",
       "      <th>5</th>\n",
       "      <td>B00KCCKV8W</td>\n",
       "      <td>24.5</td>\n",
       "      <td>56.0</td>\n",
       "      <td>31.5</td>\n",
       "      <td>2017</td>\n",
       "      <td>Holiday Nuts Gift Basket - Gourmet Food Gifts Prime Delivery - Christmas, Mothers &amp; Fathers Day ...</td>\n",
       "      <td>Grocery</td>\n",
       "    </tr>\n",
       "    <tr>\n",
       "      <th>6</th>\n",
       "      <td>B00SBT6E8E</td>\n",
       "      <td>2.0</td>\n",
       "      <td>43.0</td>\n",
       "      <td>41.0</td>\n",
       "      <td>2016</td>\n",
       "      <td>CollegeBox - Snacks Care Package (40 Count) for College Students – Variety Assortment Gift Box B...</td>\n",
       "      <td>Grocery</td>\n",
       "    </tr>\n",
       "    <tr>\n",
       "      <th>7</th>\n",
       "      <td>B00YPM5X2Y</td>\n",
       "      <td>8.0</td>\n",
       "      <td>55.5</td>\n",
       "      <td>47.5</td>\n",
       "      <td>2016</td>\n",
       "      <td>Holiday Nuts Gift Basket -Delightful Gourmet Food Gifts Prime Delivery -Christmas Birthday, Than...</td>\n",
       "      <td>Grocery</td>\n",
       "    </tr>\n",
       "    <tr>\n",
       "      <th>8</th>\n",
       "      <td>B0131A6FJA</td>\n",
       "      <td>9.0</td>\n",
       "      <td>51.5</td>\n",
       "      <td>42.5</td>\n",
       "      <td>2016</td>\n",
       "      <td>96 Count Variety (10 Amazing Blends) Single-serve Cups for Keurig K-cup Brewers - Premium Roaste...</td>\n",
       "      <td>Grocery</td>\n",
       "    </tr>\n",
       "    <tr>\n",
       "      <th>9</th>\n",
       "      <td>B013KTYFYO</td>\n",
       "      <td>7.0</td>\n",
       "      <td>44.5</td>\n",
       "      <td>37.5</td>\n",
       "      <td>2016</td>\n",
       "      <td>Cookies Chips &amp; Candy Snacks Assortment Bulk Sampler by Variety Fun (Care Package 40 Count)</td>\n",
       "      <td>Grocery</td>\n",
       "    </tr>\n",
       "    <tr>\n",
       "      <th>10</th>\n",
       "      <td>B015G9SH6I</td>\n",
       "      <td>8.0</td>\n",
       "      <td>44.5</td>\n",
       "      <td>36.5</td>\n",
       "      <td>2016</td>\n",
       "      <td>Five Star Gift Baskets, Holiday Gift Basket - Gourmet Food Nuts and Chocolate, 3 Different Delic...</td>\n",
       "      <td>Grocery</td>\n",
       "    </tr>\n",
       "    <tr>\n",
       "      <th>11</th>\n",
       "      <td>B01E9D0OR2</td>\n",
       "      <td>19.0</td>\n",
       "      <td>69.0</td>\n",
       "      <td>50.0</td>\n",
       "      <td>2017</td>\n",
       "      <td>Little Stinker The Original Bag of Unicorn Farts Cotton Candy Funny Novelty Gift for Unique Birt...</td>\n",
       "      <td>Grocery</td>\n",
       "    </tr>\n",
       "  </tbody>\n",
       "</table>\n",
       "</div>"
      ],
      "text/plain": [
       "          asin  median in year  mean in period  delta  year  \\\n",
       "0   B0000D9169             3.0            57.5   54.5  2016   \n",
       "2   B0000D916Y             3.0            57.5   54.5  2016   \n",
       "4   B00KCCKV8W            15.5           293.0  277.5  2016   \n",
       "5   B00KCCKV8W            24.5            56.0   31.5  2017   \n",
       "6   B00SBT6E8E             2.0            43.0   41.0  2016   \n",
       "7   B00YPM5X2Y             8.0            55.5   47.5  2016   \n",
       "8   B0131A6FJA             9.0            51.5   42.5  2016   \n",
       "9   B013KTYFYO             7.0            44.5   37.5  2016   \n",
       "10  B015G9SH6I             8.0            44.5   36.5  2016   \n",
       "11  B01E9D0OR2            19.0            69.0   50.0  2017   \n",
       "\n",
       "                                                                                                  title  \\\n",
       "0   David's Cookies - 24 Fresh Baked Assorted Cookies Gourmet Gift Basket - Christmas, Holiday & Cor...   \n",
       "2   David's Cookies - 24 Fresh Baked M&M Candy Cookie Gourmet Gift Basket - Christmas, Holiday & Cor...   \n",
       "4   Holiday Nuts Gift Basket - Gourmet Food Gifts Prime Delivery - Christmas, Mothers & Fathers Day ...   \n",
       "5   Holiday Nuts Gift Basket - Gourmet Food Gifts Prime Delivery - Christmas, Mothers & Fathers Day ...   \n",
       "6   CollegeBox - Snacks Care Package (40 Count) for College Students – Variety Assortment Gift Box B...   \n",
       "7   Holiday Nuts Gift Basket -Delightful Gourmet Food Gifts Prime Delivery -Christmas Birthday, Than...   \n",
       "8   96 Count Variety (10 Amazing Blends) Single-serve Cups for Keurig K-cup Brewers - Premium Roaste...   \n",
       "9           Cookies Chips & Candy Snacks Assortment Bulk Sampler by Variety Fun (Care Package 40 Count)   \n",
       "10  Five Star Gift Baskets, Holiday Gift Basket - Gourmet Food Nuts and Chocolate, 3 Different Delic...   \n",
       "11  Little Stinker The Original Bag of Unicorn Farts Cotton Candy Funny Novelty Gift for Unique Birt...   \n",
       "\n",
       "   main_cat  \n",
       "0   Grocery  \n",
       "2   Grocery  \n",
       "4   Grocery  \n",
       "5   Grocery  \n",
       "6   Grocery  \n",
       "7   Grocery  \n",
       "8   Grocery  \n",
       "9   Grocery  \n",
       "10  Grocery  \n",
       "11  Grocery  "
      ]
     },
     "metadata": {},
     "output_type": "display_data"
    },
    {
     "data": {
      "text/html": [
       "<a href='milestone-2-plots/time_series_christmas_peak.html' target='_blank'>milestone-2-plots/time_series_christmas_peak.html</a><br>"
      ],
      "text/plain": [
       "/home/lulu/EPFL/MA1/Ada/Project/milestone-2-plots/time_series_christmas_peak.html"
      ]
     },
     "execution_count": 72,
     "metadata": {},
     "output_type": "execute_result"
    }
   ],
   "source": [
    "median_and_mean_2017 = compute_period_activity(reviews_per_week, pd.datetime(2017, 12, 18), pd.Timedelta('10 days'))\n",
    "median_and_mean_2017['year'] = 2017\n",
    "median_and_mean_2016 = compute_period_activity(reviews_per_week, pd.datetime(2016, 12, 18), pd.Timedelta('10 days')) \n",
    "median_and_mean_2016['year'] = 2016\n",
    "median_and_mean = pd.concat([median_and_mean_2016, median_and_mean_2017])\n",
    "asins_to_plot = median_and_mean.loc[median_and_mean['delta'] > 30, :].merge(meta[['asin', 'title', 'main_cat']], left_on='asin', right_on='asin')\n",
    "asins_to_plot.drop_duplicates(inplace=True)\n",
    "print('Products with a peak of interest')\n",
    "display(asins_to_plot)\n",
    "\n",
    "plot_time_series(asins_to_plot['asin'].unique(), 'time_series_christmas_peak')"
   ]
  },
  {
   "cell_type": "markdown",
   "metadata": {},
   "source": [
    "One thing is for sure; american do love to offer groceries and snacks in this period of the year. Again, the effect that christmas have on products is observable and measurable. This is very good for our direction of analysis, with such an approach we can extract products and analyze further how they are affected and what insights we can extract from their respective reviews. We apply that mindset in the next section, trying to see what words appear more in the christmas context than in general."
   ]
  },
  {
   "cell_type": "markdown",
   "metadata": {},
   "source": [
    "### Topic extraction"
   ]
  },
  {
   "cell_type": "markdown",
   "metadata": {},
   "source": [
    "We aim to extract words that are influenced by the events, thus that would represent this event. We lemmatize the text so that all words representing the same idea are (hopefully) mapped to the same word. To do that we use the [nltk](https://www.nltk.org/) library"
   ]
  },
  {
   "cell_type": "code",
   "execution_count": 90,
   "metadata": {},
   "outputs": [
    {
     "name": "stderr",
     "output_type": "stream",
     "text": [
      "[nltk_data] Downloading package punkt to /home/flo/nltk_data...\n",
      "[nltk_data]   Package punkt is already up-to-date!\n",
      "[nltk_data] Downloading package wordnet to /home/flo/nltk_data...\n",
      "[nltk_data]   Package wordnet is already up-to-date!\n",
      "[nltk_data] Downloading package averaged_perceptron_tagger to\n",
      "[nltk_data]     /home/flo/nltk_data...\n",
      "[nltk_data]   Package averaged_perceptron_tagger is already up-to-\n",
      "[nltk_data]       date!\n"
     ]
    }
   ],
   "source": [
    "import string\n",
    "import nltk\n",
    "from nltk import pos_tag\n",
    "from nltk.stem import WordNetLemmatizer\n",
    "from nltk.corpus import stopwords\n",
    "from nltk.tokenize import word_tokenize\n",
    "\n",
    "lemmatizer = WordNetLemmatizer()\n",
    "nltk.download('punkt')\n",
    "nltk.download('wordnet')\n",
    "nltk.download('averaged_perceptron_tagger');\n",
    "\n",
    "def remove_punctuation(s):\n",
    "    punct_chars = string.punctuation\n",
    "    translator_punct = s.maketrans(punct_chars, ' ' * len(punct_chars))\n",
    "    \n",
    "    return s.translate(translator_punct)\n",
    "\n",
    "def remove_stopwords(s):\n",
    "    stopwords_np = np.array(stopwords.words('english'))\n",
    "    words = np.array(s.split())\n",
    "    words_filtered = words[~np.in1d(words, stopwords_np)]\n",
    "    \n",
    "    return ' '.join(words_filtered)\n",
    "\n",
    "def transform_tag(tag):\n",
    "    tag_prefix = tag[0].lower()\n",
    "    if tag_prefix in ['n', 'r', 'v', 'j']:\n",
    "        return 'a' if tag_prefix == 'j' else tag_prefix\n",
    "    else:\n",
    "        return 'n'\n",
    "\n",
    "def lemmatize(t):\n",
    "    t = str.lower(t)\n",
    "    t = remove_punctuation(t)\n",
    "    t = remove_stopwords(t)\n",
    "    t_token = word_tokenize(t)\n",
    "    t_tags = pos_tag(t_token)\n",
    "    t_lemm = [lemmatizer.lemmatize(w, transform_tag(t)) for w, t in t_tags if len(w) > 1]\n",
    "    return t_lemm"
   ]
  },
  {
   "cell_type": "markdown",
   "metadata": {},
   "source": [
    "Given some of the reviews are duplicated we start by deleting them in order to eliminate any bias"
   ]
  },
  {
   "cell_type": "code",
   "execution_count": 34,
   "metadata": {},
   "outputs": [],
   "source": [
    "unique_reviews = reviews.drop_duplicates(subset=['asin','reviewerName','reviewText']).copy()\n",
    "unique_reviews_per_week = compute_reviews_per_week(unique_reviews, 7)"
   ]
  },
  {
   "cell_type": "markdown",
   "metadata": {},
   "source": [
    "We define here a bunch of constants and functions in order to extract the topics for a given period of time. The idea here is first to choose a particular date and a duration. Then, try to grasp what products are more popular during that period of time by comparing their activity in the period and during the rest of the year as done above. With that pool of products we select two types of reviews: the ones in the period we chose and the ones during the rest of the year. After that, we compute the word frequency among those two groups and compare them. In other words, we select popular product for a given period of time and compare the word frequencies in the period and in the rest of the year in order to have the popular words. Thus, we hope to be able to grasp some insight about how an event affects a given period of time."
   ]
  },
  {
   "cell_type": "code",
   "execution_count": 153,
   "metadata": {},
   "outputs": [],
   "source": [
    "CHRISTMAS_DATE = pd.datetime(2000, 12, 1)\n",
    "CHRISTMAS_DURATION = pd.Timedelta('30 days')\n",
    "columns_christmas = ['during_christmas', 'not_in_christmas']\n",
    "VALENTINE_DATE = pd.datetime(2000, 2, 11)\n",
    "VALENTINE_DURATION = pd.Timedelta('7 days')\n",
    "columns_valentine = ['during_valentines', 'not_in_valentine']\n",
    "NUM_TOP_WORDS = 50"
   ]
  },
  {
   "cell_type": "code",
   "execution_count": 75,
   "metadata": {},
   "outputs": [],
   "source": [
    "def extract_activity_for_event(reviews_week_df, event_start_date, event_duration_days, delta, end_year=2017):\n",
    "    \"\"\"\n",
    "    extract_activity_for_event takes a dataframe containing the sum of the reviews for a given week and product\n",
    "    and returns all the products that have a high reviewing activity during the event time\n",
    "    \"\"\"\n",
    "    #Create a dataframe containing the most popular product for the given period\n",
    "    activity = pd.DataFrame()\n",
    "    for year in range(event_start_date.year, end_year + 1):\n",
    "        event_start_date = pd.datetime(year, event_start_date.month, event_start_date.day)\n",
    "        year_activity = compute_period_activity(reviews_week_df, event_start_date, event_duration_days)\n",
    "        year_activity = year_activity.loc[year_activity.delta > delta]\n",
    "        year_activity['event_start_date'] = event_start_date\n",
    "        activity = pd.concat([activity, year_activity])\n",
    "    return activity"
   ]
  },
  {
   "cell_type": "code",
   "execution_count": 68,
   "metadata": {},
   "outputs": [],
   "source": [
    "def extract_reviews_for_event(activity, reviews, event_duration_days, during_event=True):\n",
    "    \"\"\"\n",
    "    extract_reviews_for_event takes a dataframe containing the products that have a high\n",
    "    activity during a particular event and return all the reviews corresponding to the latters \n",
    "    during the event period or during the rest of the year\n",
    "    \"\"\"\n",
    "    reviews = reviews[['reviewTime', 'asin', 'reviewText', 'summary']]\n",
    "    activity = activity[['asin', 'event_start_date']]\n",
    "    activity_and_reviews = activity.merge(reviews, on='asin')\n",
    "    filtered_reviews = pd.DataFrame()\n",
    "    if during_event:\n",
    "        filtered_reviews = activity_and_reviews.loc[((activity_and_reviews.event_start_date < activity_and_reviews.reviewTime)\\\n",
    "                                                    & (activity_and_reviews.reviewTime < activity_and_reviews.event_start_date + event_duration_days))]\n",
    "    else:\n",
    "        filtered_reviews = activity_and_reviews.loc[(~(activity_and_reviews.event_start_date < activity_and_reviews.reviewTime)\\\n",
    "                                                    & (activity_and_reviews.reviewTime < activity_and_reviews.event_start_date + event_duration_days))]\n",
    "    return filtered_reviews[['asin', 'reviewTime', 'reviewText', 'summary']].copy()"
   ]
  },
  {
   "cell_type": "code",
   "execution_count": 69,
   "metadata": {},
   "outputs": [],
   "source": [
    "def lemmatize_and_count(event_reviews):\n",
    "    \"\"\"\n",
    "    lemmatize_and_count takes a dataframe containing reviews and summaries\n",
    "    and lemmatizes the latters. It returns a dataframe with the number of times\n",
    "    a given word appears sorted descendingly\n",
    "    \"\"\"\n",
    "    event_texts = pd.DataFrame(event_reviews['reviewText'] + ' ' + event_reviews['summary'], columns=['text'])\n",
    "    lemmatized_event_texts = pd.DataFrame(event_texts['text'].apply(lemmatize))\n",
    "    lemmatized_event_words_count = pd.DataFrame(lemmatized_event_texts.explode('text').groupby('text').size(), columns=['count'])\n",
    "    return lemmatized_event_words_count.sort_values(by='count', ascending=False)"
   ]
  },
  {
   "cell_type": "code",
   "execution_count": 70,
   "metadata": {},
   "outputs": [],
   "source": [
    "def compute_freq(word_count_1, word_count_2):\n",
    "    \"\"\"compute_freq compute the frequencies of the word among two dataframe having the words\n",
    "    and how many times they appear\"\"\"\n",
    "    nb_word_1 = word_count_1['count'].values.sum()\n",
    "    word_count_1['count'] = word_count_1['count'] / nb_word_1\n",
    "    nb_word_2 = word_count_2['count'].values.sum()\n",
    "    word_count_2['count'] = word_count_2['count'] / nb_word_2\n",
    "    return word_count_1, word_count_2"
   ]
  },
  {
   "cell_type": "code",
   "execution_count": 71,
   "metadata": {},
   "outputs": [],
   "source": [
    "def compute_and_compare_freq(event_word_count, non_event_word_count, min_freq=0.0005, ratio=True, columns=['event', 'not_event']):\n",
    "    \"\"\"\n",
    "    compute_and_compare_freq compute either the ratio or the frequency between words that appear in event_word_count\n",
    "    and those in non_event_word_count. Words having a very low frequency are discarded since there are considered as\n",
    "    garbage\n",
    "    \"\"\"\n",
    "    event_word_count_n, non_event_word_count_n = compute_freq(event_word_count, non_event_word_count)\n",
    "    word_frequencies = event_word_count_n.merge(non_event_word_count_n, how='left', on='text')\n",
    "    word_frequencies.columns = columns\n",
    "    if ratio:\n",
    "        word_frequencies = word_frequencies.fillna(0.0000001)\n",
    "        word_frequencies['ratio'] = word_frequencies[columns[0]] / word_frequencies[columns[1]]\n",
    "    else:\n",
    "        word_frequencies = word_frequencies.fillna(0)\n",
    "        word_frequencies['difference'] = word_frequencies[columns[0]] - word_frequencies[columns[1]]\n",
    "    word_frequencies = word_frequencies.loc[word_frequencies[columns[0]] > min_freq]\n",
    "    return word_frequencies.sort_values(by=word_frequencies.columns[-1], ascending=False)"
   ]
  },
  {
   "cell_type": "markdown",
   "metadata": {},
   "source": [
    "Now we use this to extract topics, as words, for christmas. \n",
    "\n",
    "We try to grasp how christmas is present and thus plot the comparison of the word frequencies during the month of december and during the rest of the year. Values appear in the bar plot in the in decreasing order according to their biggest ratio."
   ]
  },
  {
   "cell_type": "code",
   "execution_count": 91,
   "metadata": {},
   "outputs": [],
   "source": [
    "christmas_activity = extract_activity_for_event(unique_reviews_per_week, CHRISTMAS_DATE, CHRISTMAS_DURATION, 10)\n",
    "christmas_reviews = extract_reviews_for_event(christmas_activity, unique_reviews, CHRISTMAS_DURATION)\n",
    "christmas_word_count = lemmatize_and_count(christmas_reviews)"
   ]
  },
  {
   "cell_type": "code",
   "execution_count": 92,
   "metadata": {},
   "outputs": [],
   "source": [
    "non_christmas_reviews = extract_reviews_for_event(christmas_activity, unique_reviews, CHRISTMAS_DURATION, during_event=False)\n",
    "non_christmas_word_count = lemmatize_and_count(non_christmas_reviews)"
   ]
  },
  {
   "cell_type": "code",
   "execution_count": 93,
   "metadata": {},
   "outputs": [],
   "source": [
    "freq_and_ratio = compute_and_compare_freq(christmas_word_count, non_christmas_word_count, columns=columns_christmas)"
   ]
  },
  {
   "cell_type": "code",
   "execution_count": 155,
   "metadata": {},
   "outputs": [
    {
     "data": {
      "image/png": "[encoded data removed]",
      "text/plain": [
       "<Figure size 1440x1296 with 1 Axes>"
      ]
     },
     "metadata": {
      "needs_background": "light"
     },
     "output_type": "display_data"
    }
   ],
   "source": [
    "ax = freq_and_ratio.head(NUM_TOP_WORDS).sort_values(by='ratio')[columns_christmas].plot.barh(rot=0, figsize=(20,18), width=0.7)\n",
    "ax.set_ylabel('Words', fontsize=16)\n",
    "ax.set_xlabel('Frequency', fontsize=16)\n",
    "ax.tick_params(labelsize=14)\n",
    "_ = ax.set_title(f'Word frequency {columns_christmas[0]} sorted by the most ratio', fontsize=18)"
   ]
  },
  {
   "cell_type": "markdown",
   "metadata": {},
   "source": [
    "Taking the ratio between the frequencies bring conclusive results. The goal was to take a period during the year and try to see if a particular event influences the former. Here, we take the month a december and try to show how Christmas is present during it. We can try to manually extract topics from the plot:\n",
    "\n",
    "- Christmas : \"Christmas\", \"Holiday\", \"Present\", \"Gift\", \"Package\"\n",
    "\n",
    "- Family : \"Family\", \"Son\", \"Brother\", \"Everyone\", \"Party\"\n",
    "\n",
    "- Food, cooking and baking : \"Waffle\", \"Flour\", \"Batter\", \"Pancakes\", \"Egg\", \"Mix\", \"Cook\", \"Cinnamon\", \"Butter\", \"Recipient\""
   ]
  },
  {
   "cell_type": "markdown",
   "metadata": {},
   "source": [
    "The three main topics extracted here are all strongly related to Christmas. However, one should be careful about the conclusions regarding those topics since the one about cooking and baking is also related to winter. \n",
    "\n",
    "On top of that, we have to pay attention to the fact that we only consider words here and no n-gram. Indeed, among the top five sit the words \"birch\" and \"bender\". After a quick research, the first word seems to indicate a sort of wood and the second one a caracter from the famous show Futurama. Nevertheless, it is in fact a pancake/waffle mix."
   ]
  },
  {
   "cell_type": "markdown",
   "metadata": {},
   "source": [
    "<img src=\"https://naturamarket.ca/media/catalog/product/cache/af3e346b7c89cdcb7f0c99a9bb5c184f/b/i/birch-benders-paleo-pancake-mix.jpg\" width=\"400px\">"
   ]
  },
  {
   "cell_type": "markdown",
   "metadata": {},
   "source": [
    "### Word embeddings for trend analysis"
   ]
  },
  {
   "cell_type": "markdown",
   "metadata": {},
   "source": [
    "All this is promising but our research axes are both to find impact of events, periodic or not, in the dataset and of trends. Our first case study was to find and measure the impact of vegetarianism/veganism in the data. What we presented until now is not useful for extracting such an information, it permits to measure punctual effect but not effect over multiple years. That's why the second approach is essential, we can use word embeddings to measure the document similarity between a trend and reviews or products. This way we can see how a trend evolves over the years.\n",
    "\n",
    "For that we use gensim's [word2vec](https://radimrehurek.com/gensim/models/word2vec.html) library, with google's pre-trained model."
   ]
  },
  {
   "cell_type": "code",
   "execution_count": null,
   "metadata": {},
   "outputs": [],
   "source": [
    "from gensim.models import Word2Vec, KeyedVectors\n",
    "\n",
    "# reference of model: https://drive.google.com/file/d/0B7XkCwpI5KDYNlNUTTlSS21pQmM/edit?usp=sharing\n",
    "# Taken from https://mccormickml.com/2016/04/12/googles-pretrained-word2vec-model-in-python/\n",
    "google_model = KeyedVectors.load_word2vec_format('./data/GoogleNews-vectors-negative300.bin', binary=True)"
   ]
  },
  {
   "cell_type": "code",
   "execution_count": 179,
   "metadata": {},
   "outputs": [],
   "source": [
    "before = pd.datetime(2012,1,1)\n",
    "after = pd.datetime(2017,1,1)"
   ]
  },
  {
   "cell_type": "code",
   "execution_count": 180,
   "metadata": {},
   "outputs": [],
   "source": [
    "veg_words = ['vegan', 'vegetarian', 'organic', 'raw', 'health', 'green', 'bean', 'soy', 'tofu', 'tempeh', 'granola', 'hummus', 'Vegan', 'gluten_free', 'vegans', 'vegetarians', 'vegeterian', 'nonmeat', 'avocado']"
   ]
  },
  {
   "cell_type": "code",
   "execution_count": 193,
   "metadata": {},
   "outputs": [],
   "source": [
    "def compare_review(model, review_texts, word_set):\n",
    "    similarities = []\n",
    "    for review_text in review_texts:\n",
    "        valid_text = [word for word in review_text if word in model.vocab]\n",
    "        if len(valid_text) == 0:\n",
    "            continue\n",
    "        similarities.append(model.n_similarity(valid_text, word_set))\n",
    "        #if sim > 0.4:\n",
    "        #    print(sim, \":\\n\", valid_text)\n",
    "    return np.mean(similarities)"
   ]
  },
  {
   "cell_type": "code",
   "execution_count": 192,
   "metadata": {},
   "outputs": [],
   "source": [
    "reviews_2012 = reviews.loc[(before < reviews.reviewTime) & (reviews.reviewTime < (before + pd.Timedelta('31 days'))), 'reviewText'].to_numpy()\n",
    "reviews_2017 = reviews.loc[(before < reviews.reviewTime) & (reviews.reviewTime < (after + pd.Timedelta('31 days'))), 'reviewText'].to_numpy()"
   ]
  },
  {
   "cell_type": "code",
   "execution_count": 194,
   "metadata": {},
   "outputs": [
    {
     "ename": "TypeError",
     "evalue": "compare_review() missing 2 required positional arguments: 'review_texts' and 'word_set'",
     "output_type": "error",
     "traceback": [
      "\u001b[0;31m---------------------------------------------------------------------------\u001b[0m",
      "\u001b[0;31mTypeError\u001b[0m                                 Traceback (most recent call last)",
      "\u001b[0;32m<ipython-input-194-263ccbc536da>\u001b[0m in \u001b[0;36m<module>\u001b[0;34m\u001b[0m\n\u001b[0;32m----> 1\u001b[0;31m \u001b[0mmean_sim_2012\u001b[0m \u001b[0;34m=\u001b[0m \u001b[0mcompare_review\u001b[0m\u001b[0;34m(\u001b[0m\u001b[0mreviews_2012\u001b[0m\u001b[0;34m)\u001b[0m\u001b[0;34m\u001b[0m\u001b[0;34m\u001b[0m\u001b[0m\n\u001b[0m\u001b[1;32m      2\u001b[0m \u001b[0mmean_sim_2017\u001b[0m \u001b[0;34m=\u001b[0m \u001b[0mcompare_review\u001b[0m\u001b[0;34m(\u001b[0m\u001b[0mreviews_2017\u001b[0m\u001b[0;34m)\u001b[0m\u001b[0;34m\u001b[0m\u001b[0;34m\u001b[0m\u001b[0m\n",
      "\u001b[0;31mTypeError\u001b[0m: compare_review() missing 2 required positional arguments: 'review_texts' and 'word_set'"
     ]
    }
   ],
   "source": [
    "mean_sim_2012 = compare_review(google_model, reviews_2012, veg_words)\n",
    "mean_sim_2017 = compare_review(reviews_2017, reviews_2017, veg_words)"
   ]
  },
  {
   "cell_type": "code",
   "execution_count": null,
   "metadata": {},
   "outputs": [],
   "source": [
    "google_model.most_similar(['christmas', 'food', 'meal', 'turkey', 'gravy', 'stuffing'])"
   ]
  },
  {
   "cell_type": "code",
   "execution_count": null,
   "metadata": {},
   "outputs": [],
   "source": [
    "google_model.most_similar(positive=['vegan', 'food'], negative=['meat'])"
   ]
  }
 ],
 "metadata": {
  "kernelspec": {
   "display_name": "Python 3",
   "language": "python",
   "name": "python3"
  },
  "language_info": {
   "codemirror_mode": {
    "name": "ipython",
    "version": 3
   },
   "file_extension": ".py",
   "mimetype": "text/x-python",
   "name": "python",
   "nbconvert_exporter": "python",
   "pygments_lexer": "ipython3",
   "version": "3.8.0"
  }
 },
 "nbformat": 4,
 "nbformat_minor": 4
}
